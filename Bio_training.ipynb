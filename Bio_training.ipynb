{
  "nbformat": 4,
  "nbformat_minor": 0,
  "metadata": {
    "colab": {
      "name": "Bio_training.ipynb",
      "version": "0.3.2",
      "provenance": [],
      "collapsed_sections": [],
      "include_colab_link": true
    },
    "kernelspec": {
      "name": "python3",
      "display_name": "Python 3"
    }
  },
  "cells": [
    {
      "cell_type": "markdown",
      "metadata": {
        "id": "view-in-github",
        "colab_type": "text"
      },
      "source": [
        "<a href=\"https://colab.research.google.com/github/Marel88/Bioinfo_7_1/blob/master/Bio_training.ipynb\" target=\"_parent\"><img src=\"https://colab.research.google.com/assets/colab-badge.svg\" alt=\"Open In Colab\"/></a>"
      ]
    },
    {
      "metadata": {
        "id": "1Ud-fcbAOSIs",
        "colab_type": "text"
      },
      "cell_type": "markdown",
      "source": [
        ""
      ]
    },
    {
      "metadata": {
        "id": "H4oUSSOuy7VP",
        "colab_type": "code",
        "colab": {}
      },
      "cell_type": "code",
      "source": [
        "!pip install py_wsi --no-index --find-links file:///Users/Mac/Desktop/py-wsi-1.1.zip\n",
        "!apt install openslide-tool\n",
        "!pip install openslide-python\n",
        "\n",
        "#SCRIPT FOR IMAGE CROPPING\n",
        "\n",
        "\n",
        "import py_wsi\n",
        "import py_wsi.imagepy_toolkit as tk\n",
        "from py_wsi import turtle\n",
        "\n",
        "file_dir = \"/Users/Mac/Desktop/ROI-dataset-bioinf/Training/Healthy/\"\n",
        "db_location = \"/Users/Mac/Desktop/ROI-dataset-bioinf/Training/Healthy_patches/\"\n",
        "xml_dir = file_dir\n",
        "patch_size = 64\n",
        "level = 10\n",
        "db_name = \"\"\n",
        "overlap = 0\n",
        "\n",
        "# All possible labels mapped to integer ids in order of increasing severity.\n",
        "label_map = {}\n",
        "\n",
        "turtle = turtle.Turtle(file_dir, db_location, db_name, xml_dir=xml_dir, label_map=label_map, storage_type='disk')\n",
        "turtle.sample_and_store_patches(patch_size, level, overlap, load_xml=False, limit_bounds=True)\n"
      ],
      "execution_count": 0,
      "outputs": []
    },
    {
      "metadata": {
        "id": "hN6CsP-bLPAf",
        "colab_type": "code",
        "outputId": "db929895-a67a-4887-8705-36b8e3460771",
        "colab": {
          "base_uri": "https://localhost:8080/",
          "height": 700
        }
      },
      "cell_type": "code",
      "source": [
        "#CNN BASE MODEL\n",
        "\n",
        "import numpy as np\n",
        "!pip3 install keras\n",
        "!pip3 install tensorflow==1.5.0"
      ],
      "execution_count": 0,
      "outputs": [
        {
          "output_type": "stream",
          "text": [
            "Requirement already satisfied: keras in /Library/Frameworks/Python.framework/Versions/3.6/lib/python3.6/site-packages (2.2.4)\n",
            "Requirement already satisfied: h5py in /Library/Frameworks/Python.framework/Versions/3.6/lib/python3.6/site-packages (from keras) (2.9.0)\n",
            "Requirement already satisfied: keras-applications>=1.0.6 in /Library/Frameworks/Python.framework/Versions/3.6/lib/python3.6/site-packages (from keras) (1.0.7)\n",
            "Requirement already satisfied: six>=1.9.0 in /Library/Frameworks/Python.framework/Versions/3.6/lib/python3.6/site-packages (from keras) (1.12.0)\n",
            "Requirement already satisfied: scipy>=0.14 in /Library/Frameworks/Python.framework/Versions/3.6/lib/python3.6/site-packages (from keras) (1.2.1)\n",
            "Requirement already satisfied: keras-preprocessing>=1.0.5 in /Library/Frameworks/Python.framework/Versions/3.6/lib/python3.6/site-packages (from keras) (1.0.9)\n",
            "Requirement already satisfied: numpy>=1.9.1 in /Library/Frameworks/Python.framework/Versions/3.6/lib/python3.6/site-packages (from keras) (1.14.6)\n",
            "Requirement already satisfied: pyyaml in /Library/Frameworks/Python.framework/Versions/3.6/lib/python3.6/site-packages (from keras) (5.1)\n",
            "Collecting tensorflow==1.5.0\n",
            "\u001b[?25l  Downloading https://files.pythonhosted.org/packages/f2/0b/da4f6379f12ca375b1155f542d0d36803ba2c6b406d39e6bde5eaa2f0abe/tensorflow-1.5.0-cp36-cp36m-macosx_10_11_x86_64.whl (42.5MB)\n",
            "\u001b[K    100% |████████████████████████████████| 42.5MB 106kB/s \n",
            "\u001b[?25hRequirement already satisfied: protobuf>=3.4.0 in /Library/Frameworks/Python.framework/Versions/3.6/lib/python3.6/site-packages (from tensorflow==1.5.0) (3.7.1)\n",
            "Requirement already satisfied: numpy>=1.12.1 in /Library/Frameworks/Python.framework/Versions/3.6/lib/python3.6/site-packages (from tensorflow==1.5.0) (1.14.6)\n",
            "Requirement already satisfied: six>=1.10.0 in /Library/Frameworks/Python.framework/Versions/3.6/lib/python3.6/site-packages (from tensorflow==1.5.0) (1.12.0)\n",
            "Requirement already satisfied: wheel>=0.26 in /Library/Frameworks/Python.framework/Versions/3.6/lib/python3.6/site-packages (from tensorflow==1.5.0) (0.33.1)\n",
            "Requirement already satisfied: absl-py>=0.1.6 in /Library/Frameworks/Python.framework/Versions/3.6/lib/python3.6/site-packages (from tensorflow==1.5.0) (0.7.1)\n",
            "Collecting tensorflow-tensorboard<1.6.0,>=1.5.0 (from tensorflow==1.5.0)\n",
            "\u001b[?25l  Downloading https://files.pythonhosted.org/packages/cc/fa/91c06952517b4f1bc075545b062a4112e30cebe558a6b962816cb33efa27/tensorflow_tensorboard-1.5.1-py3-none-any.whl (3.0MB)\n",
            "\u001b[K    100% |████████████████████████████████| 3.0MB 504kB/s \n",
            "\u001b[?25hRequirement already satisfied: setuptools in /Library/Frameworks/Python.framework/Versions/3.6/lib/python3.6/site-packages (from protobuf>=3.4.0->tensorflow==1.5.0) (39.0.1)\n",
            "Requirement already satisfied: markdown>=2.6.8 in /Library/Frameworks/Python.framework/Versions/3.6/lib/python3.6/site-packages (from tensorflow-tensorboard<1.6.0,>=1.5.0->tensorflow==1.5.0) (3.1)\n",
            "Collecting html5lib==0.9999999 (from tensorflow-tensorboard<1.6.0,>=1.5.0->tensorflow==1.5.0)\n",
            "\u001b[?25l  Downloading https://files.pythonhosted.org/packages/ae/ae/bcb60402c60932b32dfaf19bb53870b29eda2cd17551ba5639219fb5ebf9/html5lib-0.9999999.tar.gz (889kB)\n",
            "\u001b[K    100% |████████████████████████████████| 890kB 1.0MB/s \n",
            "\u001b[?25hCollecting bleach==1.5.0 (from tensorflow-tensorboard<1.6.0,>=1.5.0->tensorflow==1.5.0)\n",
            "  Downloading https://files.pythonhosted.org/packages/33/70/86c5fec937ea4964184d4d6c4f0b9551564f821e1c3575907639036d9b90/bleach-1.5.0-py2.py3-none-any.whl\n",
            "Requirement already satisfied: werkzeug>=0.11.10 in /Library/Frameworks/Python.framework/Versions/3.6/lib/python3.6/site-packages (from tensorflow-tensorboard<1.6.0,>=1.5.0->tensorflow==1.5.0) (0.15.2)\n",
            "Building wheels for collected packages: html5lib\n",
            "  Building wheel for html5lib (setup.py) ... \u001b[?25l-\b \b\\\b \b|\b \b/\b \b-\b \b\\\b \b|\b \bdone\n",
            "\u001b[?25h  Stored in directory: /Users/Mac/Library/Caches/pip/wheels/50/ae/f9/d2b189788efcf61d1ee0e36045476735c838898eef1cad6e29\n",
            "Successfully built html5lib\n",
            "Installing collected packages: html5lib, bleach, tensorflow-tensorboard, tensorflow\n",
            "  Found existing installation: bleach 3.1.0\n",
            "    Uninstalling bleach-3.1.0:\n",
            "      Successfully uninstalled bleach-3.1.0\n",
            "  Found existing installation: tensorflow 1.9.0\n",
            "    Uninstalling tensorflow-1.9.0:\n",
            "      Successfully uninstalled tensorflow-1.9.0\n",
            "Successfully installed bleach-1.5.0 html5lib-0.9999999 tensorflow-1.5.0 tensorflow-tensorboard-1.5.1\n"
          ],
          "name": "stdout"
        }
      ]
    },
    {
      "metadata": {
        "id": "g3BQ4dD9unk5",
        "colab_type": "code",
        "outputId": "bb77a776-7fef-4591-f06a-980ab26fb05a",
        "colab": {
          "base_uri": "https://localhost:8080/",
          "height": 394
        }
      },
      "cell_type": "code",
      "source": [
        "!pip install mxnet-mkl\n",
        "!pip install sklearn\n",
        "import keras\n",
        "from keras import backend as K\n",
        "from keras.models import Sequential\n",
        "from keras.layers import Activation\n",
        "from keras.layers.core import Dense, Flatten\n",
        "from keras.optimizers import Adam\n",
        "from keras.metrics import categorical_crossentropy\n",
        "from keras.preprocessing.image import ImageDataGenerator\n",
        "from keras.layers.normalization import BatchNormalization\n",
        "from keras.layers.convolutional import *\n",
        "from matplotlib import pyplot as plt\n",
        "from sklearn.metrics import confusion_matrix\n",
        "import itertools\n",
        "import matplotlib.pyplot as plt\n",
        "%matplotlib inline"
      ],
      "execution_count": 0,
      "outputs": [
        {
          "output_type": "stream",
          "text": [
            "Requirement already satisfied: mxnet-mkl in /Library/Frameworks/Python.framework/Versions/3.6/lib/python3.6/site-packages (1.4.0)\n",
            "Requirement already satisfied: numpy<1.15.0,>=1.8.2 in /Library/Frameworks/Python.framework/Versions/3.6/lib/python3.6/site-packages (from mxnet-mkl) (1.14.6)\n",
            "Requirement already satisfied: graphviz<0.9.0,>=0.8.1 in /Library/Frameworks/Python.framework/Versions/3.6/lib/python3.6/site-packages (from mxnet-mkl) (0.8.4)\n",
            "Requirement already satisfied: requests>=2.20.0 in /Library/Frameworks/Python.framework/Versions/3.6/lib/python3.6/site-packages (from mxnet-mkl) (2.21.0)\n",
            "Requirement already satisfied: certifi>=2017.4.17 in /Library/Frameworks/Python.framework/Versions/3.6/lib/python3.6/site-packages (from requests>=2.20.0->mxnet-mkl) (2019.3.9)\n",
            "Requirement already satisfied: chardet<3.1.0,>=3.0.2 in /Library/Frameworks/Python.framework/Versions/3.6/lib/python3.6/site-packages (from requests>=2.20.0->mxnet-mkl) (3.0.4)\n",
            "Requirement already satisfied: idna<2.9,>=2.5 in /Library/Frameworks/Python.framework/Versions/3.6/lib/python3.6/site-packages (from requests>=2.20.0->mxnet-mkl) (2.8)\n",
            "Requirement already satisfied: urllib3<1.25,>=1.21.1 in /Library/Frameworks/Python.framework/Versions/3.6/lib/python3.6/site-packages (from requests>=2.20.0->mxnet-mkl) (1.24.1)\n",
            "Collecting sklearn\n",
            "  Downloading https://files.pythonhosted.org/packages/1e/7a/dbb3be0ce9bd5c8b7e3d87328e79063f8b263b2b1bfa4774cb1147bfcd3f/sklearn-0.0.tar.gz\n",
            "Collecting scikit-learn (from sklearn)\n",
            "\u001b[?25l  Downloading https://files.pythonhosted.org/packages/7e/90/bfe484adb16cdad078967b2b480517ec6c1180137e26fb4b015bcb090226/scikit_learn-0.20.3-cp36-cp36m-macosx_10_6_intel.macosx_10_9_intel.macosx_10_9_x86_64.macosx_10_10_intel.macosx_10_10_x86_64.whl (8.0MB)\n",
            "\u001b[K    100% |████████████████████████████████| 8.0MB 443kB/s \n",
            "\u001b[?25hRequirement already satisfied: numpy>=1.8.2 in /Library/Frameworks/Python.framework/Versions/3.6/lib/python3.6/site-packages (from scikit-learn->sklearn) (1.14.6)\n",
            "Requirement already satisfied: scipy>=0.13.3 in /Library/Frameworks/Python.framework/Versions/3.6/lib/python3.6/site-packages (from scikit-learn->sklearn) (1.2.1)\n",
            "Building wheels for collected packages: sklearn\n",
            "  Building wheel for sklearn (setup.py) ... \u001b[?25l-\b \b\\\b \b|\b \b/\b \bdone\n",
            "\u001b[?25h  Stored in directory: /Users/Mac/Library/Caches/pip/wheels/76/03/bb/589d421d27431bcd2c6da284d5f2286c8e3b2ea3cf1594c074\n",
            "Successfully built sklearn\n",
            "Installing collected packages: scikit-learn, sklearn\n",
            "Successfully installed scikit-learn-0.20.3 sklearn-0.0\n"
          ],
          "name": "stdout"
        }
      ]
    },
    {
      "metadata": {
        "id": "NaQkjeNR7MnV",
        "colab_type": "code",
        "colab": {}
      },
      "cell_type": "code",
      "source": [
        "train_path=\"/Users/Mac/Desktop/ROI-dataset-bioinf/Training/Patches/\"\n",
        "valid_path=\"/Users/Mac/Desktop/ROI-dataset-bioinf/Validation/Patches\"\n",
        "test_path =\"/Users/Mac/Desktop/ROI-dataset-bioinf/Test/Patches\""
      ],
      "execution_count": 0,
      "outputs": []
    },
    {
      "metadata": {
        "id": "UzyWGHvlC_Fb",
        "colab_type": "code",
        "outputId": "9739d7a2-98cf-4c6b-947b-7914cbc226bb",
        "colab": {
          "base_uri": "https://localhost:8080/",
          "height": 34
        }
      },
      "cell_type": "code",
      "source": [
        "train_batches = ImageDataGenerator().flow_from_directory(train_path, target_size=(64,64), classes=['Benign', 'Healthy', 'Cancer'], batch_size=10)\n",
        "valid_batches = ImageDataGenerator().flow_from_directory(valid_path, target_size=(64,64), classes=['Benign', 'Healthy', 'Cancer'], batch_size=10)"
      ],
      "execution_count": 0,
      "outputs": [
        {
          "output_type": "stream",
          "text": [
            "Found 6817 images belonging to 3 classes.\n"
          ],
          "name": "stdout"
        }
      ]
    },
    {
      "metadata": {
        "id": "eAojE2gzNTCM",
        "colab_type": "code",
        "outputId": "f0df10d6-9461-4a59-9d55-3c894a139256",
        "colab": {
          "base_uri": "https://localhost:8080/",
          "height": 207
        }
      },
      "cell_type": "code",
      "source": [
        "!pip3 install keras_tqdm"
      ],
      "execution_count": 0,
      "outputs": [
        {
          "output_type": "stream",
          "text": [
            "Requirement already satisfied: keras_tqdm in /Library/Frameworks/Python.framework/Versions/3.6/lib/python3.6/site-packages (2.0.1)\n",
            "Requirement already satisfied: tqdm in /Library/Frameworks/Python.framework/Versions/3.6/lib/python3.6/site-packages (from keras_tqdm) (4.31.1)\n",
            "Requirement already satisfied: Keras in /Library/Frameworks/Python.framework/Versions/3.6/lib/python3.6/site-packages (from keras_tqdm) (2.2.4)\n",
            "Requirement already satisfied: keras-applications>=1.0.6 in /Library/Frameworks/Python.framework/Versions/3.6/lib/python3.6/site-packages (from Keras->keras_tqdm) (1.0.7)\n",
            "Requirement already satisfied: h5py in /Library/Frameworks/Python.framework/Versions/3.6/lib/python3.6/site-packages (from Keras->keras_tqdm) (2.9.0)\n",
            "Requirement already satisfied: keras-preprocessing>=1.0.5 in /Library/Frameworks/Python.framework/Versions/3.6/lib/python3.6/site-packages (from Keras->keras_tqdm) (1.0.9)\n",
            "Requirement already satisfied: numpy>=1.9.1 in /Library/Frameworks/Python.framework/Versions/3.6/lib/python3.6/site-packages (from Keras->keras_tqdm) (1.14.6)\n",
            "Requirement already satisfied: scipy>=0.14 in /Library/Frameworks/Python.framework/Versions/3.6/lib/python3.6/site-packages (from Keras->keras_tqdm) (1.2.1)\n",
            "Requirement already satisfied: six>=1.9.0 in /Library/Frameworks/Python.framework/Versions/3.6/lib/python3.6/site-packages (from Keras->keras_tqdm) (1.12.0)\n",
            "Requirement already satisfied: pyyaml in /Library/Frameworks/Python.framework/Versions/3.6/lib/python3.6/site-packages (from Keras->keras_tqdm) (5.1)\n"
          ],
          "name": "stdout"
        }
      ]
    },
    {
      "metadata": {
        "id": "hHZqlcqRQC2g",
        "colab_type": "code",
        "colab": {}
      },
      "cell_type": "code",
      "source": [
        "!pip install tensof\n",
        "import keras\n",
        "\n",
        "# Build model\n",
        "model = Sequential()\n",
        "model.add(Conv2D(32, (3,3), activation=\"relu\", input_shape=(64, 64, 3)))\n",
        "model.add(flatten())\n",
        "model.add(Dense(3, activation=\"softmax\"))\n",
        "\n",
        "# Compile model\n",
        "model.compile(Adam(lr=.0001), loss=\"categorical_crossentropy\", metrics=['accuracy'])\n",
        "\n",
        "# Train model\n",
        "# steps_per_epoch calculated as number of images in train set divided by 10\n",
        "model.fit_generator(train_batches, steps_per_epoch=681, valid_batches, validation_steps=681, epoch=5, verbose=2)"
      ],
      "execution_count": 0,
      "outputs": []
    }
  ]
}