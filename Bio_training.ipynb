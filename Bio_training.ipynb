{
  "nbformat": 4,
  "nbformat_minor": 0,
  "metadata": {
    "colab": {
      "name": "Bio_training.ipynb",
      "version": "0.3.2",
      "provenance": [],
      "collapsed_sections": [],
      "include_colab_link": true
    },
    "kernelspec": {
      "name": "python3",
      "display_name": "Python 3"
    },
    "accelerator": "GPU"
  },
  "cells": [
    {
      "cell_type": "markdown",
      "metadata": {
        "id": "view-in-github",
        "colab_type": "text"
      },
      "source": [
        "<a href=\"https://colab.research.google.com/github/Marel88/Bioinfo_7_1/blob/master/Bio_training.ipynb\" target=\"_parent\"><img src=\"https://colab.research.google.com/assets/colab-badge.svg\" alt=\"Open In Colab\"/></a>"
      ]
    },
    {
      "metadata": {
        "id": "LzELL8aM7GgM",
        "colab_type": "text"
      },
      "cell_type": "markdown",
      "source": [
        "**FOR GOOGLE DRIVE IMPORT**"
      ]
    },
    {
      "metadata": {
        "id": "V752DLAGyHSt",
        "colab_type": "text"
      },
      "cell_type": "markdown",
      "source": [
        "**Auth Code: **  4/OAHVO-FYe-We-bQDjlsGLYHCnoXXO7QhiqEVqnID3ZwYv8rbWxamVQI\n",
        "\n"
      ]
    },
    {
      "metadata": {
        "id": "u3ONVKn-7eZI",
        "colab_type": "code",
        "outputId": "8cbcad31-a699-4822-b23d-a5f1b69c1973",
        "colab": {
          "base_uri": "https://localhost:8080/",
          "height": 122
        }
      },
      "cell_type": "code",
      "source": [
        "from google.colab import drive\n",
        "drive.mount('/content/gdrive')"
      ],
      "execution_count": 2,
      "outputs": [
        {
          "output_type": "stream",
          "text": [
            "Go to this URL in a browser: https://accounts.google.com/o/oauth2/auth?client_id=947318989803-6bn6qk8qdgf4n4g3pfee6491hc0brc4i.apps.googleusercontent.com&redirect_uri=urn%3Aietf%3Awg%3Aoauth%3A2.0%3Aoob&scope=email%20https%3A%2F%2Fwww.googleapis.com%2Fauth%2Fdocs.test%20https%3A%2F%2Fwww.googleapis.com%2Fauth%2Fdrive%20https%3A%2F%2Fwww.googleapis.com%2Fauth%2Fdrive.photos.readonly%20https%3A%2F%2Fwww.googleapis.com%2Fauth%2Fpeopleapi.readonly&response_type=code\n",
            "\n",
            "Enter your authorization code:\n",
            "··········\n",
            "Mounted at /content/gdrive\n"
          ],
          "name": "stdout"
        }
      ]
    },
    {
      "metadata": {
        "id": "G0EP9-6VtU73",
        "colab_type": "text"
      },
      "cell_type": "markdown",
      "source": [
        "**DATASET PRE PROCESSING**"
      ]
    },
    {
      "metadata": {
        "id": "H4oUSSOuy7VP",
        "colab_type": "code",
        "colab": {
          "base_uri": "https://localhost:8080/",
          "height": 241
        },
        "outputId": "71a8ee34-4562-4df1-a23b-31573e91ddaf"
      },
      "cell_type": "code",
      "source": [
        "!pip install py_wsi --no-index --find-links file:///Users/Mac/Desktop/py-wsi-1.1.zip\n",
        "!apt install openslide-tool\n",
        "!pip install openslide-python\n",
        "\n",
        "#SCRIPT FOR IMAGE CROPPING\n",
        "\n",
        "\n",
        "import py_wsi\n",
        "import py_wsi.imagepy_toolkit as tk\n",
        "from py_wsi import turtle\n",
        "from pathlib import Path\n",
        "\n",
        "#file_dir = \"/Users/Mac/Desktop/ROI-dataset-bioinf/\"\n",
        "location = \"/Users/Mac/Desktop/ROI-dataset-bioinf/Img_Dataset/\"\n",
        "\n",
        "def wsi_cropping(path):\n",
        "    folders = [path + \"/Healthy/\", path + \"/Benign/\", path + \"/Cancer/\"]\n",
        "    \n",
        "    for folder in folders:\n",
        "        file_dir=folder\n",
        "        p = Path(folder)\n",
        "        part = p.parts\n",
        "        db_location= location + part[5] + part[0] + part[6] + part[0]\n",
        "        print(file_dir)\n",
        "        print(db_location)\n",
        "        \n",
        "        xml_dir = file_dir\n",
        "        patch_size = 224\n",
        "        level = 10\n",
        "        db_name = \"\"\n",
        "        overlap = 0\n",
        "\n",
        "        # All possible labels mapped to integer ids in order of increasing severity.\n",
        "        label_map = {}\n",
        "\n",
        "        turtle_obj = turtle.Turtle(file_dir, db_location, db_name, xml_dir=xml_dir, label_map=label_map, storage_type='disk')\n",
        "        turtle_obj.sample_and_store_patches(patch_size, level, overlap, load_xml=False, limit_bounds=True)\n",
        "        \n",
        "    return;"
      ],
      "execution_count": 44,
      "outputs": [
        {
          "output_type": "stream",
          "text": [
            "Looking in links: file:///Users/Mac/Desktop/py-wsi-1.1.zip\r\n",
            "Requirement already satisfied: py_wsi in /Library/Frameworks/Python.framework/Versions/3.6/lib/python3.6/site-packages (1.1)\r\n",
            "Requirement already satisfied: shapely in /Library/Frameworks/Python.framework/Versions/3.6/lib/python3.6/site-packages (from py_wsi) (1.6.4.post2)\n",
            "Requirement already satisfied: numpy in /Library/Frameworks/Python.framework/Versions/3.6/lib/python3.6/site-packages (from py_wsi) (1.14.6)\n",
            "Requirement already satisfied: openslide-python in /Library/Frameworks/Python.framework/Versions/3.6/lib/python3.6/site-packages (from py_wsi) (1.1.1)\n",
            "Requirement already satisfied: lmdb in /Library/Frameworks/Python.framework/Versions/3.6/lib/python3.6/site-packages (from py_wsi) (0.94)\n",
            "Requirement already satisfied: Pillow in /Library/Frameworks/Python.framework/Versions/3.6/lib/python3.6/site-packages (from py_wsi) (6.0.0)\n",
            "Unable to locate an executable at \"/Library/Java/JavaVirtualMachines/jdk1.8.0_111.jdk/Contents/Home/bin/apt\" (-1)\n",
            "Requirement already satisfied: openslide-python in /Library/Frameworks/Python.framework/Versions/3.6/lib/python3.6/site-packages (1.1.1)\n",
            "Requirement already satisfied: Pillow in /Library/Frameworks/Python.framework/Versions/3.6/lib/python3.6/site-packages (from openslide-python) (6.0.0)\n",
            "\u001b[33mYou are using pip version 19.0.3, however version 19.1 is available.\n",
            "You should consider upgrading via the 'pip install --upgrade pip' command.\u001b[0m\n"
          ],
          "name": "stdout"
        }
      ]
    },
    {
      "metadata": {
        "id": "6CH8d5IQqXMY",
        "colab_type": "code",
        "colab": {
          "base_uri": "https://localhost:8080/",
          "height": 2332
        },
        "outputId": "b38e520b-d41e-4a6e-806e-9cccd5f663dd"
      },
      "cell_type": "code",
      "source": [
        "#LOOP TO CROP WSI PER FOLDERS\n",
        "\n",
        "main_path=\"/Users/Mac/Desktop/ROI-dataset-bioinf\"\n",
        "main_folders = [main_path + \"/Test\", main_path + \"/Training\", main_path + \"/Validation\"]\n",
        "\n",
        "for main_folder in main_folders:\n",
        "    new_path = main_folder\n",
        "    wsi_cropping(new_path)"
      ],
      "execution_count": 45,
      "outputs": [
        {
          "output_type": "stream",
          "text": [
            "/Users/Mac/Desktop/ROI-dataset-bioinf/Test/Healthy/\n",
            "/Users/Mac/Desktop/ROI-dataset-bioinf/Img_Dataset/Test/Healthy/\n",
            "======================================================\n",
            "Storage type:               disk\n",
            "Images directory:           /Users/Mac/Desktop/ROI-dataset-bioinf/Test/Healthy/\n",
            "Data store directory:       /Users/Mac/Desktop/ROI-dataset-bioinf/Img_Dataset/Test/Healthy/\n",
            "Images found:               8\n",
            "======================================================\n",
            "49_H_1.svs 49_H_2.svs 49_H_3.svs 49_H_4.svs 49_H_5.svs 49_H_6.svs 49_H_7.svs 49_H_8.svs \n",
            "============ Patches Dataset Stats ===========\n",
            "Total patches sampled:                     30\n",
            "Patches saved to:                          /Users/Mac/Desktop/ROI-dataset-bioinf/Img_Dataset/Test/Healthy/\n",
            "Patches saved with prefix:                 \n",
            "\n",
            "Time usage: 0:00:23\n",
            "/Users/Mac/Desktop/ROI-dataset-bioinf/Test/Benign/\n",
            "/Users/Mac/Desktop/ROI-dataset-bioinf/Img_Dataset/Test/Benign/\n",
            "======================================================\n",
            "Storage type:               disk\n",
            "Images directory:           /Users/Mac/Desktop/ROI-dataset-bioinf/Test/Benign/\n",
            "Data store directory:       /Users/Mac/Desktop/ROI-dataset-bioinf/Img_Dataset/Test/Benign/\n",
            "Images found:               3\n",
            "======================================================\n",
            "32_AD_1.svs 32_AD_2.svs 32_AD_3.svs \n",
            "============ Patches Dataset Stats ===========\n",
            "Total patches sampled:                     9\n",
            "Patches saved to:                          /Users/Mac/Desktop/ROI-dataset-bioinf/Img_Dataset/Test/Benign/\n",
            "Patches saved with prefix:                 \n",
            "\n",
            "Time usage: 0:00:10\n",
            "/Users/Mac/Desktop/ROI-dataset-bioinf/Test/Cancer/\n",
            "/Users/Mac/Desktop/ROI-dataset-bioinf/Img_Dataset/Test/Cancer/\n",
            "======================================================\n",
            "Storage type:               disk\n",
            "Images directory:           /Users/Mac/Desktop/ROI-dataset-bioinf/Test/Cancer/\n",
            "Data store directory:       /Users/Mac/Desktop/ROI-dataset-bioinf/Img_Dataset/Test/Cancer/\n",
            "Images found:               3\n",
            "======================================================\n",
            "40_AC_1.svs 40_AC_2.svs 40_AC_3.svs \n",
            "============ Patches Dataset Stats ===========\n",
            "Total patches sampled:                     9\n",
            "Patches saved to:                          /Users/Mac/Desktop/ROI-dataset-bioinf/Img_Dataset/Test/Cancer/\n",
            "Patches saved with prefix:                 \n",
            "\n",
            "Time usage: 0:00:07\n",
            "/Users/Mac/Desktop/ROI-dataset-bioinf/Training/Healthy/\n",
            "/Users/Mac/Desktop/ROI-dataset-bioinf/Img_Dataset/Training/Healthy/\n",
            "======================================================\n",
            "Storage type:               disk\n",
            "Images directory:           /Users/Mac/Desktop/ROI-dataset-bioinf/Training/Healthy/\n",
            "Data store directory:       /Users/Mac/Desktop/ROI-dataset-bioinf/Img_Dataset/Training/Healthy/\n",
            "Images found:               19\n",
            "======================================================\n",
            "18_H_1.svs 18_H_2.svs 18_H_3.svs 18_H_4.svs 20_H_1.svs 20_H_2.svs 20_H_3.svs 44_H_1.svs 44_H_2.svs 44_H_3.svs 46_H_1.svs 46_H_2.svs 46_H_3.svs 48_H_1.svs 48_H_2.svs 48_H_3.svs 7_H_1.svs 7_H_2.svs 7_H_3.svs \n",
            "============ Patches Dataset Stats ===========\n",
            "Total patches sampled:                     57\n",
            "Patches saved to:                          /Users/Mac/Desktop/ROI-dataset-bioinf/Img_Dataset/Training/Healthy/\n",
            "Patches saved with prefix:                 \n",
            "\n",
            "Time usage: 0:00:40\n",
            "/Users/Mac/Desktop/ROI-dataset-bioinf/Training/Benign/\n",
            "/Users/Mac/Desktop/ROI-dataset-bioinf/Img_Dataset/Training/Benign/\n",
            "======================================================\n",
            "Storage type:               disk\n",
            "Images directory:           /Users/Mac/Desktop/ROI-dataset-bioinf/Training/Benign/\n",
            "Data store directory:       /Users/Mac/Desktop/ROI-dataset-bioinf/Img_Dataset/Training/Benign/\n",
            "Images found:               18\n",
            "======================================================\n",
            "24_AD_1.svs 24_AD_2.svs 24_AD_3.svs 25_AD_1.svs 25_AD_2.svs 25_AD_3.svs 27_AD_1.svs 27_AD_2.svs 27_AD_3.svs 28_AD_1.svs 28_AD_2.svs 28_AD_3.svs 29_AD_1.svs 29_AD_2.svs 29_AD_3.svs 30_AD_1.svs 30_AD_2.svs 30_AD_3.svs \n",
            "============ Patches Dataset Stats ===========\n",
            "Total patches sampled:                     54\n",
            "Patches saved to:                          /Users/Mac/Desktop/ROI-dataset-bioinf/Img_Dataset/Training/Benign/\n",
            "Patches saved with prefix:                 \n",
            "\n",
            "Time usage: 0:00:35\n",
            "/Users/Mac/Desktop/ROI-dataset-bioinf/Training/Cancer/\n",
            "/Users/Mac/Desktop/ROI-dataset-bioinf/Img_Dataset/Training/Cancer/\n",
            "======================================================\n",
            "Storage type:               disk\n",
            "Images directory:           /Users/Mac/Desktop/ROI-dataset-bioinf/Training/Cancer/\n",
            "Data store directory:       /Users/Mac/Desktop/ROI-dataset-bioinf/Img_Dataset/Training/Cancer/\n",
            "Images found:               13\n",
            "======================================================\n",
            "12_AC_1.svs 12_AC_2.svs 15_AC_1.svs 15_AC_2.svs 16_AC_1.svs 16_AC_2.svs 16_AC_3.svs 21_AC_1.svs 21_AC_2.svs 2_AC_1.svs 2_AC_2.svs 6_AC_1.svs 6_AC_2.svs \n",
            "============ Patches Dataset Stats ===========\n",
            "Total patches sampled:                     39\n",
            "Patches saved to:                          /Users/Mac/Desktop/ROI-dataset-bioinf/Img_Dataset/Training/Cancer/\n",
            "Patches saved with prefix:                 \n",
            "\n",
            "Time usage: 0:00:26\n",
            "/Users/Mac/Desktop/ROI-dataset-bioinf/Validation/Healthy/\n",
            "/Users/Mac/Desktop/ROI-dataset-bioinf/Img_Dataset/Validation/Healthy/\n",
            "======================================================\n",
            "Storage type:               disk\n",
            "Images directory:           /Users/Mac/Desktop/ROI-dataset-bioinf/Validation/Healthy/\n",
            "Data store directory:       /Users/Mac/Desktop/ROI-dataset-bioinf/Img_Dataset/Validation/Healthy/\n",
            "Images found:               15\n",
            "======================================================\n",
            "50_H_1.svs 50_H_2.svs 50_H_3.svs 50_H_4.svs 50_H_5.svs 50_H_6.svs 50_H_7.svs 55_H_1.svs 55_H_2.svs 55_H_3.svs 55_H_4.svs 55_H_5.svs 55_H_6.svs 55_H_7.svs 55_H_8.svs \n",
            "============ Patches Dataset Stats ===========\n",
            "Total patches sampled:                     60\n",
            "Patches saved to:                          /Users/Mac/Desktop/ROI-dataset-bioinf/Img_Dataset/Validation/Healthy/\n",
            "Patches saved with prefix:                 \n",
            "\n",
            "Time usage: 0:00:28\n",
            "/Users/Mac/Desktop/ROI-dataset-bioinf/Validation/Benign/\n",
            "/Users/Mac/Desktop/ROI-dataset-bioinf/Img_Dataset/Validation/Benign/\n",
            "======================================================\n",
            "Storage type:               disk\n",
            "Images directory:           /Users/Mac/Desktop/ROI-dataset-bioinf/Validation/Benign/\n",
            "Data store directory:       /Users/Mac/Desktop/ROI-dataset-bioinf/Img_Dataset/Validation/Benign/\n",
            "Images found:               6\n",
            "======================================================\n",
            "38_AD_1.svs 38_AD_2.svs 38_AD_3.svs 42_AD_1.svs 42_AD_2.svs 42_AD_3.svs \n",
            "============ Patches Dataset Stats ===========\n",
            "Total patches sampled:                     18\n",
            "Patches saved to:                          /Users/Mac/Desktop/ROI-dataset-bioinf/Img_Dataset/Validation/Benign/\n",
            "Patches saved with prefix:                 \n",
            "\n",
            "Time usage: 0:00:13\n",
            "/Users/Mac/Desktop/ROI-dataset-bioinf/Validation/Cancer/\n",
            "/Users/Mac/Desktop/ROI-dataset-bioinf/Img_Dataset/Validation/Cancer/\n",
            "======================================================\n",
            "Storage type:               disk\n",
            "Images directory:           /Users/Mac/Desktop/ROI-dataset-bioinf/Validation/Cancer/\n",
            "Data store directory:       /Users/Mac/Desktop/ROI-dataset-bioinf/Img_Dataset/Validation/Cancer/\n",
            "Images found:               7\n",
            "======================================================\n",
            "41_AC_1.svs 41_AC_2.svs 41_AC_3.svs 43_AC_1.svs 43_AC_2.svs 43_AC_3.svs 43_AC_4.svs \n",
            "============ Patches Dataset Stats ===========\n",
            "Total patches sampled:                     21\n",
            "Patches saved to:                          /Users/Mac/Desktop/ROI-dataset-bioinf/Img_Dataset/Validation/Cancer/\n",
            "Patches saved with prefix:                 \n",
            "\n",
            "Time usage: 0:00:12\n"
          ],
          "name": "stdout"
        }
      ]
    },
    {
      "metadata": {
        "id": "yseE6-5C-gxs",
        "colab_type": "code",
        "colab": {
          "base_uri": "https://localhost:8080/",
          "height": 34
        },
        "outputId": "ee733aa0-50fe-482c-c1f9-845ee779dc84"
      },
      "cell_type": "code",
      "source": [
        "from pathlib import Path\n",
        "p=Path(main_path)\n",
        "\n",
        "pezzi = p.parts\n",
        "pezzi[0] + pezzi[3] + pezzi[0] + pezzi[4]"
      ],
      "execution_count": 28,
      "outputs": [
        {
          "output_type": "execute_result",
          "data": {
            "text/plain": [
              "'/Desktop/ROI-dataset-bioinf'"
            ]
          },
          "metadata": {
            "tags": []
          },
          "execution_count": 28
        }
      ]
    },
    {
      "metadata": {
        "id": "XaISfS_fvzVz",
        "colab_type": "text"
      },
      "cell_type": "markdown",
      "source": [
        "**SCRIPT FOR ERASING ONLY WHITE IMAGES**"
      ]
    },
    {
      "metadata": {
        "id": "fuEFrnvMv5bi",
        "colab_type": "code",
        "colab": {}
      },
      "cell_type": "code",
      "source": [
        "#the function for deleting white patches\n",
        "\n",
        "import cv2\n",
        "import os\n",
        "import glob\n",
        "\n",
        "def deleteWhite(path):                                              #path is the path of the Patches folder\n",
        "    \"\"\"Function that deletes all patches that are completely (or mostly) white.\"\"\"\n",
        "\n",
        "    folders = [path + \"/Healthy\", path + \"/Benign\", path + \"/Cancer\"]\n",
        "    for folder in folders:                                          #loops through the three folders of patches\n",
        "        count = 0\n",
        "        for filename in glob.glob(os.path.join(folder, '*.png')):   #sequentially selects each .png file in the current folder\n",
        "            img = cv2.imread(filename)\n",
        "            (x,y,z) = img.shape                                     #img.shap is 64 64 3\n",
        "            white = 0\n",
        "            for i in range(0,x):                                    #analyzes the image pixel by pixel\n",
        "                for j in range(0,y):\n",
        "                    pixel = img[i,j]\n",
        "                    b = pixel[0]\n",
        "                    g = pixel[1]\n",
        "                    r = pixel[2]\n",
        "                    if b == 255:                                    #if b,g,r are all 255 it means the pixel is white\n",
        "                    #if b == 211:   \n",
        "                      if g == 255:\n",
        "                      #if g == 211:\n",
        "                          if r == 255:\n",
        "                          #if r == 211:\n",
        "                                white = white + 1                   #I use white as a counter to keep track of the number of white pixels\n",
        "                    if white > 50:                                  #in the dataset that we have, an image having a few white pixels means it will be almost all white\n",
        "                        break                                       #thus to make the process a bit shorter I only count to 50 white pixels and then break the loop, since it is unneded to count further\n",
        "                if white > 50:\n",
        "                    break\n",
        "            if white > 50:                                          #if a patch is found to have many white pixels (which means it will be mostly white) I delete it from its folder\n",
        "                os.remove(filename)\n",
        "                count = count + 1\n",
        "        print(\"Deleted\",count,\"patches in\",folder)\n",
        "\n",
        "    return;"
      ],
      "execution_count": 0,
      "outputs": []
    },
    {
      "metadata": {
        "id": "b44RtPXH6tkR",
        "colab_type": "code",
        "colab": {
          "base_uri": "https://localhost:8080/",
          "height": 170
        },
        "outputId": "b52b2b4b-cb55-408b-c963-2b85a64c3647"
      },
      "cell_type": "code",
      "source": [
        "#LOOP TO CLEAN UP FOLDERS\n",
        "\n",
        "#main_path=\"/content/gdrive/My Drive/Bioinformatica/Organized dataset\"\n",
        "main_path='/Users/Mac/Desktop/ROI-dataset-bioinf/Img_Dataset'\n",
        "main_folders = [main_path + \"/Test\", main_path + \"/Training\", main_path + \"/Validation\"]\n",
        "for main_folder in main_folders:\n",
        "    new_path = main_folder\n",
        "    deleteWhite(new_path)"
      ],
      "execution_count": 47,
      "outputs": [
        {
          "output_type": "stream",
          "text": [
            "Deleted 8 patches in /Users/Mac/Desktop/ROI-dataset-bioinf/Img_Dataset//Test/Healthy\n",
            "Deleted 4 patches in /Users/Mac/Desktop/ROI-dataset-bioinf/Img_Dataset//Test/Benign\n",
            "Deleted 6 patches in /Users/Mac/Desktop/ROI-dataset-bioinf/Img_Dataset//Test/Cancer\n",
            "Deleted 34 patches in /Users/Mac/Desktop/ROI-dataset-bioinf/Img_Dataset//Training/Healthy\n",
            "Deleted 30 patches in /Users/Mac/Desktop/ROI-dataset-bioinf/Img_Dataset//Training/Benign\n",
            "Deleted 20 patches in /Users/Mac/Desktop/ROI-dataset-bioinf/Img_Dataset//Training/Cancer\n",
            "Deleted 20 patches in /Users/Mac/Desktop/ROI-dataset-bioinf/Img_Dataset//Validation/Healthy\n",
            "Deleted 8 patches in /Users/Mac/Desktop/ROI-dataset-bioinf/Img_Dataset//Validation/Benign\n",
            "Deleted 10 patches in /Users/Mac/Desktop/ROI-dataset-bioinf/Img_Dataset//Validation/Cancer\n"
          ],
          "name": "stdout"
        }
      ]
    },
    {
      "metadata": {
        "id": "eiShUK7CtamG",
        "colab_type": "text"
      },
      "cell_type": "markdown",
      "source": [
        "**CNN BASE**"
      ]
    },
    {
      "metadata": {
        "id": "g3BQ4dD9unk5",
        "colab_type": "code",
        "colab": {
          "base_uri": "https://localhost:8080/",
          "height": 938
        },
        "outputId": "106d04a0-0f65-4665-934a-9ef77fab2ffb"
      },
      "cell_type": "code",
      "source": [
        "#CNN BASE MODEL - DATA LOADING\n",
        "\n",
        "import numpy as np\n",
        "!pip3 install keras\n",
        "#!pip3 install tensorflow==1.5.0\n",
        "!pip3 install tensorflow\n",
        "!pip install mxnet-mkl\n",
        "!pip3 install sklearn\n",
        "!pip3 install keras_tqdm\n",
        "!pip install scipy\n",
        "import keras\n",
        "from keras import backend as K\n",
        "from keras.models import Sequential\n",
        "from keras.layers import Activation\n",
        "from keras.layers.core import Dense, Flatten\n",
        "from keras.optimizers import Adam\n",
        "from keras.metrics import categorical_crossentropy\n",
        "from keras.preprocessing.image import ImageDataGenerator\n",
        "from keras.layers.normalization import BatchNormalization\n",
        "from keras.layers.convolutional import *\n",
        "from matplotlib import pyplot as plt\n",
        "from sklearn.metrics import *\n",
        "import itertools\n",
        "import matplotlib.pyplot as plt\n",
        "%matplotlib inline"
      ],
      "execution_count": 1,
      "outputs": [
        {
          "output_type": "stream",
          "text": [
            "Requirement already satisfied: keras in /usr/local/lib/python3.6/dist-packages (2.2.4)\n",
            "Requirement already satisfied: keras-applications>=1.0.6 in /usr/local/lib/python3.6/dist-packages (from keras) (1.0.7)\n",
            "Requirement already satisfied: six>=1.9.0 in /usr/local/lib/python3.6/dist-packages (from keras) (1.12.0)\n",
            "Requirement already satisfied: pyyaml in /usr/local/lib/python3.6/dist-packages (from keras) (3.13)\n",
            "Requirement already satisfied: numpy>=1.9.1 in /usr/local/lib/python3.6/dist-packages (from keras) (1.14.6)\n",
            "Requirement already satisfied: scipy>=0.14 in /usr/local/lib/python3.6/dist-packages (from keras) (1.2.1)\n",
            "Requirement already satisfied: keras-preprocessing>=1.0.5 in /usr/local/lib/python3.6/dist-packages (from keras) (1.0.9)\n",
            "Requirement already satisfied: h5py in /usr/local/lib/python3.6/dist-packages (from keras) (2.8.0)\n",
            "Requirement already satisfied: tensorflow in /usr/local/lib/python3.6/dist-packages (1.13.1)\n",
            "Requirement already satisfied: absl-py>=0.1.6 in /usr/local/lib/python3.6/dist-packages (from tensorflow) (0.7.1)\n",
            "Requirement already satisfied: grpcio>=1.8.6 in /usr/local/lib/python3.6/dist-packages (from tensorflow) (1.15.0)\n",
            "Requirement already satisfied: gast>=0.2.0 in /usr/local/lib/python3.6/dist-packages (from tensorflow) (0.2.2)\n",
            "Requirement already satisfied: numpy>=1.13.3 in /usr/local/lib/python3.6/dist-packages (from tensorflow) (1.14.6)\n",
            "Requirement already satisfied: termcolor>=1.1.0 in /usr/local/lib/python3.6/dist-packages (from tensorflow) (1.1.0)\n",
            "Requirement already satisfied: astor>=0.6.0 in /usr/local/lib/python3.6/dist-packages (from tensorflow) (0.7.1)\n",
            "Requirement already satisfied: six>=1.10.0 in /usr/local/lib/python3.6/dist-packages (from tensorflow) (1.12.0)\n",
            "Requirement already satisfied: tensorflow-estimator<1.14.0rc0,>=1.13.0 in /usr/local/lib/python3.6/dist-packages (from tensorflow) (1.13.0)\n",
            "Requirement already satisfied: tensorboard<1.14.0,>=1.13.0 in /usr/local/lib/python3.6/dist-packages (from tensorflow) (1.13.1)\n",
            "Requirement already satisfied: protobuf>=3.6.1 in /usr/local/lib/python3.6/dist-packages (from tensorflow) (3.7.1)\n",
            "Requirement already satisfied: wheel>=0.26 in /usr/local/lib/python3.6/dist-packages (from tensorflow) (0.33.1)\n",
            "Requirement already satisfied: keras-preprocessing>=1.0.5 in /usr/local/lib/python3.6/dist-packages (from tensorflow) (1.0.9)\n",
            "Requirement already satisfied: keras-applications>=1.0.6 in /usr/local/lib/python3.6/dist-packages (from tensorflow) (1.0.7)\n",
            "Requirement already satisfied: mock>=2.0.0 in /usr/local/lib/python3.6/dist-packages (from tensorflow-estimator<1.14.0rc0,>=1.13.0->tensorflow) (2.0.0)\n",
            "Requirement already satisfied: werkzeug>=0.11.15 in /usr/local/lib/python3.6/dist-packages (from tensorboard<1.14.0,>=1.13.0->tensorflow) (0.15.2)\n",
            "Requirement already satisfied: markdown>=2.6.8 in /usr/local/lib/python3.6/dist-packages (from tensorboard<1.14.0,>=1.13.0->tensorflow) (3.1)\n",
            "Requirement already satisfied: setuptools in /usr/local/lib/python3.6/dist-packages (from protobuf>=3.6.1->tensorflow) (40.9.0)\n",
            "Requirement already satisfied: h5py in /usr/local/lib/python3.6/dist-packages (from keras-applications>=1.0.6->tensorflow) (2.8.0)\n",
            "Requirement already satisfied: pbr>=0.11 in /usr/local/lib/python3.6/dist-packages (from mock>=2.0.0->tensorflow-estimator<1.14.0rc0,>=1.13.0->tensorflow) (5.1.3)\n",
            "Requirement already satisfied: mxnet-mkl in /usr/local/lib/python3.6/dist-packages (1.4.0.post0)\n",
            "Requirement already satisfied: numpy<1.15.0,>=1.8.2 in /usr/local/lib/python3.6/dist-packages (from mxnet-mkl) (1.14.6)\n",
            "Requirement already satisfied: graphviz<0.9.0,>=0.8.1 in /usr/local/lib/python3.6/dist-packages (from mxnet-mkl) (0.8.4)\n",
            "Requirement already satisfied: requests>=2.20.0 in /usr/local/lib/python3.6/dist-packages (from mxnet-mkl) (2.21.0)\n",
            "Requirement already satisfied: chardet<3.1.0,>=3.0.2 in /usr/local/lib/python3.6/dist-packages (from requests>=2.20.0->mxnet-mkl) (3.0.4)\n",
            "Requirement already satisfied: certifi>=2017.4.17 in /usr/local/lib/python3.6/dist-packages (from requests>=2.20.0->mxnet-mkl) (2019.3.9)\n",
            "Requirement already satisfied: urllib3<1.25,>=1.21.1 in /usr/local/lib/python3.6/dist-packages (from requests>=2.20.0->mxnet-mkl) (1.24.2)\n",
            "Requirement already satisfied: idna<2.9,>=2.5 in /usr/local/lib/python3.6/dist-packages (from requests>=2.20.0->mxnet-mkl) (2.8)\n",
            "Requirement already satisfied: sklearn in /usr/local/lib/python3.6/dist-packages (0.0)\n",
            "Requirement already satisfied: scikit-learn in /usr/local/lib/python3.6/dist-packages (from sklearn) (0.20.3)\n",
            "Requirement already satisfied: numpy>=1.8.2 in /usr/local/lib/python3.6/dist-packages (from scikit-learn->sklearn) (1.14.6)\n",
            "Requirement already satisfied: scipy>=0.13.3 in /usr/local/lib/python3.6/dist-packages (from scikit-learn->sklearn) (1.2.1)\n",
            "Requirement already satisfied: keras_tqdm in /usr/local/lib/python3.6/dist-packages (2.0.1)\n",
            "Requirement already satisfied: Keras in /usr/local/lib/python3.6/dist-packages (from keras_tqdm) (2.2.4)\n",
            "Requirement already satisfied: tqdm in /usr/local/lib/python3.6/dist-packages (from keras_tqdm) (4.28.1)\n",
            "Requirement already satisfied: h5py in /usr/local/lib/python3.6/dist-packages (from Keras->keras_tqdm) (2.8.0)\n",
            "Requirement already satisfied: pyyaml in /usr/local/lib/python3.6/dist-packages (from Keras->keras_tqdm) (3.13)\n",
            "Requirement already satisfied: scipy>=0.14 in /usr/local/lib/python3.6/dist-packages (from Keras->keras_tqdm) (1.2.1)\n",
            "Requirement already satisfied: keras-preprocessing>=1.0.5 in /usr/local/lib/python3.6/dist-packages (from Keras->keras_tqdm) (1.0.9)\n",
            "Requirement already satisfied: six>=1.9.0 in /usr/local/lib/python3.6/dist-packages (from Keras->keras_tqdm) (1.12.0)\n",
            "Requirement already satisfied: numpy>=1.9.1 in /usr/local/lib/python3.6/dist-packages (from Keras->keras_tqdm) (1.14.6)\n",
            "Requirement already satisfied: keras-applications>=1.0.6 in /usr/local/lib/python3.6/dist-packages (from Keras->keras_tqdm) (1.0.7)\n",
            "Requirement already satisfied: scipy in /usr/local/lib/python3.6/dist-packages (1.2.1)\n",
            "Requirement already satisfied: numpy>=1.8.2 in /usr/local/lib/python3.6/dist-packages (from scipy) (1.14.6)\n"
          ],
          "name": "stdout"
        },
        {
          "output_type": "stream",
          "text": [
            "Using TensorFlow backend.\n"
          ],
          "name": "stderr"
        }
      ]
    },
    {
      "metadata": {
        "id": "NaQkjeNR7MnV",
        "colab_type": "code",
        "colab": {}
      },
      "cell_type": "code",
      "source": [
        "train_path=\"/content/gdrive/My Drive/Bioinformatica/Organized dataset/Training/Patches\"\n",
        "#train_path=\"/Users/Mac/Desktop/ROI-dataset-bioinf/Training/Patches/\"\n",
        "valid_path=\"/content/gdrive/My Drive/Bioinformatica/Organized dataset/Validation/Patches\"\n",
        "#valid_path=\"/Users/Mac/Desktop/ROI-dataset-bioinf/Validation/Patches\"\n",
        "#test_path =\"/Users/Mac/Desktop/ROI-dataset-bioinf/Test/Patches\"\n",
        "test_path=\"/content/gdrive/My Drive/Bioinformatica/Organized dataset/Test/Patches\""
      ],
      "execution_count": 0,
      "outputs": []
    },
    {
      "metadata": {
        "id": "UzyWGHvlC_Fb",
        "colab_type": "code",
        "colab": {}
      },
      "cell_type": "code",
      "source": [
        "train_batches = ImageDataGenerator().flow_from_directory(train_path, target_size=(224,224), classes=['Benign', 'Healthy', 'Cancer'], batch_size=32)\n",
        "valid_batches = ImageDataGenerator().flow_from_directory(valid_path, target_size=(224,224), classes=['Benign', 'Healthy', 'Cancer'], batch_size=32)\n",
        "test_batches = ImageDataGenerator().flow_from_directory(test_path, target_size=(224,224), classes=['Benign', 'Healthy', 'Cancer'], batch_size=32)"
      ],
      "execution_count": 0,
      "outputs": []
    },
    {
      "metadata": {
        "id": "5RLPLu5mmhGj",
        "colab_type": "code",
        "colab": {}
      },
      "cell_type": "code",
      "source": [
        "#For plotting images with labels\n",
        "def plots(ims, figsize=(12,6), rows=1, interp=False, titles=None):\n",
        "    if type(ims[0]) is np.ndarray:\n",
        "        ims = np.array(ims).astype(np.uint8)\n",
        "        if (ims.shape[-1] != 3):\n",
        "            ims = ims.transpose((0,2,3,1))\n",
        "    f = plt.figure(figsize=figsize)\n",
        "    cols = len(ims)//rows if len(ims) % 2 == 0 else len(ims)//rows + 1\n",
        "    for i in range(len(ims)):\n",
        "        sp = f.add_subplot(rows, cols, i+1)\n",
        "        sp.axis('Off')\n",
        "        if titles is not None:\n",
        "            sp.set_title(titles[i], fontsize=16)\n",
        "        plt.imshow(ims[i], interpolation=None if interp else 'none')"
      ],
      "execution_count": 0,
      "outputs": []
    },
    {
      "metadata": {
        "id": "NyJOfCvIVQWS",
        "colab_type": "code",
        "colab": {}
      },
      "cell_type": "code",
      "source": [
        "imgs, labels = next(train_batches)\n",
        "\n",
        "#plots(imgs,titles=labels)\n"
      ],
      "execution_count": 0,
      "outputs": []
    },
    {
      "metadata": {
        "id": "QBTKs_NaVR86",
        "colab_type": "code",
        "colab": {}
      },
      "cell_type": "code",
      "source": [
        "#CNN MODEL BUILDING\n",
        "model = Sequential([Conv2D(32,(3,3),activation='relu',input_shape=(64,64,3)), Flatten(), Dense(3, activation='softmax'),])\n",
        "model.compile(Adam(lr=.0001), loss='categorical_crossentropy', metrics=['accuracy'])\n",
        "model.fit_generator(train_batches, steps_per_epoch=22, validation_data=valid_batches, validation_steps=22, epochs=5, verbose=2)\n"
      ],
      "execution_count": 0,
      "outputs": []
    },
    {
      "metadata": {
        "id": "97pjhfx3WmVq",
        "colab_type": "code",
        "colab": {}
      },
      "cell_type": "code",
      "source": [
        "test_imgs, test_labels = next(test_batches)\n",
        "plots(test_imgs, titles = test_labels)\n",
        "#test_labels = test_labels[:,0]\n",
        "test_labels"
      ],
      "execution_count": 0,
      "outputs": []
    },
    {
      "metadata": {
        "id": "DMrMcizcaTrF",
        "colab_type": "code",
        "colab": {}
      },
      "cell_type": "code",
      "source": [
        "predictions = model.predict_generator(test_batches, steps=1, verbose=0)"
      ],
      "execution_count": 0,
      "outputs": []
    },
    {
      "metadata": {
        "id": "Ze9ZQv93dGX0",
        "colab_type": "code",
        "colab": {}
      },
      "cell_type": "code",
      "source": [
        "predictions"
      ],
      "execution_count": 0,
      "outputs": []
    },
    {
      "metadata": {
        "id": "sMFD6PUqdIHM",
        "colab_type": "code",
        "colab": {}
      },
      "cell_type": "code",
      "source": [
        "!pip3 install -U scikit-learn\n",
        "from sklearn.metrics import confusion_matrix\n",
        "cm = confusion_matrix(test_labels, predictions)"
      ],
      "execution_count": 0,
      "outputs": []
    },
    {
      "metadata": {
        "id": "yB1x83jJb8N8",
        "colab_type": "code",
        "colab": {}
      },
      "cell_type": "code",
      "source": [
        "#MULTI-LABEL CONFUSION MATRIX\n",
        "\n",
        "y_test_non_category = [ np.argmax(t) for t in test_labels ]\n",
        "y_predict_non_category = [ np.argmax(t) for t in predictions ]\n",
        "\n",
        "from sklearn.metrics import confusion_matrix\n",
        "conf_mat = confusion_matrix(y_test_non_category, y_predict_non_category)"
      ],
      "execution_count": 0,
      "outputs": []
    },
    {
      "metadata": {
        "id": "f-e8J4TceQl-",
        "colab_type": "code",
        "colab": {}
      },
      "cell_type": "code",
      "source": [
        "def plot_confusion_matrix(cm,classes,normalize=False,title='Confusion matrix', cmap=plt.cm.Blues):\n",
        "\n",
        "#This function prints and plots the confusion matrix.\n",
        "#Normalization can ben applied by setting 'normalize-True'\n",
        "\n",
        "    plt.imshow(cm, interpolation='nearest', cmap=cmap)\n",
        "    plt.title(title)\n",
        "    plt.colorbar()\n",
        "    tick_marks=np.arange(len(classes))\n",
        "    plt.xticks(tick_marks,classes,rotation=45)\n",
        "    plt.yticks(tick_marks,classes)\n",
        "\n",
        "    if normalize:\n",
        "        cm = cm.astype('float') / cm.sum(axis=1)[:, np.newaxis]\n",
        "        print(\"Normalized confusion matrix\")\n",
        "    else:\n",
        "        print('Confusion matrix, without normalization')\n",
        "\n",
        "    print(cm)\n",
        "\n",
        "    thresh = cm.max() / 2\n",
        "    for i,j in itertools.product(range(cm.shape[0]), range(cm.shape[1])):\n",
        "        if normalize:\n",
        "           plt.text(j, i, \"{:0.2f}\".format(cm[i, j]), horizontalalignment=\"center\", color=\"white\" if cm[i,j] > thresh else \"black\")\n",
        "        else:\n",
        "           plt.text(j, i, format(cm[i, j]), horizontalalignment=\"center\", color=\"white\" if cm[i,j] > thresh else \"black\")\n",
        "\n",
        "    plt.tight_layout()\n",
        "    plt.ylabel('True label')\n",
        "    plt.xlabel('Predicted label')\n"
      ],
      "execution_count": 0,
      "outputs": []
    },
    {
      "metadata": {
        "id": "RzLMUdm-keV_",
        "colab_type": "code",
        "colab": {}
      },
      "cell_type": "code",
      "source": [
        "cm_plot_labels = ['Benign','Healthy','Cancer']\n",
        "plot_confusion_matrix(conf_mat, cm_plot_labels,title ='Confusion Matrix')"
      ],
      "execution_count": 0,
      "outputs": []
    },
    {
      "metadata": {
        "id": "kPrSiv3lmHC3",
        "colab_type": "text"
      },
      "cell_type": "markdown",
      "source": [
        "**FIN QUI TUTTO OK, IL MODELLO FA SCHIFO MA TECNICAMENTE FA QUELLO CHE DEVE FARE, SE LA CONFUSION MATRIX È GIUSTA, HO TROVATO COME PLOTTARLA CON UN MODELLO A MULTI LABEL**"
      ]
    },
    {
      "metadata": {
        "id": "dH8ZmCrhtf1j",
        "colab_type": "text"
      },
      "cell_type": "markdown",
      "source": [
        "**FINE TUNING OF VGG16** "
      ]
    },
    {
      "metadata": {
        "id": "024xq-WbmSqU",
        "colab_type": "code",
        "outputId": "db2debc4-e461-47b3-de47-64ef08af5127",
        "colab": {
          "base_uri": "https://localhost:8080/",
          "height": 921
        }
      },
      "cell_type": "code",
      "source": [
        "#FINE TUNING OF A PRE-TRAINED MODEL (VGG16)\n",
        "\n",
        "import numpy as np\n",
        "!pip3 install keras\n",
        "#!pip3 install tensorflow==1.5.0\n",
        "!pip3 install tensorflow\n",
        "!pip install mxnet-mkl\n",
        "!pip3 install sklearn\n",
        "!pip3 install keras_tqdm\n",
        "!pip install scipy\n",
        "import keras\n",
        "from keras import backend as K\n",
        "from keras.models import Sequential\n",
        "from keras.layers import Activation\n",
        "from keras.layers.core import Dense, Flatten\n",
        "from keras.optimizers import Adam, SGD\n",
        "from keras.metrics import categorical_crossentropy\n",
        "from keras.preprocessing.image import ImageDataGenerator\n",
        "from keras.layers.normalization import BatchNormalization\n",
        "from keras.layers.convolutional import *\n",
        "from matplotlib import pyplot as plt\n",
        "from sklearn.metrics import *\n",
        "import itertools\n",
        "import matplotlib.pyplot as plt\n",
        "%matplotlib inline\n",
        "\n",
        "vgg16_model = keras.applications.vgg16.VGG16()\n"
      ],
      "execution_count": 0,
      "outputs": [
        {
          "output_type": "stream",
          "text": [
            "Requirement already satisfied: keras in /usr/local/lib/python3.6/dist-packages (2.2.4)\n",
            "Requirement already satisfied: pyyaml in /usr/local/lib/python3.6/dist-packages (from keras) (3.13)\n",
            "Requirement already satisfied: scipy>=0.14 in /usr/local/lib/python3.6/dist-packages (from keras) (1.2.1)\n",
            "Requirement already satisfied: h5py in /usr/local/lib/python3.6/dist-packages (from keras) (2.8.0)\n",
            "Requirement already satisfied: keras-applications>=1.0.6 in /usr/local/lib/python3.6/dist-packages (from keras) (1.0.7)\n",
            "Requirement already satisfied: keras-preprocessing>=1.0.5 in /usr/local/lib/python3.6/dist-packages (from keras) (1.0.9)\n",
            "Requirement already satisfied: numpy>=1.9.1 in /usr/local/lib/python3.6/dist-packages (from keras) (1.14.6)\n",
            "Requirement already satisfied: six>=1.9.0 in /usr/local/lib/python3.6/dist-packages (from keras) (1.12.0)\n",
            "Requirement already satisfied: tensorflow in /usr/local/lib/python3.6/dist-packages (1.13.1)\n",
            "Requirement already satisfied: termcolor>=1.1.0 in /usr/local/lib/python3.6/dist-packages (from tensorflow) (1.1.0)\n",
            "Requirement already satisfied: numpy>=1.13.3 in /usr/local/lib/python3.6/dist-packages (from tensorflow) (1.14.6)\n",
            "Requirement already satisfied: tensorboard<1.14.0,>=1.13.0 in /usr/local/lib/python3.6/dist-packages (from tensorflow) (1.13.1)\n",
            "Requirement already satisfied: wheel>=0.26 in /usr/local/lib/python3.6/dist-packages (from tensorflow) (0.33.1)\n",
            "Requirement already satisfied: astor>=0.6.0 in /usr/local/lib/python3.6/dist-packages (from tensorflow) (0.7.1)\n",
            "Requirement already satisfied: absl-py>=0.1.6 in /usr/local/lib/python3.6/dist-packages (from tensorflow) (0.7.1)\n",
            "Requirement already satisfied: tensorflow-estimator<1.14.0rc0,>=1.13.0 in /usr/local/lib/python3.6/dist-packages (from tensorflow) (1.13.0)\n",
            "Requirement already satisfied: grpcio>=1.8.6 in /usr/local/lib/python3.6/dist-packages (from tensorflow) (1.15.0)\n",
            "Requirement already satisfied: keras-preprocessing>=1.0.5 in /usr/local/lib/python3.6/dist-packages (from tensorflow) (1.0.9)\n",
            "Requirement already satisfied: keras-applications>=1.0.6 in /usr/local/lib/python3.6/dist-packages (from tensorflow) (1.0.7)\n",
            "Requirement already satisfied: six>=1.10.0 in /usr/local/lib/python3.6/dist-packages (from tensorflow) (1.12.0)\n",
            "Requirement already satisfied: gast>=0.2.0 in /usr/local/lib/python3.6/dist-packages (from tensorflow) (0.2.2)\n",
            "Requirement already satisfied: protobuf>=3.6.1 in /usr/local/lib/python3.6/dist-packages (from tensorflow) (3.7.1)\n",
            "Requirement already satisfied: werkzeug>=0.11.15 in /usr/local/lib/python3.6/dist-packages (from tensorboard<1.14.0,>=1.13.0->tensorflow) (0.15.2)\n",
            "Requirement already satisfied: markdown>=2.6.8 in /usr/local/lib/python3.6/dist-packages (from tensorboard<1.14.0,>=1.13.0->tensorflow) (3.1)\n",
            "Requirement already satisfied: mock>=2.0.0 in /usr/local/lib/python3.6/dist-packages (from tensorflow-estimator<1.14.0rc0,>=1.13.0->tensorflow) (2.0.0)\n",
            "Requirement already satisfied: h5py in /usr/local/lib/python3.6/dist-packages (from keras-applications>=1.0.6->tensorflow) (2.8.0)\n",
            "Requirement already satisfied: setuptools in /usr/local/lib/python3.6/dist-packages (from protobuf>=3.6.1->tensorflow) (40.9.0)\n",
            "Requirement already satisfied: pbr>=0.11 in /usr/local/lib/python3.6/dist-packages (from mock>=2.0.0->tensorflow-estimator<1.14.0rc0,>=1.13.0->tensorflow) (5.1.3)\n",
            "Requirement already satisfied: mxnet-mkl in /usr/local/lib/python3.6/dist-packages (1.4.0.post0)\n",
            "Requirement already satisfied: numpy<1.15.0,>=1.8.2 in /usr/local/lib/python3.6/dist-packages (from mxnet-mkl) (1.14.6)\n",
            "Requirement already satisfied: requests>=2.20.0 in /usr/local/lib/python3.6/dist-packages (from mxnet-mkl) (2.21.0)\n",
            "Requirement already satisfied: graphviz<0.9.0,>=0.8.1 in /usr/local/lib/python3.6/dist-packages (from mxnet-mkl) (0.8.4)\n",
            "Requirement already satisfied: urllib3<1.25,>=1.21.1 in /usr/local/lib/python3.6/dist-packages (from requests>=2.20.0->mxnet-mkl) (1.24.2)\n",
            "Requirement already satisfied: chardet<3.1.0,>=3.0.2 in /usr/local/lib/python3.6/dist-packages (from requests>=2.20.0->mxnet-mkl) (3.0.4)\n",
            "Requirement already satisfied: certifi>=2017.4.17 in /usr/local/lib/python3.6/dist-packages (from requests>=2.20.0->mxnet-mkl) (2019.3.9)\n",
            "Requirement already satisfied: idna<2.9,>=2.5 in /usr/local/lib/python3.6/dist-packages (from requests>=2.20.0->mxnet-mkl) (2.8)\n",
            "Requirement already satisfied: sklearn in /usr/local/lib/python3.6/dist-packages (0.0)\n",
            "Requirement already satisfied: scikit-learn in /usr/local/lib/python3.6/dist-packages (from sklearn) (0.20.3)\n",
            "Requirement already satisfied: scipy>=0.13.3 in /usr/local/lib/python3.6/dist-packages (from scikit-learn->sklearn) (1.2.1)\n",
            "Requirement already satisfied: numpy>=1.8.2 in /usr/local/lib/python3.6/dist-packages (from scikit-learn->sklearn) (1.14.6)\n",
            "Requirement already satisfied: keras_tqdm in /usr/local/lib/python3.6/dist-packages (2.0.1)\n",
            "Requirement already satisfied: tqdm in /usr/local/lib/python3.6/dist-packages (from keras_tqdm) (4.28.1)\n",
            "Requirement already satisfied: Keras in /usr/local/lib/python3.6/dist-packages (from keras_tqdm) (2.2.4)\n",
            "Requirement already satisfied: keras-applications>=1.0.6 in /usr/local/lib/python3.6/dist-packages (from Keras->keras_tqdm) (1.0.7)\n",
            "Requirement already satisfied: pyyaml in /usr/local/lib/python3.6/dist-packages (from Keras->keras_tqdm) (3.13)\n",
            "Requirement already satisfied: scipy>=0.14 in /usr/local/lib/python3.6/dist-packages (from Keras->keras_tqdm) (1.2.1)\n",
            "Requirement already satisfied: six>=1.9.0 in /usr/local/lib/python3.6/dist-packages (from Keras->keras_tqdm) (1.12.0)\n",
            "Requirement already satisfied: h5py in /usr/local/lib/python3.6/dist-packages (from Keras->keras_tqdm) (2.8.0)\n",
            "Requirement already satisfied: numpy>=1.9.1 in /usr/local/lib/python3.6/dist-packages (from Keras->keras_tqdm) (1.14.6)\n",
            "Requirement already satisfied: keras-preprocessing>=1.0.5 in /usr/local/lib/python3.6/dist-packages (from Keras->keras_tqdm) (1.0.9)\n",
            "Requirement already satisfied: scipy in /usr/local/lib/python3.6/dist-packages (1.2.1)\n",
            "Requirement already satisfied: numpy>=1.8.2 in /usr/local/lib/python3.6/dist-packages (from scipy) (1.14.6)\n"
          ],
          "name": "stdout"
        }
      ]
    },
    {
      "metadata": {
        "id": "LKxIhkFQpEoZ",
        "colab_type": "code",
        "colab": {}
      },
      "cell_type": "code",
      "source": [
        "vgg16_model.summary()\n"
      ],
      "execution_count": 0,
      "outputs": []
    },
    {
      "metadata": {
        "id": "e0LtghsxzICS",
        "colab_type": "code",
        "outputId": "0b44aa97-ec99-4e57-aa9b-b445aed27c4b",
        "colab": {
          "base_uri": "https://localhost:8080/",
          "height": 68
        }
      },
      "cell_type": "code",
      "source": [
        "train_path=\"/content/gdrive/My Drive/Bioinformatica/Organized dataset/Training/Patches\"\n",
        "#train_path=\"/Users/Mac/Desktop/ROI-dataset-bioinf/Training/Patches/\"\n",
        "valid_path=\"/content/gdrive/My Drive/Bioinformatica/Organized dataset/Validation/Patches\"\n",
        "#valid_path=\"/Users/Mac/Desktop/ROI-dataset-bioinf/Validation/Patches\"\n",
        "#test_path =\"/Users/Mac/Desktop/ROI-dataset-bioinf/Test/Patches\"\n",
        "test_path=\"/content/gdrive/My Drive/Bioinformatica/Organized dataset/Test/Patches\"\n",
        "\n",
        "#FATTO DA CHIARA QUESTO AUGMENT?\n",
        "gen = ImageDataGenerator(rotation_range=10, shear_range=0.15, channel_shift_range=10., horizontal_flip=True)\n",
        "\n",
        "train_batches = gen.flow_from_directory(train_path, target_size=(224,224), classes=['Benign', 'Healthy', 'Cancer'], batch_size=100)\n",
        "valid_batches = ImageDataGenerator().flow_from_directory(valid_path, target_size=(224,224), classes=['Benign', 'Healthy', 'Cancer'], batch_size=100)\n",
        "test_batches = ImageDataGenerator().flow_from_directory(test_path, shuffle=False, target_size=(224,224), classes=['Benign', 'Healthy', 'Cancer'], batch_size=100)\n",
        "\n",
        "#added shuffle=False for test_batches"
      ],
      "execution_count": 0,
      "outputs": [
        {
          "output_type": "stream",
          "text": [
            "Found 2263 images belonging to 3 classes.\n",
            "Found 1053 images belonging to 3 classes.\n",
            "Found 437 images belonging to 3 classes.\n"
          ],
          "name": "stdout"
        }
      ]
    },
    {
      "metadata": {
        "id": "0rV5hG5K1ftf",
        "colab_type": "code",
        "colab": {}
      },
      "cell_type": "code",
      "source": [
        "type(vgg16_model)\n",
        "#create a Sequential model in which we add all the layers of the VGG16 model\n",
        "model = Sequential()\n",
        "for layer in vgg16_model.layers[:-1]:\n",
        "  #all layers except for the last one which is the predictions layers we don't want\n",
        "    model.add(layer)\n",
        "    \n",
        "#model.summary()"
      ],
      "execution_count": 0,
      "outputs": []
    },
    {
      "metadata": {
        "id": "e_uGdPHX2kX9",
        "colab_type": "code",
        "colab": {}
      },
      "cell_type": "code",
      "source": [
        "for layer in model.layers:\n",
        "    layer.trainable = False\n"
      ],
      "execution_count": 0,
      "outputs": []
    },
    {
      "metadata": {
        "id": "JI2uQhG_Cfiv",
        "colab_type": "code",
        "colab": {}
      },
      "cell_type": "code",
      "source": [
        "model.add(Dense(3, activation='softmax'))\n",
        "\n",
        "#model.summary()"
      ],
      "execution_count": 0,
      "outputs": []
    },
    {
      "metadata": {
        "id": "95lCz-aEDjZc",
        "colab_type": "code",
        "outputId": "6b99e42e-4d7f-4d8f-8744-8f78e6e3229b",
        "colab": {
          "base_uri": "https://localhost:8080/",
          "height": 3434
        }
      },
      "cell_type": "code",
      "source": [
        "#TRAIN THE VGG16 MODEL\n",
        "es = keras.callbacks.EarlyStopping(monitor='val_loss',\n",
        "                              min_delta=0,\n",
        "                              patience=2,\n",
        "                              verbose=0, mode='auto')\n",
        "\n",
        "#TRY TO COMPILE WITH SGD OPTIMIZER AND DEFINE MOMENTUM, TRY TO RUN LONGER EPOCHS, TRY TO TAKE BIGGER BATCHES\n",
        "\n",
        "#steps per epoch and validation step = dataset size / batch size\n",
        "#keras.optimizers.SGD(lr=0.1, momentum=0.0, decay=0.0, nesterov=False)\n",
        "#Adam(lr=0.0001, beta_1=0.9, beta_2=0.999, epsilon=1e-08, decay=0.0)\n",
        "model.compile(SGD(lr=0.0001, momentum=0.9, decay=0.0, nesterov=True), loss ='categorical_crossentropy', metrics=['accuracy'])\n",
        "model.fit_generator(train_batches, steps_per_epoch=train_batches.samples/train_batches.batch_size, validation_data=valid_batches, validation_steps=valid_batches.samples/valid_batches.batch_size, epochs=100, verbose=2)#, callbacks=[es])\n",
        "#model.save('/content/gdrive/My Drive/Bioinformatica/FirstVGG16.h5')"
      ],
      "execution_count": 0,
      "outputs": [
        {
          "output_type": "stream",
          "text": [
            "Epoch 1/100\n",
            " - 45s - loss: 0.0868 - acc: 0.9694 - val_loss: 0.5176 - val_acc: 0.7882\n",
            "Epoch 2/100\n",
            " - 23s - loss: 0.0901 - acc: 0.9704 - val_loss: 0.6044 - val_acc: 0.7635\n",
            "Epoch 3/100\n",
            " - 28s - loss: 0.0923 - acc: 0.9671 - val_loss: 0.5375 - val_acc: 0.7816\n",
            "Epoch 4/100\n",
            " - 29s - loss: 0.0941 - acc: 0.9695 - val_loss: 0.5534 - val_acc: 0.7768\n",
            "Epoch 5/100\n",
            " - 28s - loss: 0.0920 - acc: 0.9686 - val_loss: 0.5387 - val_acc: 0.7787\n",
            "Epoch 6/100\n",
            " - 28s - loss: 0.0879 - acc: 0.9736 - val_loss: 0.5942 - val_acc: 0.7673\n",
            "Epoch 7/100\n",
            " - 29s - loss: 0.0862 - acc: 0.9726 - val_loss: 0.5408 - val_acc: 0.7797\n",
            "Epoch 8/100\n",
            " - 30s - loss: 0.0858 - acc: 0.9695 - val_loss: 0.5561 - val_acc: 0.7768\n",
            "Epoch 9/100\n",
            " - 28s - loss: 0.0834 - acc: 0.9760 - val_loss: 0.5568 - val_acc: 0.7768\n",
            "Epoch 10/100\n",
            " - 29s - loss: 0.0840 - acc: 0.9732 - val_loss: 0.5482 - val_acc: 0.7797\n",
            "Epoch 11/100\n",
            " - 28s - loss: 0.0829 - acc: 0.9723 - val_loss: 0.5557 - val_acc: 0.7759\n",
            "Epoch 12/100\n",
            " - 28s - loss: 0.0847 - acc: 0.9728 - val_loss: 0.5556 - val_acc: 0.7768\n",
            "Epoch 13/100\n",
            " - 30s - loss: 0.0934 - acc: 0.9673 - val_loss: 0.5885 - val_acc: 0.7702\n",
            "Epoch 14/100\n",
            " - 28s - loss: 0.0878 - acc: 0.9721 - val_loss: 0.5247 - val_acc: 0.7873\n",
            "Epoch 15/100\n",
            " - 28s - loss: 0.0873 - acc: 0.9726 - val_loss: 0.5630 - val_acc: 0.7768\n",
            "Epoch 16/100\n",
            " - 29s - loss: 0.0814 - acc: 0.9717 - val_loss: 0.5194 - val_acc: 0.7911\n",
            "Epoch 17/100\n",
            " - 28s - loss: 0.0905 - acc: 0.9684 - val_loss: 0.5561 - val_acc: 0.7825\n",
            "Epoch 18/100\n",
            " - 28s - loss: 0.0834 - acc: 0.9708 - val_loss: 0.5728 - val_acc: 0.7778\n",
            "Epoch 19/100\n",
            " - 30s - loss: 0.0857 - acc: 0.9730 - val_loss: 0.5807 - val_acc: 0.7759\n",
            "Epoch 20/100\n",
            " - 28s - loss: 0.0839 - acc: 0.9725 - val_loss: 0.5641 - val_acc: 0.7778\n",
            "Epoch 21/100\n",
            " - 29s - loss: 0.0942 - acc: 0.9682 - val_loss: 0.5659 - val_acc: 0.7778\n",
            "Epoch 22/100\n",
            " - 28s - loss: 0.0900 - acc: 0.9713 - val_loss: 0.5790 - val_acc: 0.7711\n",
            "Epoch 23/100\n",
            " - 28s - loss: 0.0834 - acc: 0.9721 - val_loss: 0.5758 - val_acc: 0.7702\n",
            "Epoch 24/100\n",
            " - 30s - loss: 0.0833 - acc: 0.9756 - val_loss: 0.5719 - val_acc: 0.7740\n",
            "Epoch 25/100\n",
            " - 28s - loss: 0.0896 - acc: 0.9671 - val_loss: 0.5729 - val_acc: 0.7749\n",
            "Epoch 26/100\n",
            " - 27s - loss: 0.0843 - acc: 0.9697 - val_loss: 0.5914 - val_acc: 0.7692\n",
            "Epoch 27/100\n",
            " - 29s - loss: 0.0920 - acc: 0.9694 - val_loss: 0.5526 - val_acc: 0.7835\n",
            "Epoch 28/100\n",
            " - 28s - loss: 0.0889 - acc: 0.9732 - val_loss: 0.5934 - val_acc: 0.7692\n",
            "Epoch 29/100\n",
            " - 28s - loss: 0.0832 - acc: 0.9710 - val_loss: 0.5705 - val_acc: 0.7740\n",
            "Epoch 30/100\n",
            " - 31s - loss: 0.0903 - acc: 0.9671 - val_loss: 0.5744 - val_acc: 0.7730\n",
            "Epoch 31/100\n",
            " - 28s - loss: 0.0921 - acc: 0.9660 - val_loss: 0.5919 - val_acc: 0.7711\n",
            "Epoch 32/100\n",
            " - 28s - loss: 0.0853 - acc: 0.9726 - val_loss: 0.6023 - val_acc: 0.7645\n",
            "Epoch 33/100\n",
            " - 29s - loss: 0.0856 - acc: 0.9722 - val_loss: 0.6130 - val_acc: 0.7645\n",
            "Epoch 34/100\n",
            " - 28s - loss: 0.0877 - acc: 0.9745 - val_loss: 0.5427 - val_acc: 0.7844\n",
            "Epoch 35/100\n",
            " - 29s - loss: 0.0910 - acc: 0.9692 - val_loss: 0.5887 - val_acc: 0.7692\n",
            "Epoch 36/100\n",
            " - 28s - loss: 0.0894 - acc: 0.9695 - val_loss: 0.5354 - val_acc: 0.7854\n",
            "Epoch 37/100\n",
            " - 28s - loss: 0.0783 - acc: 0.9789 - val_loss: 0.5703 - val_acc: 0.7778\n",
            "Epoch 38/100\n",
            " - 29s - loss: 0.0853 - acc: 0.9714 - val_loss: 0.5405 - val_acc: 0.7844\n",
            "Epoch 39/100\n",
            " - 28s - loss: 0.0808 - acc: 0.9727 - val_loss: 0.5695 - val_acc: 0.7778\n",
            "Epoch 40/100\n",
            " - 28s - loss: 0.0832 - acc: 0.9736 - val_loss: 0.5508 - val_acc: 0.7825\n",
            "Epoch 41/100\n",
            " - 30s - loss: 0.0898 - acc: 0.9675 - val_loss: 0.5615 - val_acc: 0.7816\n",
            "Epoch 42/100\n",
            " - 28s - loss: 0.0852 - acc: 0.9687 - val_loss: 0.5575 - val_acc: 0.7806\n",
            "Epoch 43/100\n",
            " - 28s - loss: 0.0804 - acc: 0.9717 - val_loss: 0.5214 - val_acc: 0.7892\n",
            "Epoch 44/100\n",
            " - 29s - loss: 0.0836 - acc: 0.9725 - val_loss: 0.5498 - val_acc: 0.7835\n",
            "Epoch 45/100\n",
            " - 28s - loss: 0.0811 - acc: 0.9758 - val_loss: 0.5377 - val_acc: 0.7854\n",
            "Epoch 46/100\n",
            " - 28s - loss: 0.0788 - acc: 0.9743 - val_loss: 0.5558 - val_acc: 0.7797\n",
            "Epoch 47/100\n",
            " - 29s - loss: 0.0878 - acc: 0.9684 - val_loss: 0.5682 - val_acc: 0.7778\n",
            "Epoch 48/100\n",
            " - 28s - loss: 0.0850 - acc: 0.9734 - val_loss: 0.5700 - val_acc: 0.7768\n",
            "Epoch 49/100\n",
            " - 28s - loss: 0.0840 - acc: 0.9719 - val_loss: 0.5612 - val_acc: 0.7797\n",
            "Epoch 50/100\n",
            " - 29s - loss: 0.0867 - acc: 0.9691 - val_loss: 0.5810 - val_acc: 0.7740\n",
            "Epoch 51/100\n",
            " - 28s - loss: 0.0885 - acc: 0.9719 - val_loss: 0.5791 - val_acc: 0.7768\n",
            "Epoch 52/100\n",
            " - 30s - loss: 0.0865 - acc: 0.9730 - val_loss: 0.5463 - val_acc: 0.7854\n",
            "Epoch 53/100\n",
            " - 28s - loss: 0.0888 - acc: 0.9679 - val_loss: 0.5686 - val_acc: 0.7797\n",
            "Epoch 54/100\n",
            " - 28s - loss: 0.0829 - acc: 0.9737 - val_loss: 0.5620 - val_acc: 0.7825\n",
            "Epoch 55/100\n",
            " - 29s - loss: 0.0896 - acc: 0.9697 - val_loss: 0.5633 - val_acc: 0.7797\n",
            "Epoch 56/100\n",
            " - 29s - loss: 0.0818 - acc: 0.9710 - val_loss: 0.5481 - val_acc: 0.7825\n",
            "Epoch 57/100\n",
            " - 28s - loss: 0.0829 - acc: 0.9717 - val_loss: 0.5495 - val_acc: 0.7844\n",
            "Epoch 58/100\n",
            " - 29s - loss: 0.0872 - acc: 0.9722 - val_loss: 0.5016 - val_acc: 0.7996\n",
            "Epoch 59/100\n",
            " - 27s - loss: 0.0858 - acc: 0.9731 - val_loss: 0.5589 - val_acc: 0.7787\n",
            "Epoch 60/100\n",
            " - 28s - loss: 0.0801 - acc: 0.9756 - val_loss: 0.5897 - val_acc: 0.7740\n",
            "Epoch 61/100\n",
            " - 29s - loss: 0.0849 - acc: 0.9737 - val_loss: 0.5474 - val_acc: 0.7854\n",
            "Epoch 62/100\n",
            " - 27s - loss: 0.0824 - acc: 0.9734 - val_loss: 0.5497 - val_acc: 0.7825\n",
            "Epoch 63/100\n",
            " - 30s - loss: 0.0759 - acc: 0.9797 - val_loss: 0.5407 - val_acc: 0.7854\n",
            "Epoch 64/100\n",
            " - 29s - loss: 0.0758 - acc: 0.9776 - val_loss: 0.5483 - val_acc: 0.7854\n",
            "Epoch 65/100\n",
            " - 28s - loss: 0.0811 - acc: 0.9717 - val_loss: 0.5594 - val_acc: 0.7835\n",
            "Epoch 66/100\n",
            " - 28s - loss: 0.0808 - acc: 0.9741 - val_loss: 0.5455 - val_acc: 0.7844\n",
            "Epoch 67/100\n",
            " - 30s - loss: 0.0797 - acc: 0.9743 - val_loss: 0.5633 - val_acc: 0.7778\n",
            "Epoch 68/100\n",
            " - 28s - loss: 0.0853 - acc: 0.9723 - val_loss: 0.5626 - val_acc: 0.7806\n",
            "Epoch 69/100\n",
            " - 29s - loss: 0.0846 - acc: 0.9730 - val_loss: 0.5788 - val_acc: 0.7721\n",
            "Epoch 70/100\n",
            " - 28s - loss: 0.0823 - acc: 0.9721 - val_loss: 0.5539 - val_acc: 0.7825\n",
            "Epoch 71/100\n",
            " - 28s - loss: 0.0852 - acc: 0.9749 - val_loss: 0.5555 - val_acc: 0.7816\n",
            "Epoch 72/100\n",
            " - 29s - loss: 0.0843 - acc: 0.9714 - val_loss: 0.5745 - val_acc: 0.7768\n",
            "Epoch 73/100\n",
            " - 27s - loss: 0.0806 - acc: 0.9716 - val_loss: 0.5937 - val_acc: 0.7664\n",
            "Epoch 74/100\n",
            " - 29s - loss: 0.0828 - acc: 0.9752 - val_loss: 0.5566 - val_acc: 0.7787\n",
            "Epoch 75/100\n",
            " - 29s - loss: 0.0823 - acc: 0.9726 - val_loss: 0.5939 - val_acc: 0.7673\n",
            "Epoch 76/100\n",
            " - 28s - loss: 0.0789 - acc: 0.9756 - val_loss: 0.5975 - val_acc: 0.7664\n",
            "Epoch 77/100\n",
            " - 28s - loss: 0.0792 - acc: 0.9727 - val_loss: 0.5553 - val_acc: 0.7797\n",
            "Epoch 78/100\n",
            " - 29s - loss: 0.0749 - acc: 0.9765 - val_loss: 0.5539 - val_acc: 0.7806\n",
            "Epoch 79/100\n",
            " - 28s - loss: 0.0787 - acc: 0.9753 - val_loss: 0.5488 - val_acc: 0.7816\n",
            "Epoch 80/100\n",
            " - 28s - loss: 0.0791 - acc: 0.9765 - val_loss: 0.5630 - val_acc: 0.7797\n",
            "Epoch 81/100\n",
            " - 29s - loss: 0.0755 - acc: 0.9749 - val_loss: 0.5718 - val_acc: 0.7749\n",
            "Epoch 82/100\n",
            " - 28s - loss: 0.0813 - acc: 0.9730 - val_loss: 0.5815 - val_acc: 0.7749\n",
            "Epoch 83/100\n",
            " - 28s - loss: 0.0771 - acc: 0.9760 - val_loss: 0.5676 - val_acc: 0.7797\n",
            "Epoch 84/100\n",
            " - 29s - loss: 0.0792 - acc: 0.9730 - val_loss: 0.5762 - val_acc: 0.7759\n",
            "Epoch 85/100\n",
            " - 29s - loss: 0.0762 - acc: 0.9778 - val_loss: 0.5688 - val_acc: 0.7778\n",
            "Epoch 86/100\n",
            " - 29s - loss: 0.0795 - acc: 0.9760 - val_loss: 0.5678 - val_acc: 0.7787\n",
            "Epoch 87/100\n",
            " - 28s - loss: 0.0748 - acc: 0.9769 - val_loss: 0.5368 - val_acc: 0.7863\n",
            "Epoch 88/100\n",
            " - 29s - loss: 0.0810 - acc: 0.9750 - val_loss: 0.5596 - val_acc: 0.7787\n",
            "Epoch 89/100\n",
            " - 29s - loss: 0.0812 - acc: 0.9743 - val_loss: 0.5523 - val_acc: 0.7806\n",
            "Epoch 90/100\n",
            " - 28s - loss: 0.0793 - acc: 0.9750 - val_loss: 0.5926 - val_acc: 0.7692\n",
            "Epoch 91/100\n",
            " - 27s - loss: 0.0861 - acc: 0.9684 - val_loss: 0.6112 - val_acc: 0.7635\n",
            "Epoch 92/100\n",
            " - 29s - loss: 0.0791 - acc: 0.9786 - val_loss: 0.5709 - val_acc: 0.7778\n",
            "Epoch 93/100\n",
            " - 28s - loss: 0.0760 - acc: 0.9735 - val_loss: 0.5574 - val_acc: 0.7816\n",
            "Epoch 94/100\n",
            " - 27s - loss: 0.0710 - acc: 0.9771 - val_loss: 0.5312 - val_acc: 0.7892\n",
            "Epoch 95/100\n",
            " - 29s - loss: 0.0854 - acc: 0.9704 - val_loss: 0.5485 - val_acc: 0.7816\n",
            "Epoch 96/100\n",
            " - 29s - loss: 0.0737 - acc: 0.9769 - val_loss: 0.5879 - val_acc: 0.7702\n",
            "Epoch 97/100\n",
            " - 28s - loss: 0.0808 - acc: 0.9730 - val_loss: 0.5424 - val_acc: 0.7854\n",
            "Epoch 98/100\n",
            " - 29s - loss: 0.0827 - acc: 0.9745 - val_loss: 0.5171 - val_acc: 0.7930\n",
            "Epoch 99/100\n",
            " - 28s - loss: 0.0834 - acc: 0.9723 - val_loss: 0.5960 - val_acc: 0.7711\n",
            "Epoch 100/100\n",
            " - 28s - loss: 0.0756 - acc: 0.9778 - val_loss: 0.5506 - val_acc: 0.7854\n"
          ],
          "name": "stdout"
        },
        {
          "output_type": "execute_result",
          "data": {
            "text/plain": [
              "<keras.callbacks.History at 0x7f4a41262e80>"
            ]
          },
          "metadata": {
            "tags": []
          },
          "execution_count": 89
        }
      ]
    },
    {
      "metadata": {
        "id": "PQdWmv2En-Rj",
        "colab_type": "text"
      },
      "cell_type": "markdown",
      "source": [
        "**BEST PARAMETERS SEARCH** (si va beh per fare questo dovrei avere y_train come vettore di label perché è il target)"
      ]
    },
    {
      "metadata": {
        "id": "C4I4pxIpnVmW",
        "colab_type": "code",
        "outputId": "83f3a645-fa06-4dd6-aac4-9e537a62ee32",
        "colab": {
          "base_uri": "https://localhost:8080/",
          "height": 446
        }
      },
      "cell_type": "code",
      "source": [
        "from sklearn.model_selection import GridSearchCV\n",
        "from keras.wrappers.scikit_learn import KerasClassifier\n",
        "\n",
        "def make_classifier(optimizer):\n",
        "    classifier = Sequential()\n",
        "    classifier.add(Dense(6, kernel_initializer = 'uniform', activation = 'relu', input_dim=11))\n",
        "    classifier.add(Dense(6, kernel_initializer = 'uniform', activation = 'relu'))\n",
        "    classifier.add(Dense(1, kernel_initializer = 'uniform', activation = 'sigmoid'))\n",
        "    classifier.compile(optimizer= optimizer,loss = 'categorical_crossentropy',metrics = ['accuracy'])\n",
        "    return classifier\n",
        "  \n",
        "classifier = KerasClassifier(build_fn = make_classifier)\n",
        "\n",
        "params = {\n",
        "    'batch_size':[32,100],\n",
        "    'nb_epoch':[30,100],\n",
        "    'optimizer':['adam','sgd']\n",
        "}\n",
        "\n",
        "grid_search = GridSearchCV(estimator=classifier,\n",
        "                           param_grid=params,\n",
        "                           scoring='accuracy',\n",
        "                           cv=10)\n",
        "train_batches = gen.flow_from_directory(train_path, target_size=(224,224), classes=['Benign', 'Healthy', 'Cancer'], batch_size=1)\n",
        "grid_search = grid_search.fit(train_batches,train_batches.classes)\n",
        "\n",
        "best_param = grid_search.best_params_\n",
        "best_accuracy = grid_search.best_score_"
      ],
      "execution_count": 0,
      "outputs": [
        {
          "output_type": "stream",
          "text": [
            "Found 2263 images belonging to 3 classes.\n"
          ],
          "name": "stdout"
        },
        {
          "output_type": "stream",
          "text": [
            "/usr/local/lib/python3.6/dist-packages/sklearn/model_selection/_validation.py:542: FutureWarning: From version 0.22, errors during fit will result in a cross validation score of NaN by default. Use error_score='raise' if you want an exception raised or error_score=np.nan to adopt the behavior from version 0.22.\n",
            "  FutureWarning)\n"
          ],
          "name": "stderr"
        },
        {
          "output_type": "error",
          "ename": "AttributeError",
          "evalue": "ignored",
          "traceback": [
            "\u001b[0;31m---------------------------------------------------------------------------\u001b[0m",
            "\u001b[0;31mAttributeError\u001b[0m                            Traceback (most recent call last)",
            "\u001b[0;32m<ipython-input-90-c8f29fb94166>\u001b[0m in \u001b[0;36m<module>\u001b[0;34m()\u001b[0m\n\u001b[1;32m     23\u001b[0m                            cv=10)\n\u001b[1;32m     24\u001b[0m \u001b[0mtrain_batches\u001b[0m \u001b[0;34m=\u001b[0m \u001b[0mgen\u001b[0m\u001b[0;34m.\u001b[0m\u001b[0mflow_from_directory\u001b[0m\u001b[0;34m(\u001b[0m\u001b[0mtrain_path\u001b[0m\u001b[0;34m,\u001b[0m \u001b[0mtarget_size\u001b[0m\u001b[0;34m=\u001b[0m\u001b[0;34m(\u001b[0m\u001b[0;36m224\u001b[0m\u001b[0;34m,\u001b[0m\u001b[0;36m224\u001b[0m\u001b[0;34m)\u001b[0m\u001b[0;34m,\u001b[0m \u001b[0mclasses\u001b[0m\u001b[0;34m=\u001b[0m\u001b[0;34m[\u001b[0m\u001b[0;34m'Benign'\u001b[0m\u001b[0;34m,\u001b[0m \u001b[0;34m'Healthy'\u001b[0m\u001b[0;34m,\u001b[0m \u001b[0;34m'Cancer'\u001b[0m\u001b[0;34m]\u001b[0m\u001b[0;34m,\u001b[0m \u001b[0mbatch_size\u001b[0m\u001b[0;34m=\u001b[0m\u001b[0;36m1\u001b[0m\u001b[0;34m)\u001b[0m\u001b[0;34m\u001b[0m\u001b[0;34m\u001b[0m\u001b[0m\n\u001b[0;32m---> 25\u001b[0;31m \u001b[0mgrid_search\u001b[0m \u001b[0;34m=\u001b[0m \u001b[0mgrid_search\u001b[0m\u001b[0;34m.\u001b[0m\u001b[0mfit\u001b[0m\u001b[0;34m(\u001b[0m\u001b[0mtrain_batches\u001b[0m\u001b[0;34m,\u001b[0m\u001b[0mtrain_batches\u001b[0m\u001b[0;34m.\u001b[0m\u001b[0mclasses\u001b[0m\u001b[0;34m)\u001b[0m\u001b[0;34m\u001b[0m\u001b[0;34m\u001b[0m\u001b[0m\n\u001b[0m\u001b[1;32m     26\u001b[0m \u001b[0;34m\u001b[0m\u001b[0m\n\u001b[1;32m     27\u001b[0m \u001b[0mbest_param\u001b[0m \u001b[0;34m=\u001b[0m \u001b[0mgrid_search\u001b[0m\u001b[0;34m.\u001b[0m\u001b[0mbest_params_\u001b[0m\u001b[0;34m\u001b[0m\u001b[0;34m\u001b[0m\u001b[0m\n",
            "\u001b[0;32m/usr/local/lib/python3.6/dist-packages/sklearn/model_selection/_search.py\u001b[0m in \u001b[0;36mfit\u001b[0;34m(self, X, y, groups, **fit_params)\u001b[0m\n\u001b[1;32m    720\u001b[0m                 \u001b[0;32mreturn\u001b[0m \u001b[0mresults_container\u001b[0m\u001b[0;34m[\u001b[0m\u001b[0;36m0\u001b[0m\u001b[0;34m]\u001b[0m\u001b[0;34m\u001b[0m\u001b[0;34m\u001b[0m\u001b[0m\n\u001b[1;32m    721\u001b[0m \u001b[0;34m\u001b[0m\u001b[0m\n\u001b[0;32m--> 722\u001b[0;31m             \u001b[0mself\u001b[0m\u001b[0;34m.\u001b[0m\u001b[0m_run_search\u001b[0m\u001b[0;34m(\u001b[0m\u001b[0mevaluate_candidates\u001b[0m\u001b[0;34m)\u001b[0m\u001b[0;34m\u001b[0m\u001b[0;34m\u001b[0m\u001b[0m\n\u001b[0m\u001b[1;32m    723\u001b[0m \u001b[0;34m\u001b[0m\u001b[0m\n\u001b[1;32m    724\u001b[0m         \u001b[0mresults\u001b[0m \u001b[0;34m=\u001b[0m \u001b[0mresults_container\u001b[0m\u001b[0;34m[\u001b[0m\u001b[0;36m0\u001b[0m\u001b[0;34m]\u001b[0m\u001b[0;34m\u001b[0m\u001b[0;34m\u001b[0m\u001b[0m\n",
            "\u001b[0;32m/usr/local/lib/python3.6/dist-packages/sklearn/model_selection/_search.py\u001b[0m in \u001b[0;36m_run_search\u001b[0;34m(self, evaluate_candidates)\u001b[0m\n\u001b[1;32m   1189\u001b[0m     \u001b[0;32mdef\u001b[0m \u001b[0m_run_search\u001b[0m\u001b[0;34m(\u001b[0m\u001b[0mself\u001b[0m\u001b[0;34m,\u001b[0m \u001b[0mevaluate_candidates\u001b[0m\u001b[0;34m)\u001b[0m\u001b[0;34m:\u001b[0m\u001b[0;34m\u001b[0m\u001b[0;34m\u001b[0m\u001b[0m\n\u001b[1;32m   1190\u001b[0m         \u001b[0;34m\"\"\"Search all candidates in param_grid\"\"\"\u001b[0m\u001b[0;34m\u001b[0m\u001b[0;34m\u001b[0m\u001b[0m\n\u001b[0;32m-> 1191\u001b[0;31m         \u001b[0mevaluate_candidates\u001b[0m\u001b[0;34m(\u001b[0m\u001b[0mParameterGrid\u001b[0m\u001b[0;34m(\u001b[0m\u001b[0mself\u001b[0m\u001b[0;34m.\u001b[0m\u001b[0mparam_grid\u001b[0m\u001b[0;34m)\u001b[0m\u001b[0;34m)\u001b[0m\u001b[0;34m\u001b[0m\u001b[0;34m\u001b[0m\u001b[0m\n\u001b[0m\u001b[1;32m   1192\u001b[0m \u001b[0;34m\u001b[0m\u001b[0m\n\u001b[1;32m   1193\u001b[0m \u001b[0;34m\u001b[0m\u001b[0m\n",
            "\u001b[0;32m/usr/local/lib/python3.6/dist-packages/sklearn/model_selection/_search.py\u001b[0m in \u001b[0;36mevaluate_candidates\u001b[0;34m(candidate_params)\u001b[0m\n\u001b[1;32m    709\u001b[0m                                \u001b[0;32mfor\u001b[0m \u001b[0mparameters\u001b[0m\u001b[0;34m,\u001b[0m \u001b[0;34m(\u001b[0m\u001b[0mtrain\u001b[0m\u001b[0;34m,\u001b[0m \u001b[0mtest\u001b[0m\u001b[0;34m)\u001b[0m\u001b[0;34m\u001b[0m\u001b[0;34m\u001b[0m\u001b[0m\n\u001b[1;32m    710\u001b[0m                                in product(candidate_params,\n\u001b[0;32m--> 711\u001b[0;31m                                           cv.split(X, y, groups)))\n\u001b[0m\u001b[1;32m    712\u001b[0m \u001b[0;34m\u001b[0m\u001b[0m\n\u001b[1;32m    713\u001b[0m                 \u001b[0mall_candidate_params\u001b[0m\u001b[0;34m.\u001b[0m\u001b[0mextend\u001b[0m\u001b[0;34m(\u001b[0m\u001b[0mcandidate_params\u001b[0m\u001b[0;34m)\u001b[0m\u001b[0;34m\u001b[0m\u001b[0;34m\u001b[0m\u001b[0m\n",
            "\u001b[0;32m/usr/local/lib/python3.6/dist-packages/sklearn/externals/joblib/parallel.py\u001b[0m in \u001b[0;36m__call__\u001b[0;34m(self, iterable)\u001b[0m\n\u001b[1;32m    915\u001b[0m             \u001b[0;31m# remaining jobs.\u001b[0m\u001b[0;34m\u001b[0m\u001b[0;34m\u001b[0m\u001b[0;34m\u001b[0m\u001b[0m\n\u001b[1;32m    916\u001b[0m             \u001b[0mself\u001b[0m\u001b[0;34m.\u001b[0m\u001b[0m_iterating\u001b[0m \u001b[0;34m=\u001b[0m \u001b[0;32mFalse\u001b[0m\u001b[0;34m\u001b[0m\u001b[0;34m\u001b[0m\u001b[0m\n\u001b[0;32m--> 917\u001b[0;31m             \u001b[0;32mif\u001b[0m \u001b[0mself\u001b[0m\u001b[0;34m.\u001b[0m\u001b[0mdispatch_one_batch\u001b[0m\u001b[0;34m(\u001b[0m\u001b[0miterator\u001b[0m\u001b[0;34m)\u001b[0m\u001b[0;34m:\u001b[0m\u001b[0;34m\u001b[0m\u001b[0;34m\u001b[0m\u001b[0m\n\u001b[0m\u001b[1;32m    918\u001b[0m                 \u001b[0mself\u001b[0m\u001b[0;34m.\u001b[0m\u001b[0m_iterating\u001b[0m \u001b[0;34m=\u001b[0m \u001b[0mself\u001b[0m\u001b[0;34m.\u001b[0m\u001b[0m_original_iterator\u001b[0m \u001b[0;32mis\u001b[0m \u001b[0;32mnot\u001b[0m \u001b[0;32mNone\u001b[0m\u001b[0;34m\u001b[0m\u001b[0;34m\u001b[0m\u001b[0m\n\u001b[1;32m    919\u001b[0m \u001b[0;34m\u001b[0m\u001b[0m\n",
            "\u001b[0;32m/usr/local/lib/python3.6/dist-packages/sklearn/externals/joblib/parallel.py\u001b[0m in \u001b[0;36mdispatch_one_batch\u001b[0;34m(self, iterator)\u001b[0m\n\u001b[1;32m    757\u001b[0m                 \u001b[0;32mreturn\u001b[0m \u001b[0;32mFalse\u001b[0m\u001b[0;34m\u001b[0m\u001b[0;34m\u001b[0m\u001b[0m\n\u001b[1;32m    758\u001b[0m             \u001b[0;32melse\u001b[0m\u001b[0;34m:\u001b[0m\u001b[0;34m\u001b[0m\u001b[0;34m\u001b[0m\u001b[0m\n\u001b[0;32m--> 759\u001b[0;31m                 \u001b[0mself\u001b[0m\u001b[0;34m.\u001b[0m\u001b[0m_dispatch\u001b[0m\u001b[0;34m(\u001b[0m\u001b[0mtasks\u001b[0m\u001b[0;34m)\u001b[0m\u001b[0;34m\u001b[0m\u001b[0;34m\u001b[0m\u001b[0m\n\u001b[0m\u001b[1;32m    760\u001b[0m                 \u001b[0;32mreturn\u001b[0m \u001b[0;32mTrue\u001b[0m\u001b[0;34m\u001b[0m\u001b[0;34m\u001b[0m\u001b[0m\n\u001b[1;32m    761\u001b[0m \u001b[0;34m\u001b[0m\u001b[0m\n",
            "\u001b[0;32m/usr/local/lib/python3.6/dist-packages/sklearn/externals/joblib/parallel.py\u001b[0m in \u001b[0;36m_dispatch\u001b[0;34m(self, batch)\u001b[0m\n\u001b[1;32m    714\u001b[0m         \u001b[0;32mwith\u001b[0m \u001b[0mself\u001b[0m\u001b[0;34m.\u001b[0m\u001b[0m_lock\u001b[0m\u001b[0;34m:\u001b[0m\u001b[0;34m\u001b[0m\u001b[0;34m\u001b[0m\u001b[0m\n\u001b[1;32m    715\u001b[0m             \u001b[0mjob_idx\u001b[0m \u001b[0;34m=\u001b[0m \u001b[0mlen\u001b[0m\u001b[0;34m(\u001b[0m\u001b[0mself\u001b[0m\u001b[0;34m.\u001b[0m\u001b[0m_jobs\u001b[0m\u001b[0;34m)\u001b[0m\u001b[0;34m\u001b[0m\u001b[0;34m\u001b[0m\u001b[0m\n\u001b[0;32m--> 716\u001b[0;31m             \u001b[0mjob\u001b[0m \u001b[0;34m=\u001b[0m \u001b[0mself\u001b[0m\u001b[0;34m.\u001b[0m\u001b[0m_backend\u001b[0m\u001b[0;34m.\u001b[0m\u001b[0mapply_async\u001b[0m\u001b[0;34m(\u001b[0m\u001b[0mbatch\u001b[0m\u001b[0;34m,\u001b[0m \u001b[0mcallback\u001b[0m\u001b[0;34m=\u001b[0m\u001b[0mcb\u001b[0m\u001b[0;34m)\u001b[0m\u001b[0;34m\u001b[0m\u001b[0;34m\u001b[0m\u001b[0m\n\u001b[0m\u001b[1;32m    717\u001b[0m             \u001b[0;31m# A job can complete so quickly than its callback is\u001b[0m\u001b[0;34m\u001b[0m\u001b[0;34m\u001b[0m\u001b[0;34m\u001b[0m\u001b[0m\n\u001b[1;32m    718\u001b[0m             \u001b[0;31m# called before we get here, causing self._jobs to\u001b[0m\u001b[0;34m\u001b[0m\u001b[0;34m\u001b[0m\u001b[0;34m\u001b[0m\u001b[0m\n",
            "\u001b[0;32m/usr/local/lib/python3.6/dist-packages/sklearn/externals/joblib/_parallel_backends.py\u001b[0m in \u001b[0;36mapply_async\u001b[0;34m(self, func, callback)\u001b[0m\n\u001b[1;32m    180\u001b[0m     \u001b[0;32mdef\u001b[0m \u001b[0mapply_async\u001b[0m\u001b[0;34m(\u001b[0m\u001b[0mself\u001b[0m\u001b[0;34m,\u001b[0m \u001b[0mfunc\u001b[0m\u001b[0;34m,\u001b[0m \u001b[0mcallback\u001b[0m\u001b[0;34m=\u001b[0m\u001b[0;32mNone\u001b[0m\u001b[0;34m)\u001b[0m\u001b[0;34m:\u001b[0m\u001b[0;34m\u001b[0m\u001b[0;34m\u001b[0m\u001b[0m\n\u001b[1;32m    181\u001b[0m         \u001b[0;34m\"\"\"Schedule a func to be run\"\"\"\u001b[0m\u001b[0;34m\u001b[0m\u001b[0;34m\u001b[0m\u001b[0m\n\u001b[0;32m--> 182\u001b[0;31m         \u001b[0mresult\u001b[0m \u001b[0;34m=\u001b[0m \u001b[0mImmediateResult\u001b[0m\u001b[0;34m(\u001b[0m\u001b[0mfunc\u001b[0m\u001b[0;34m)\u001b[0m\u001b[0;34m\u001b[0m\u001b[0;34m\u001b[0m\u001b[0m\n\u001b[0m\u001b[1;32m    183\u001b[0m         \u001b[0;32mif\u001b[0m \u001b[0mcallback\u001b[0m\u001b[0;34m:\u001b[0m\u001b[0;34m\u001b[0m\u001b[0;34m\u001b[0m\u001b[0m\n\u001b[1;32m    184\u001b[0m             \u001b[0mcallback\u001b[0m\u001b[0;34m(\u001b[0m\u001b[0mresult\u001b[0m\u001b[0;34m)\u001b[0m\u001b[0;34m\u001b[0m\u001b[0;34m\u001b[0m\u001b[0m\n",
            "\u001b[0;32m/usr/local/lib/python3.6/dist-packages/sklearn/externals/joblib/_parallel_backends.py\u001b[0m in \u001b[0;36m__init__\u001b[0;34m(self, batch)\u001b[0m\n\u001b[1;32m    547\u001b[0m         \u001b[0;31m# Don't delay the application, to avoid keeping the input\u001b[0m\u001b[0;34m\u001b[0m\u001b[0;34m\u001b[0m\u001b[0;34m\u001b[0m\u001b[0m\n\u001b[1;32m    548\u001b[0m         \u001b[0;31m# arguments in memory\u001b[0m\u001b[0;34m\u001b[0m\u001b[0;34m\u001b[0m\u001b[0;34m\u001b[0m\u001b[0m\n\u001b[0;32m--> 549\u001b[0;31m         \u001b[0mself\u001b[0m\u001b[0;34m.\u001b[0m\u001b[0mresults\u001b[0m \u001b[0;34m=\u001b[0m \u001b[0mbatch\u001b[0m\u001b[0;34m(\u001b[0m\u001b[0;34m)\u001b[0m\u001b[0;34m\u001b[0m\u001b[0;34m\u001b[0m\u001b[0m\n\u001b[0m\u001b[1;32m    550\u001b[0m \u001b[0;34m\u001b[0m\u001b[0m\n\u001b[1;32m    551\u001b[0m     \u001b[0;32mdef\u001b[0m \u001b[0mget\u001b[0m\u001b[0;34m(\u001b[0m\u001b[0mself\u001b[0m\u001b[0;34m)\u001b[0m\u001b[0;34m:\u001b[0m\u001b[0;34m\u001b[0m\u001b[0;34m\u001b[0m\u001b[0m\n",
            "\u001b[0;32m/usr/local/lib/python3.6/dist-packages/sklearn/externals/joblib/parallel.py\u001b[0m in \u001b[0;36m__call__\u001b[0;34m(self)\u001b[0m\n\u001b[1;32m    223\u001b[0m         \u001b[0;32mwith\u001b[0m \u001b[0mparallel_backend\u001b[0m\u001b[0;34m(\u001b[0m\u001b[0mself\u001b[0m\u001b[0;34m.\u001b[0m\u001b[0m_backend\u001b[0m\u001b[0;34m,\u001b[0m \u001b[0mn_jobs\u001b[0m\u001b[0;34m=\u001b[0m\u001b[0mself\u001b[0m\u001b[0;34m.\u001b[0m\u001b[0m_n_jobs\u001b[0m\u001b[0;34m)\u001b[0m\u001b[0;34m:\u001b[0m\u001b[0;34m\u001b[0m\u001b[0;34m\u001b[0m\u001b[0m\n\u001b[1;32m    224\u001b[0m             return [func(*args, **kwargs)\n\u001b[0;32m--> 225\u001b[0;31m                     for func, args, kwargs in self.items]\n\u001b[0m\u001b[1;32m    226\u001b[0m \u001b[0;34m\u001b[0m\u001b[0m\n\u001b[1;32m    227\u001b[0m     \u001b[0;32mdef\u001b[0m \u001b[0m__len__\u001b[0m\u001b[0;34m(\u001b[0m\u001b[0mself\u001b[0m\u001b[0;34m)\u001b[0m\u001b[0;34m:\u001b[0m\u001b[0;34m\u001b[0m\u001b[0;34m\u001b[0m\u001b[0m\n",
            "\u001b[0;32m/usr/local/lib/python3.6/dist-packages/sklearn/externals/joblib/parallel.py\u001b[0m in \u001b[0;36m<listcomp>\u001b[0;34m(.0)\u001b[0m\n\u001b[1;32m    223\u001b[0m         \u001b[0;32mwith\u001b[0m \u001b[0mparallel_backend\u001b[0m\u001b[0;34m(\u001b[0m\u001b[0mself\u001b[0m\u001b[0;34m.\u001b[0m\u001b[0m_backend\u001b[0m\u001b[0;34m,\u001b[0m \u001b[0mn_jobs\u001b[0m\u001b[0;34m=\u001b[0m\u001b[0mself\u001b[0m\u001b[0;34m.\u001b[0m\u001b[0m_n_jobs\u001b[0m\u001b[0;34m)\u001b[0m\u001b[0;34m:\u001b[0m\u001b[0;34m\u001b[0m\u001b[0;34m\u001b[0m\u001b[0m\n\u001b[1;32m    224\u001b[0m             return [func(*args, **kwargs)\n\u001b[0;32m--> 225\u001b[0;31m                     for func, args, kwargs in self.items]\n\u001b[0m\u001b[1;32m    226\u001b[0m \u001b[0;34m\u001b[0m\u001b[0m\n\u001b[1;32m    227\u001b[0m     \u001b[0;32mdef\u001b[0m \u001b[0m__len__\u001b[0m\u001b[0;34m(\u001b[0m\u001b[0mself\u001b[0m\u001b[0;34m)\u001b[0m\u001b[0;34m:\u001b[0m\u001b[0;34m\u001b[0m\u001b[0;34m\u001b[0m\u001b[0m\n",
            "\u001b[0;32m/usr/local/lib/python3.6/dist-packages/sklearn/model_selection/_validation.py\u001b[0m in \u001b[0;36m_fit_and_score\u001b[0;34m(estimator, X, y, scorer, train, test, verbose, parameters, fit_params, return_train_score, return_parameters, return_n_test_samples, return_times, return_estimator, error_score)\u001b[0m\n\u001b[1;32m    526\u001b[0m             \u001b[0mestimator\u001b[0m\u001b[0;34m.\u001b[0m\u001b[0mfit\u001b[0m\u001b[0;34m(\u001b[0m\u001b[0mX_train\u001b[0m\u001b[0;34m,\u001b[0m \u001b[0;34m**\u001b[0m\u001b[0mfit_params\u001b[0m\u001b[0;34m)\u001b[0m\u001b[0;34m\u001b[0m\u001b[0;34m\u001b[0m\u001b[0m\n\u001b[1;32m    527\u001b[0m         \u001b[0;32melse\u001b[0m\u001b[0;34m:\u001b[0m\u001b[0;34m\u001b[0m\u001b[0;34m\u001b[0m\u001b[0m\n\u001b[0;32m--> 528\u001b[0;31m             \u001b[0mestimator\u001b[0m\u001b[0;34m.\u001b[0m\u001b[0mfit\u001b[0m\u001b[0;34m(\u001b[0m\u001b[0mX_train\u001b[0m\u001b[0;34m,\u001b[0m \u001b[0my_train\u001b[0m\u001b[0;34m,\u001b[0m \u001b[0;34m**\u001b[0m\u001b[0mfit_params\u001b[0m\u001b[0;34m)\u001b[0m\u001b[0;34m\u001b[0m\u001b[0;34m\u001b[0m\u001b[0m\n\u001b[0m\u001b[1;32m    529\u001b[0m \u001b[0;34m\u001b[0m\u001b[0m\n\u001b[1;32m    530\u001b[0m     \u001b[0;32mexcept\u001b[0m \u001b[0mException\u001b[0m \u001b[0;32mas\u001b[0m \u001b[0me\u001b[0m\u001b[0;34m:\u001b[0m\u001b[0;34m\u001b[0m\u001b[0;34m\u001b[0m\u001b[0m\n",
            "\u001b[0;32m/usr/local/lib/python3.6/dist-packages/keras/wrappers/scikit_learn.py\u001b[0m in \u001b[0;36mfit\u001b[0;34m(self, x, y, sample_weight, **kwargs)\u001b[0m\n\u001b[1;32m    208\u001b[0m         \u001b[0;32mif\u001b[0m \u001b[0msample_weight\u001b[0m \u001b[0;32mis\u001b[0m \u001b[0;32mnot\u001b[0m \u001b[0;32mNone\u001b[0m\u001b[0;34m:\u001b[0m\u001b[0;34m\u001b[0m\u001b[0;34m\u001b[0m\u001b[0m\n\u001b[1;32m    209\u001b[0m             \u001b[0mkwargs\u001b[0m\u001b[0;34m[\u001b[0m\u001b[0;34m'sample_weight'\u001b[0m\u001b[0;34m]\u001b[0m \u001b[0;34m=\u001b[0m \u001b[0msample_weight\u001b[0m\u001b[0;34m\u001b[0m\u001b[0;34m\u001b[0m\u001b[0m\n\u001b[0;32m--> 210\u001b[0;31m         \u001b[0;32mreturn\u001b[0m \u001b[0msuper\u001b[0m\u001b[0;34m(\u001b[0m\u001b[0mKerasClassifier\u001b[0m\u001b[0;34m,\u001b[0m \u001b[0mself\u001b[0m\u001b[0;34m)\u001b[0m\u001b[0;34m.\u001b[0m\u001b[0mfit\u001b[0m\u001b[0;34m(\u001b[0m\u001b[0mx\u001b[0m\u001b[0;34m,\u001b[0m \u001b[0my\u001b[0m\u001b[0;34m,\u001b[0m \u001b[0;34m**\u001b[0m\u001b[0mkwargs\u001b[0m\u001b[0;34m)\u001b[0m\u001b[0;34m\u001b[0m\u001b[0;34m\u001b[0m\u001b[0m\n\u001b[0m\u001b[1;32m    211\u001b[0m \u001b[0;34m\u001b[0m\u001b[0m\n\u001b[1;32m    212\u001b[0m     \u001b[0;32mdef\u001b[0m \u001b[0mpredict\u001b[0m\u001b[0;34m(\u001b[0m\u001b[0mself\u001b[0m\u001b[0;34m,\u001b[0m \u001b[0mx\u001b[0m\u001b[0;34m,\u001b[0m \u001b[0;34m**\u001b[0m\u001b[0mkwargs\u001b[0m\u001b[0;34m)\u001b[0m\u001b[0;34m:\u001b[0m\u001b[0;34m\u001b[0m\u001b[0;34m\u001b[0m\u001b[0m\n",
            "\u001b[0;32m/usr/local/lib/python3.6/dist-packages/keras/wrappers/scikit_learn.py\u001b[0m in \u001b[0;36mfit\u001b[0;34m(self, x, y, **kwargs)\u001b[0m\n\u001b[1;32m    150\u001b[0m         \u001b[0mfit_args\u001b[0m\u001b[0;34m.\u001b[0m\u001b[0mupdate\u001b[0m\u001b[0;34m(\u001b[0m\u001b[0mkwargs\u001b[0m\u001b[0;34m)\u001b[0m\u001b[0;34m\u001b[0m\u001b[0;34m\u001b[0m\u001b[0m\n\u001b[1;32m    151\u001b[0m \u001b[0;34m\u001b[0m\u001b[0m\n\u001b[0;32m--> 152\u001b[0;31m         \u001b[0mhistory\u001b[0m \u001b[0;34m=\u001b[0m \u001b[0mself\u001b[0m\u001b[0;34m.\u001b[0m\u001b[0mmodel\u001b[0m\u001b[0;34m.\u001b[0m\u001b[0mfit\u001b[0m\u001b[0;34m(\u001b[0m\u001b[0mx\u001b[0m\u001b[0;34m,\u001b[0m \u001b[0my\u001b[0m\u001b[0;34m,\u001b[0m \u001b[0;34m**\u001b[0m\u001b[0mfit_args\u001b[0m\u001b[0;34m)\u001b[0m\u001b[0;34m\u001b[0m\u001b[0;34m\u001b[0m\u001b[0m\n\u001b[0m\u001b[1;32m    153\u001b[0m \u001b[0;34m\u001b[0m\u001b[0m\n\u001b[1;32m    154\u001b[0m         \u001b[0;32mreturn\u001b[0m \u001b[0mhistory\u001b[0m\u001b[0;34m\u001b[0m\u001b[0;34m\u001b[0m\u001b[0m\n",
            "\u001b[0;32m/usr/local/lib/python3.6/dist-packages/keras/engine/training.py\u001b[0m in \u001b[0;36mfit\u001b[0;34m(self, x, y, batch_size, epochs, verbose, callbacks, validation_split, validation_data, shuffle, class_weight, sample_weight, initial_epoch, steps_per_epoch, validation_steps, **kwargs)\u001b[0m\n\u001b[1;32m    950\u001b[0m             \u001b[0msample_weight\u001b[0m\u001b[0;34m=\u001b[0m\u001b[0msample_weight\u001b[0m\u001b[0;34m,\u001b[0m\u001b[0;34m\u001b[0m\u001b[0;34m\u001b[0m\u001b[0m\n\u001b[1;32m    951\u001b[0m             \u001b[0mclass_weight\u001b[0m\u001b[0;34m=\u001b[0m\u001b[0mclass_weight\u001b[0m\u001b[0;34m,\u001b[0m\u001b[0;34m\u001b[0m\u001b[0;34m\u001b[0m\u001b[0m\n\u001b[0;32m--> 952\u001b[0;31m             batch_size=batch_size)\n\u001b[0m\u001b[1;32m    953\u001b[0m         \u001b[0;31m# Prepare validation data.\u001b[0m\u001b[0;34m\u001b[0m\u001b[0;34m\u001b[0m\u001b[0;34m\u001b[0m\u001b[0m\n\u001b[1;32m    954\u001b[0m         \u001b[0mdo_validation\u001b[0m \u001b[0;34m=\u001b[0m \u001b[0;32mFalse\u001b[0m\u001b[0;34m\u001b[0m\u001b[0;34m\u001b[0m\u001b[0m\n",
            "\u001b[0;32m/usr/local/lib/python3.6/dist-packages/keras/engine/training.py\u001b[0m in \u001b[0;36m_standardize_user_data\u001b[0;34m(self, x, y, sample_weight, class_weight, check_array_lengths, batch_size)\u001b[0m\n\u001b[1;32m    749\u001b[0m             \u001b[0mfeed_input_shapes\u001b[0m\u001b[0;34m,\u001b[0m\u001b[0;34m\u001b[0m\u001b[0;34m\u001b[0m\u001b[0m\n\u001b[1;32m    750\u001b[0m             \u001b[0mcheck_batch_axis\u001b[0m\u001b[0;34m=\u001b[0m\u001b[0;32mFalse\u001b[0m\u001b[0;34m,\u001b[0m  \u001b[0;31m# Don't enforce the batch size.\u001b[0m\u001b[0;34m\u001b[0m\u001b[0;34m\u001b[0m\u001b[0m\n\u001b[0;32m--> 751\u001b[0;31m             exception_prefix='input')\n\u001b[0m\u001b[1;32m    752\u001b[0m \u001b[0;34m\u001b[0m\u001b[0m\n\u001b[1;32m    753\u001b[0m         \u001b[0;32mif\u001b[0m \u001b[0my\u001b[0m \u001b[0;32mis\u001b[0m \u001b[0;32mnot\u001b[0m \u001b[0;32mNone\u001b[0m\u001b[0;34m:\u001b[0m\u001b[0;34m\u001b[0m\u001b[0;34m\u001b[0m\u001b[0m\n",
            "\u001b[0;32m/usr/local/lib/python3.6/dist-packages/keras/engine/training_utils.py\u001b[0m in \u001b[0;36mstandardize_input_data\u001b[0;34m(data, names, shapes, check_batch_axis, exception_prefix)\u001b[0m\n\u001b[1;32m     90\u001b[0m         \u001b[0mdata\u001b[0m \u001b[0;34m=\u001b[0m \u001b[0mdata\u001b[0m\u001b[0;34m.\u001b[0m\u001b[0mvalues\u001b[0m \u001b[0;32mif\u001b[0m \u001b[0mdata\u001b[0m\u001b[0;34m.\u001b[0m\u001b[0m__class__\u001b[0m\u001b[0;34m.\u001b[0m\u001b[0m__name__\u001b[0m \u001b[0;34m==\u001b[0m \u001b[0;34m'DataFrame'\u001b[0m \u001b[0;32melse\u001b[0m \u001b[0mdata\u001b[0m\u001b[0;34m\u001b[0m\u001b[0;34m\u001b[0m\u001b[0m\n\u001b[1;32m     91\u001b[0m         \u001b[0mdata\u001b[0m \u001b[0;34m=\u001b[0m \u001b[0;34m[\u001b[0m\u001b[0mdata\u001b[0m\u001b[0;34m]\u001b[0m\u001b[0;34m\u001b[0m\u001b[0;34m\u001b[0m\u001b[0m\n\u001b[0;32m---> 92\u001b[0;31m     \u001b[0mdata\u001b[0m \u001b[0;34m=\u001b[0m \u001b[0;34m[\u001b[0m\u001b[0mstandardize_single_array\u001b[0m\u001b[0;34m(\u001b[0m\u001b[0mx\u001b[0m\u001b[0;34m)\u001b[0m \u001b[0;32mfor\u001b[0m \u001b[0mx\u001b[0m \u001b[0;32min\u001b[0m \u001b[0mdata\u001b[0m\u001b[0;34m]\u001b[0m\u001b[0;34m\u001b[0m\u001b[0;34m\u001b[0m\u001b[0m\n\u001b[0m\u001b[1;32m     93\u001b[0m \u001b[0;34m\u001b[0m\u001b[0m\n\u001b[1;32m     94\u001b[0m     \u001b[0;32mif\u001b[0m \u001b[0mlen\u001b[0m\u001b[0;34m(\u001b[0m\u001b[0mdata\u001b[0m\u001b[0;34m)\u001b[0m \u001b[0;34m!=\u001b[0m \u001b[0mlen\u001b[0m\u001b[0;34m(\u001b[0m\u001b[0mnames\u001b[0m\u001b[0;34m)\u001b[0m\u001b[0;34m:\u001b[0m\u001b[0;34m\u001b[0m\u001b[0;34m\u001b[0m\u001b[0m\n",
            "\u001b[0;32m/usr/local/lib/python3.6/dist-packages/keras/engine/training_utils.py\u001b[0m in \u001b[0;36m<listcomp>\u001b[0;34m(.0)\u001b[0m\n\u001b[1;32m     90\u001b[0m         \u001b[0mdata\u001b[0m \u001b[0;34m=\u001b[0m \u001b[0mdata\u001b[0m\u001b[0;34m.\u001b[0m\u001b[0mvalues\u001b[0m \u001b[0;32mif\u001b[0m \u001b[0mdata\u001b[0m\u001b[0;34m.\u001b[0m\u001b[0m__class__\u001b[0m\u001b[0;34m.\u001b[0m\u001b[0m__name__\u001b[0m \u001b[0;34m==\u001b[0m \u001b[0;34m'DataFrame'\u001b[0m \u001b[0;32melse\u001b[0m \u001b[0mdata\u001b[0m\u001b[0;34m\u001b[0m\u001b[0;34m\u001b[0m\u001b[0m\n\u001b[1;32m     91\u001b[0m         \u001b[0mdata\u001b[0m \u001b[0;34m=\u001b[0m \u001b[0;34m[\u001b[0m\u001b[0mdata\u001b[0m\u001b[0;34m]\u001b[0m\u001b[0;34m\u001b[0m\u001b[0;34m\u001b[0m\u001b[0m\n\u001b[0;32m---> 92\u001b[0;31m     \u001b[0mdata\u001b[0m \u001b[0;34m=\u001b[0m \u001b[0;34m[\u001b[0m\u001b[0mstandardize_single_array\u001b[0m\u001b[0;34m(\u001b[0m\u001b[0mx\u001b[0m\u001b[0;34m)\u001b[0m \u001b[0;32mfor\u001b[0m \u001b[0mx\u001b[0m \u001b[0;32min\u001b[0m \u001b[0mdata\u001b[0m\u001b[0;34m]\u001b[0m\u001b[0;34m\u001b[0m\u001b[0;34m\u001b[0m\u001b[0m\n\u001b[0m\u001b[1;32m     93\u001b[0m \u001b[0;34m\u001b[0m\u001b[0m\n\u001b[1;32m     94\u001b[0m     \u001b[0;32mif\u001b[0m \u001b[0mlen\u001b[0m\u001b[0;34m(\u001b[0m\u001b[0mdata\u001b[0m\u001b[0;34m)\u001b[0m \u001b[0;34m!=\u001b[0m \u001b[0mlen\u001b[0m\u001b[0;34m(\u001b[0m\u001b[0mnames\u001b[0m\u001b[0;34m)\u001b[0m\u001b[0;34m:\u001b[0m\u001b[0;34m\u001b[0m\u001b[0;34m\u001b[0m\u001b[0m\n",
            "\u001b[0;32m/usr/local/lib/python3.6/dist-packages/keras/engine/training_utils.py\u001b[0m in \u001b[0;36mstandardize_single_array\u001b[0;34m(x)\u001b[0m\n\u001b[1;32m     25\u001b[0m                 'Got tensor with shape: %s' % str(shape))\n\u001b[1;32m     26\u001b[0m         \u001b[0;32mreturn\u001b[0m \u001b[0mx\u001b[0m\u001b[0;34m\u001b[0m\u001b[0;34m\u001b[0m\u001b[0m\n\u001b[0;32m---> 27\u001b[0;31m     \u001b[0;32melif\u001b[0m \u001b[0mx\u001b[0m\u001b[0;34m.\u001b[0m\u001b[0mndim\u001b[0m \u001b[0;34m==\u001b[0m \u001b[0;36m1\u001b[0m\u001b[0;34m:\u001b[0m\u001b[0;34m\u001b[0m\u001b[0;34m\u001b[0m\u001b[0m\n\u001b[0m\u001b[1;32m     28\u001b[0m         \u001b[0mx\u001b[0m \u001b[0;34m=\u001b[0m \u001b[0mnp\u001b[0m\u001b[0;34m.\u001b[0m\u001b[0mexpand_dims\u001b[0m\u001b[0;34m(\u001b[0m\u001b[0mx\u001b[0m\u001b[0;34m,\u001b[0m \u001b[0;36m1\u001b[0m\u001b[0;34m)\u001b[0m\u001b[0;34m\u001b[0m\u001b[0;34m\u001b[0m\u001b[0m\n\u001b[1;32m     29\u001b[0m     \u001b[0;32mreturn\u001b[0m \u001b[0mx\u001b[0m\u001b[0;34m\u001b[0m\u001b[0;34m\u001b[0m\u001b[0m\n",
            "\u001b[0;31mAttributeError\u001b[0m: 'tuple' object has no attribute 'ndim'"
          ]
        }
      ]
    },
    {
      "metadata": {
        "id": "Pw21Fbc0HlpT",
        "colab_type": "code",
        "colab": {}
      },
      "cell_type": "code",
      "source": [
        "model.save('/content/gdrive/My Drive/Bioinformatica/FirstVGG16.h5')"
      ],
      "execution_count": 0,
      "outputs": []
    },
    {
      "metadata": {
        "id": "16yYjozTaS3Q",
        "colab_type": "code",
        "outputId": "b2b712ef-4b9d-409b-a901-85b3944655cf",
        "colab": {
          "base_uri": "https://localhost:8080/",
          "height": 34
        }
      },
      "cell_type": "code",
      "source": [
        "#steps = images in the test folder / batch size\n",
        "\n",
        "predictions = model.predict_generator(test_batches, steps= 5, verbose=1)\n",
        "\n",
        "#predictions = np.argmax(predictions, axis=-1) #multiple categories"
      ],
      "execution_count": 0,
      "outputs": [
        {
          "output_type": "stream",
          "text": [
            "5/5 [==============================] - 3s 513ms/step\n"
          ],
          "name": "stdout"
        }
      ]
    },
    {
      "metadata": {
        "id": "IevjxPbdz42F",
        "colab_type": "code",
        "colab": {}
      },
      "cell_type": "code",
      "source": [
        "def plot_confusion_matrix(cm,classes,normalize=False,title='Confusion matrix', cmap=plt.cm.Blues):\n",
        "\n",
        "#This function prints and plots the confusion matrix.\n",
        "#Normalization can ben applied by setting 'normalize-True'\n",
        "\n",
        "    plt.imshow(cm, interpolation='nearest', cmap=cmap)\n",
        "    plt.title(title)\n",
        "    plt.colorbar()\n",
        "    tick_marks=np.arange(len(classes))\n",
        "    plt.xticks(tick_marks,classes,rotation=45)\n",
        "    plt.yticks(tick_marks,classes)\n",
        "\n",
        "    if normalize:\n",
        "        cm = cm.astype('float') / cm.sum(axis=1)[:, np.newaxis]\n",
        "        print(\"Normalized confusion matrix\")\n",
        "    else:\n",
        "        print('Confusion matrix, without normalization')\n",
        "\n",
        "    print(cm)\n",
        "\n",
        "    thresh = cm.max() / 2\n",
        "    for i,j in itertools.product(range(cm.shape[0]), range(cm.shape[1])):\n",
        "        if normalize:\n",
        "           plt.text(j, i, \"{:0.2f}\".format(cm[i, j]), horizontalalignment=\"center\", color=\"white\" if cm[i,j] > thresh else \"black\")\n",
        "        else:\n",
        "           plt.text(j, i, format(cm[i, j]), horizontalalignment=\"center\", color=\"white\" if cm[i,j] > thresh else \"black\")\n",
        "\n",
        "    plt.tight_layout()\n",
        "    plt.ylabel('True label')\n",
        "    plt.xlabel('Predicted label')"
      ],
      "execution_count": 0,
      "outputs": []
    },
    {
      "metadata": {
        "id": "lXWPqShJahcX",
        "colab_type": "code",
        "outputId": "5c3ab2ec-d269-42e4-91cd-54b90262a521",
        "colab": {
          "base_uri": "https://localhost:8080/",
          "height": 430
        }
      },
      "cell_type": "code",
      "source": [
        "!pip3 install -U scikit-learn\n",
        "from sklearn.metrics import confusion_matrix\n",
        "#test_imgs, test_labels = next(test_batches)\n",
        "test_labels=test_batches.classes\n",
        "\n",
        "#MULTI-LABEL CONFUSION MATRIX\n",
        "\n",
        "y_test_non_category = [ np.argmax(t) for t in test_labels ]\n",
        "#y_test_non_category = np.argmax(test_labels, axis=-1) #multiple categories\n",
        "y_predict_non_category = [ np.argmax(t) for t in predictions ]\n",
        "\n",
        "from sklearn.metrics import confusion_matrix\n",
        "conf_mat = confusion_matrix(y_test_non_category, y_predict_non_category)\n",
        "\n",
        "cm_plot_labels = ['Benign','Healthy','Cancer']\n",
        "plot_confusion_matrix(conf_mat,cm_plot_labels,normalize=False,title ='Confusion Matrix')"
      ],
      "execution_count": 0,
      "outputs": [
        {
          "output_type": "stream",
          "text": [
            "Requirement already up-to-date: scikit-learn in /usr/local/lib/python3.6/dist-packages (0.20.3)\n",
            "Requirement already satisfied, skipping upgrade: scipy>=0.13.3 in /usr/local/lib/python3.6/dist-packages (from scikit-learn) (1.2.1)\n",
            "Requirement already satisfied, skipping upgrade: numpy>=1.8.2 in /usr/local/lib/python3.6/dist-packages (from scikit-learn) (1.14.6)\n",
            "Confusion matrix, without normalization\n",
            "[[242 159  36]\n",
            " [  0   0   0]\n",
            " [  0   0   0]]\n"
          ],
          "name": "stdout"
        },
        {
          "output_type": "display_data",
          "data": {
            "image/png": "[encoded data removed]",
            "text/plain": [
              "<Figure size 432x288 with 2 Axes>"
            ]
          },
          "metadata": {
            "tags": []
          }
        }
      ]
    },
    {
      "metadata": {
        "id": "5hl4i2DAMLq0",
        "colab_type": "text"
      },
      "cell_type": "markdown",
      "source": [
        "**ANOTHER WAY TO PREDICT AND PLOT THE CONFUSION MATRIX**"
      ]
    },
    {
      "metadata": {
        "id": "Kv4xTqC0Lmld",
        "colab_type": "code",
        "outputId": "6500b317-a767-4d96-a716-3e4389b335ab",
        "colab": {
          "base_uri": "https://localhost:8080/",
          "height": 34
        }
      },
      "cell_type": "code",
      "source": [
        "#from keras.models import load_model\n",
        "#model = load_model('/content/gdrive/My Drive/Bioinformatica/FirstVGG16.h5')\n",
        "\n",
        "generator = ImageDataGenerator().flow_from_directory(\n",
        "        '/content/gdrive/My Drive/Bioinformatica/Organized dataset/Test/Patches',\n",
        "        target_size=(224, 224),\n",
        "        batch_size=200)\n",
        "\n",
        "probabilities = model.predict_generator(generator, 1)\n",
        "#probabilities = np.argmax(probabilities, axis=-1) #multiple categories"
      ],
      "execution_count": 0,
      "outputs": [
        {
          "output_type": "stream",
          "text": [
            "Found 437 images belonging to 3 classes.\n"
          ],
          "name": "stdout"
        }
      ]
    },
    {
      "metadata": {
        "id": "oImJd6lZeHIx",
        "colab_type": "code",
        "outputId": "a592228b-9ad8-48f5-a503-0018ad27cfe6",
        "colab": {
          "base_uri": "https://localhost:8080/",
          "height": 430
        }
      },
      "cell_type": "code",
      "source": [
        "!pip3 install -U scikit-learn\n",
        "from sklearn.metrics import confusion_matrix\n",
        "#cm = confusion_matrix(test_labels, predictions)\n",
        "\n",
        "#MULTI-LABEL CONFUSION MATRIX\n",
        "test_dir, test_labels = next(generator)\n",
        "test_img = [ np.argmax(t) for t in test_labels ]\n",
        "predicted_img = [ np.argmax(t) for t in probabilities ]\n",
        "\n",
        "from sklearn.metrics import confusion_matrix\n",
        "conf_mat = confusion_matrix(test_img, predicted_img)\n",
        "\n",
        "cm_plot_labels = ['Benign','Healthy','Cancer']\n",
        "plot_confusion_matrix(conf_mat,cm_plot_labels,normalize=True,title ='Confusion Matrix')"
      ],
      "execution_count": 0,
      "outputs": [
        {
          "output_type": "stream",
          "text": [
            "Requirement already up-to-date: scikit-learn in /usr/local/lib/python3.6/dist-packages (0.20.3)\n",
            "Requirement already satisfied, skipping upgrade: scipy>=0.13.3 in /usr/local/lib/python3.6/dist-packages (from scikit-learn) (1.2.1)\n",
            "Requirement already satisfied, skipping upgrade: numpy>=1.8.2 in /usr/local/lib/python3.6/dist-packages (from scikit-learn) (1.14.6)\n",
            "Normalized confusion matrix\n",
            "[[0.58461538 0.32307692 0.09230769]\n",
            " [0.59722222 0.34722222 0.05555556]\n",
            " [0.53968254 0.33333333 0.12698413]]\n"
          ],
          "name": "stdout"
        },
        {
          "output_type": "display_data",
          "data": {
            "image/png": "[encoded data removed]",
            "text/plain": [
              "<Figure size 432x288 with 2 Axes>"
            ]
          },
          "metadata": {
            "tags": []
          }
        }
      ]
    },
    {
      "metadata": {
        "id": "ebt5IeUAbJGI",
        "colab_type": "text"
      },
      "cell_type": "markdown",
      "source": [
        "**QUESTA DOVREBBE ESSERE LA FINE DELLA PRIMA PARTE DI TEST, SE FIN QUI I RISULTATI SONO BUONI, POSSIAMO FERMARCI SE NO BISOGNA FARE DATA AUGMENTATION E AUMENTARE LE EPOCHS**"
      ]
    },
    {
      "metadata": {
        "id": "K8dBilwSbHUR",
        "colab_type": "code",
        "colab": {}
      },
      "cell_type": "code",
      "source": [
        "#DATA AUGMENATION\n",
        "\n",
        "#NOTE: every time this script is run, image crops will augment of a 6 factor\n",
        "\n",
        "gen = ImageDataGenerator(rotation_range=10, width_shift_range=0.1, height_shift_range=0.1, shear_range=0.15, zoom_range=0.1, channel_shift_range=10., horizontal_flip=True)\n",
        "\n",
        "path=\"/content/gdrive/My Drive/Bioinformatica/Patches\"\n",
        "\n",
        "folders = [path + \"/Healthy\", path + \"/Benign\", path + \"/Cancer\"]\n",
        "for folder in folders:                                          #loops through the three folders of patches\n",
        "   for filename in glob.glob(os.path.join(folder, '*.png')):   #sequentially selects each .png file in the current folder\n",
        "      print(filename)\n",
        "      image = np.expand_dims(ndimage.imread(filename),0)\n",
        "      aug_iter = gen.flow(image)\n",
        "      aug_image = [next(aug_iter)[0].astype(np.uint8) for i in range(6)]  #get 6 samples of augmented images\n",
        "      for i in range(len(aug_image)):                                     #save all the generated images\n",
        "        scipy.misc.imsave(filename[:-4] + str(i) + '.png', aug_image[0])"
      ],
      "execution_count": 0,
      "outputs": []
    },
    {
      "metadata": {
        "id": "UDHtej_pRtX3",
        "colab_type": "code",
        "colab": {}
      },
      "cell_type": "code",
      "source": [
        "plots(aug_images, figsize=(20,7), rows=2)"
      ],
      "execution_count": 0,
      "outputs": []
    },
    {
      "metadata": {
        "id": "9gMCxAa6Pky9",
        "colab_type": "text"
      },
      "cell_type": "markdown",
      "source": [
        "**SE I RISULTATI OTTENUTI CON UN DETERMINATO SET DI IMPOSTAZIONI SONO BUONI E VOGLIAMO FREEZZARLI E RIPRODURLI ...**"
      ]
    },
    {
      "metadata": {
        "id": "Wf1Il5dSPwvq",
        "colab_type": "code",
        "colab": {}
      },
      "cell_type": "code",
      "source": [
        "import numpy as np\n",
        "import tensorflow as tf\n",
        "import random as rn\n",
        "import os\n",
        "os.environ['PYTHONHASHSEED'] = '0'\n",
        "\n",
        "#Setting the seed for numpy-generated random numbers\n",
        "np.random.seed(37)\n",
        "\n",
        "#Setting the seed for Python random numbers\n",
        "rn.seed(1254)\n",
        "\n",
        "#Setting the seed for Tensorflow random numbers\n",
        "tf.set_random_seed(89)\n",
        "\n",
        "from keras import backend as K\n",
        "\n",
        "#Force TensorFlow to use a single thread\n",
        "sess = tf.Session(graph=tf.get_default_graph(), config=session_conf)\n",
        "K.set_session(sess)\n",
        "\n",
        "#Paste training Keras code here after setting the random seeds"
      ],
      "execution_count": 0,
      "outputs": []
    },
    {
      "metadata": {
        "id": "hzocYylhSBvu",
        "colab_type": "text"
      },
      "cell_type": "markdown",
      "source": [
        " **CLASS ACTIVION MAP**"
      ]
    },
    {
      "metadata": {
        "id": "_u4vOjUh_zfO",
        "colab_type": "code",
        "colab": {}
      },
      "cell_type": "code",
      "source": [
        "# --- CLASS ACTIVATION MAP --- #\n",
        "from keras.models import *\n",
        "from keras.callbacks import *\n",
        "import keras.backend as K\n",
        "#from model import *\n",
        "#from data import *\n",
        "import cv2\n",
        "\n",
        "#After the last convolutional layer in a typical network like VGG16, we have an N-dimensional image, where N is the number of filters in this layer. \n",
        "#For example in VGG16, the last convolutional layer has 512 filters. For example, for an 1024x1024 input image (lets discard the fully connected layers, \n",
        "#so we can use any input image size we want), the output shape of the last convolutional layer will be 512x64x64. \n",
        "#Since 1024/64 = 16, we have a 16x16 spatial mapping resolution. \n",
        "#A global average pooling (GAP) layer just takes each of these 512 channels, and returns their spatial average. \n",
        "#Channels with high activations, will have high signals.\n",
        "\n",
        "def global_average_pooling(x):\n",
        "        return K.mean(x, axis = (2, 3))\n",
        "  \n",
        "\n",
        "def global_average_pooling_shape(input_shape):\n",
        "        return input_shape[0:2]\n",
        "  \n",
        "#The second step is to assign a weight to each output from the global average pooling layer, for each of the categories. \n",
        "#This can be done by adding a dense linear layer + softmax, training an SVM on the GAP output, or applying any other linear classifier on top of the GAP. \n",
        "#These weights set the importance of each of the convolutional layer outputs.\n",
        "\n",
        "\n",
        "#TO DO: \n",
        "#    --- definire una funzione che crei il modello VGG16 (ho visto che Elena ha creato il modello ma non dentro una funzione)\n",
        "def get_model():\n",
        "\t    model = VGG16_convolutions()\n",
        "\t    model = load_model_weights(model, \"vgg16_weights.h5\")\n",
        "\t    \n",
        "\t    model.add(Lambda(global_average_pooling, \n",
        "\t              output_shape=global_average_pooling_shape))\n",
        "\t    model.add(Dense(2, activation = 'softmax', init='uniform'))\n",
        "\t    sgd = SGD(lr=0.01, decay=1e-6, momentum=0.5, nesterov=True)\n",
        "\t    model.compile(loss = 'categorical_crossentropy', \\\n",
        "            optimizer = sgd, metrics=['accuracy'])\n",
        "\t    return model\n",
        "\n",
        "def load_model_weights(model, weights_path):\n",
        "    print ('Loading model.')\n",
        "    f = h5py.File(weights_path)\n",
        "    for k in range(f.attrs['nb_layers']):\n",
        "        if k >= len(model.layers):\n",
        "            # we don't look at the last (fully-connected) layers in the savefile\n",
        "            break\n",
        "        g = f['layer_{}'.format(k)]\n",
        "        weights = [g['param_{}'.format(p)] for p in range(g.attrs['nb_params'])]\n",
        "        model.layers[k].set_weights(weights)\n",
        "        model.layers[k].trainable = False\n",
        "    f.close()\n",
        "    print ('Model loaded.')\n",
        "    return model\n",
        "\n",
        "def get_output_layer(model, layer_name):\n",
        "    # get the symbolic outputs of each \"key\" layer (we gave them unique names).\n",
        "    layer_dict = dict([(layer.name, layer) for layer in model.layers])\n",
        "    layer = layer_dict[layer_name]\n",
        "    return layer    \n",
        "       \n",
        "#TO DO: \n",
        "# --- definire il \"dataset_path\"\n",
        "# --- definire la funzione \"load_images\": è necessario creare due path diversi, uno per immagini positive e l'altro per quelle negative\n",
        "#     (poi la faccio io appena riusciamo a fare i test)\n",
        "\n",
        "def train(dataset_path):\n",
        "        model = get_model()\n",
        "        X, y = load_images(dataset_path)\n",
        "\t      #print ('Training')\n",
        "        checkpoint_path=\"weights.{epoch:02d}-{val_loss:.2f}.hdf5\"\n",
        "        checkpoint = ModelCheckpoint(checkpoint_path, monitor='val_loss', verbose=0, save_best_only=False, save_weights_only=False, mode='auto')\n",
        "        model.fit(X, y, nb_epoch=40, batch_size=32, validation_split=0.2, verbose=1, callbacks=[checkpoint])\n",
        "\n",
        "#Now to create a heatmap for a class we can just take output images from the last convolutional layer, multiply them by their assigned weights \n",
        "#(different weights for each class), and sum.\n",
        "\n",
        "def visualize_class_activation_map(model_path, img_path, output_path):\n",
        "        model = load_model(model_path)\n",
        "        original_img = cv2.imread(img_path, 1)\n",
        "        width, height, _ = original_img.shape\n",
        "\n",
        "        #Reshape to the network input shape (3, w, h).\n",
        "        img = np.array([np.transpose(np.float32(original_img), (2, 0, 1))])\n",
        "        \n",
        "        #Get the 512 input weights to the softmax.\n",
        "        class_weights = model.layers[-1].get_weights()[0]\n",
        "        final_conv_layer = get_output_layer(model, \"conv5_3\")\n",
        "        get_output = K.function([model.layers[0].input], \\\n",
        "                    [final_conv_layer.output, \n",
        "        model.layers[-1].output])\n",
        "        [conv_outputs, predictions] = get_output([img])\n",
        "        conv_outputs = conv_outputs[0, :, :, :]\n",
        "\n",
        "        #Create the class activation map.\n",
        "        cam = np.zeros(dtype = np.float32, shape = conv_outputs.shape[1:3])\n",
        "        target_class = 1\n",
        "        for i, w in enumerate(class_weights[:, target_class]):\n",
        "                cam += w * conv_outputs[i, :, :]\n",
        "        print (\"predictions\"), predictions\n",
        "        cam /= np.max(cam)\n",
        "        cam = cv2.resize(cam, (height, width))\n",
        "        heatmap = cv2.applyColorMap(np.uint8(255*cam), cv2.COLORMAP_JET)\n",
        "        heatmap[np.where(cam < 0.2)] = 0\n",
        "        img = heatmap*0.5 + original_img\n",
        "        cv2.imwrite(output_path, img)"
      ],
      "execution_count": 0,
      "outputs": []
    },
    {
      "metadata": {
        "id": "BVh5rtuAJzoe",
        "colab_type": "text"
      },
      "cell_type": "markdown",
      "source": [
        "**ANOTHER FINE TUNING OF VGG16**"
      ]
    },
    {
      "metadata": {
        "id": "bZygExd5J3ed",
        "colab_type": "code",
        "outputId": "ae5feb45-5305-45df-bd27-c47c687d28cd",
        "colab": {
          "base_uri": "https://localhost:8080/",
          "height": 1278
        }
      },
      "cell_type": "code",
      "source": [
        "#NEW VGG16 TUNING\n",
        "\n",
        "import numpy as np\n",
        "!pip3 install keras\n",
        "#!pip3 install tensorflow==1.5.0\n",
        "!pip3 install tensorflow\n",
        "!pip install mxnet-mkl\n",
        "!pip3 install sklearn\n",
        "!pip3 install keras_tqdm\n",
        "!pip install scipy\n",
        "import keras\n",
        "from keras import backend as K\n",
        "from keras.models import Sequential\n",
        "from keras.layers import Activation\n",
        "from keras.layers.core import Dense, Flatten\n",
        "from keras.optimizers import Adam\n",
        "from keras.metrics import categorical_crossentropy\n",
        "from keras.preprocessing.image import ImageDataGenerator\n",
        "from keras.layers.normalization import BatchNormalization\n",
        "from keras.layers.convolutional import *\n",
        "from matplotlib import pyplot as plt\n",
        "from sklearn.metrics import *\n",
        "import itertools\n",
        "import matplotlib.pyplot as plt\n",
        "%matplotlib inline\n",
        "\n",
        "\n",
        "from keras.applications import VGG16\n",
        "#Load the VGG model\n",
        "vgg16_model = VGG16(weights='imagenet', include_top=False, input_shape=(224, 224, 3))\n",
        "\n",
        "# Freeze the layers except the last 4 layers\n",
        "for layer in vgg16_model.layers[:-4]:\n",
        "    layer.trainable = False\n",
        " \n",
        "# Check the trainable status of the individual layers\n",
        "for layer in vgg16_model.layers:\n",
        "    print(layer, layer.trainable)\n"
      ],
      "execution_count": 0,
      "outputs": [
        {
          "output_type": "stream",
          "text": [
            "Requirement already satisfied: keras in /usr/local/lib/python3.6/dist-packages (2.2.4)\n",
            "Requirement already satisfied: scipy>=0.14 in /usr/local/lib/python3.6/dist-packages (from keras) (1.2.1)\n",
            "Requirement already satisfied: keras-preprocessing>=1.0.5 in /usr/local/lib/python3.6/dist-packages (from keras) (1.0.9)\n",
            "Requirement already satisfied: keras-applications>=1.0.6 in /usr/local/lib/python3.6/dist-packages (from keras) (1.0.7)\n",
            "Requirement already satisfied: six>=1.9.0 in /usr/local/lib/python3.6/dist-packages (from keras) (1.12.0)\n",
            "Requirement already satisfied: pyyaml in /usr/local/lib/python3.6/dist-packages (from keras) (3.13)\n",
            "Requirement already satisfied: h5py in /usr/local/lib/python3.6/dist-packages (from keras) (2.8.0)\n",
            "Requirement already satisfied: numpy>=1.9.1 in /usr/local/lib/python3.6/dist-packages (from keras) (1.14.6)\n",
            "Requirement already satisfied: tensorflow in /usr/local/lib/python3.6/dist-packages (1.13.1)\n",
            "Requirement already satisfied: keras-preprocessing>=1.0.5 in /usr/local/lib/python3.6/dist-packages (from tensorflow) (1.0.9)\n",
            "Requirement already satisfied: protobuf>=3.6.1 in /usr/local/lib/python3.6/dist-packages (from tensorflow) (3.7.1)\n",
            "Requirement already satisfied: wheel>=0.26 in /usr/local/lib/python3.6/dist-packages (from tensorflow) (0.33.1)\n",
            "Requirement already satisfied: six>=1.10.0 in /usr/local/lib/python3.6/dist-packages (from tensorflow) (1.12.0)\n",
            "Requirement already satisfied: keras-applications>=1.0.6 in /usr/local/lib/python3.6/dist-packages (from tensorflow) (1.0.7)\n",
            "Requirement already satisfied: astor>=0.6.0 in /usr/local/lib/python3.6/dist-packages (from tensorflow) (0.7.1)\n",
            "Requirement already satisfied: numpy>=1.13.3 in /usr/local/lib/python3.6/dist-packages (from tensorflow) (1.14.6)\n",
            "Requirement already satisfied: tensorflow-estimator<1.14.0rc0,>=1.13.0 in /usr/local/lib/python3.6/dist-packages (from tensorflow) (1.13.0)\n",
            "Requirement already satisfied: termcolor>=1.1.0 in /usr/local/lib/python3.6/dist-packages (from tensorflow) (1.1.0)\n",
            "Requirement already satisfied: gast>=0.2.0 in /usr/local/lib/python3.6/dist-packages (from tensorflow) (0.2.2)\n",
            "Requirement already satisfied: tensorboard<1.14.0,>=1.13.0 in /usr/local/lib/python3.6/dist-packages (from tensorflow) (1.13.1)\n",
            "Requirement already satisfied: absl-py>=0.1.6 in /usr/local/lib/python3.6/dist-packages (from tensorflow) (0.7.1)\n",
            "Requirement already satisfied: grpcio>=1.8.6 in /usr/local/lib/python3.6/dist-packages (from tensorflow) (1.15.0)\n",
            "Requirement already satisfied: setuptools in /usr/local/lib/python3.6/dist-packages (from protobuf>=3.6.1->tensorflow) (40.9.0)\n",
            "Requirement already satisfied: h5py in /usr/local/lib/python3.6/dist-packages (from keras-applications>=1.0.6->tensorflow) (2.8.0)\n",
            "Requirement already satisfied: mock>=2.0.0 in /usr/local/lib/python3.6/dist-packages (from tensorflow-estimator<1.14.0rc0,>=1.13.0->tensorflow) (2.0.0)\n",
            "Requirement already satisfied: werkzeug>=0.11.15 in /usr/local/lib/python3.6/dist-packages (from tensorboard<1.14.0,>=1.13.0->tensorflow) (0.15.2)\n",
            "Requirement already satisfied: markdown>=2.6.8 in /usr/local/lib/python3.6/dist-packages (from tensorboard<1.14.0,>=1.13.0->tensorflow) (3.1)\n",
            "Requirement already satisfied: pbr>=0.11 in /usr/local/lib/python3.6/dist-packages (from mock>=2.0.0->tensorflow-estimator<1.14.0rc0,>=1.13.0->tensorflow) (5.1.3)\n",
            "Requirement already satisfied: mxnet-mkl in /usr/local/lib/python3.6/dist-packages (1.4.0.post0)\n",
            "Requirement already satisfied: graphviz<0.9.0,>=0.8.1 in /usr/local/lib/python3.6/dist-packages (from mxnet-mkl) (0.8.4)\n",
            "Requirement already satisfied: requests>=2.20.0 in /usr/local/lib/python3.6/dist-packages (from mxnet-mkl) (2.21.0)\n",
            "Requirement already satisfied: numpy<1.15.0,>=1.8.2 in /usr/local/lib/python3.6/dist-packages (from mxnet-mkl) (1.14.6)\n",
            "Requirement already satisfied: chardet<3.1.0,>=3.0.2 in /usr/local/lib/python3.6/dist-packages (from requests>=2.20.0->mxnet-mkl) (3.0.4)\n",
            "Requirement already satisfied: urllib3<1.25,>=1.21.1 in /usr/local/lib/python3.6/dist-packages (from requests>=2.20.0->mxnet-mkl) (1.24.2)\n",
            "Requirement already satisfied: idna<2.9,>=2.5 in /usr/local/lib/python3.6/dist-packages (from requests>=2.20.0->mxnet-mkl) (2.8)\n",
            "Requirement already satisfied: certifi>=2017.4.17 in /usr/local/lib/python3.6/dist-packages (from requests>=2.20.0->mxnet-mkl) (2019.3.9)\n",
            "Requirement already satisfied: sklearn in /usr/local/lib/python3.6/dist-packages (0.0)\n",
            "Requirement already satisfied: scikit-learn in /usr/local/lib/python3.6/dist-packages (from sklearn) (0.20.3)\n",
            "Requirement already satisfied: numpy>=1.8.2 in /usr/local/lib/python3.6/dist-packages (from scikit-learn->sklearn) (1.14.6)\n",
            "Requirement already satisfied: scipy>=0.13.3 in /usr/local/lib/python3.6/dist-packages (from scikit-learn->sklearn) (1.2.1)\n",
            "Requirement already satisfied: keras_tqdm in /usr/local/lib/python3.6/dist-packages (2.0.1)\n",
            "Requirement already satisfied: tqdm in /usr/local/lib/python3.6/dist-packages (from keras_tqdm) (4.28.1)\n",
            "Requirement already satisfied: Keras in /usr/local/lib/python3.6/dist-packages (from keras_tqdm) (2.2.4)\n",
            "Requirement already satisfied: keras-applications>=1.0.6 in /usr/local/lib/python3.6/dist-packages (from Keras->keras_tqdm) (1.0.7)\n",
            "Requirement already satisfied: numpy>=1.9.1 in /usr/local/lib/python3.6/dist-packages (from Keras->keras_tqdm) (1.14.6)\n",
            "Requirement already satisfied: keras-preprocessing>=1.0.5 in /usr/local/lib/python3.6/dist-packages (from Keras->keras_tqdm) (1.0.9)\n",
            "Requirement already satisfied: pyyaml in /usr/local/lib/python3.6/dist-packages (from Keras->keras_tqdm) (3.13)\n",
            "Requirement already satisfied: h5py in /usr/local/lib/python3.6/dist-packages (from Keras->keras_tqdm) (2.8.0)\n",
            "Requirement already satisfied: scipy>=0.14 in /usr/local/lib/python3.6/dist-packages (from Keras->keras_tqdm) (1.2.1)\n",
            "Requirement already satisfied: six>=1.9.0 in /usr/local/lib/python3.6/dist-packages (from Keras->keras_tqdm) (1.12.0)\n",
            "Requirement already satisfied: scipy in /usr/local/lib/python3.6/dist-packages (1.2.1)\n",
            "Requirement already satisfied: numpy>=1.8.2 in /usr/local/lib/python3.6/dist-packages (from scipy) (1.14.6)\n",
            "Downloading data from https://github.com/fchollet/deep-learning-models/releases/download/v0.1/vgg16_weights_tf_dim_ordering_tf_kernels_notop.h5\n",
            "58892288/58889256 [==============================] - 2s 0us/step\n",
            "<keras.engine.input_layer.InputLayer object at 0x7f4a416cd748> False\n",
            "<keras.layers.convolutional.Conv2D object at 0x7f4a405f53c8> False\n",
            "<keras.layers.convolutional.Conv2D object at 0x7f4a405ed908> False\n",
            "<keras.layers.pooling.MaxPooling2D object at 0x7f4a40624208> False\n",
            "<keras.layers.convolutional.Conv2D object at 0x7f4a40617e10> False\n",
            "<keras.layers.convolutional.Conv2D object at 0x7f4a405bed30> False\n",
            "<keras.layers.pooling.MaxPooling2D object at 0x7f4a40567550> False\n",
            "<keras.layers.convolutional.Conv2D object at 0x7f4a40567400> False\n",
            "<keras.layers.convolutional.Conv2D object at 0x7f4a40595208> False\n",
            "<keras.layers.convolutional.Conv2D object at 0x7f4a40529828> False\n",
            "<keras.layers.pooling.MaxPooling2D object at 0x7f4a40545c50> False\n",
            "<keras.layers.convolutional.Conv2D object at 0x7f4a405459b0> False\n",
            "<keras.layers.convolutional.Conv2D object at 0x7f495cf87b00> False\n",
            "<keras.layers.convolutional.Conv2D object at 0x7f495cfb4278> False\n",
            "<keras.layers.pooling.MaxPooling2D object at 0x7f495cf4db00> False\n",
            "<keras.layers.convolutional.Conv2D object at 0x7f495cf4d668> True\n",
            "<keras.layers.convolutional.Conv2D object at 0x7f495cf7b320> True\n",
            "<keras.layers.convolutional.Conv2D object at 0x7f495cf12d68> True\n",
            "<keras.layers.pooling.MaxPooling2D object at 0x7f495cebf5f8> True\n"
          ],
          "name": "stdout"
        }
      ]
    },
    {
      "metadata": {
        "id": "ZEsbH3OnKx1k",
        "colab_type": "code",
        "outputId": "dab9e882-48e5-4467-b730-d50c8e36d01a",
        "colab": {
          "base_uri": "https://localhost:8080/",
          "height": 377
        }
      },
      "cell_type": "code",
      "source": [
        "from keras import models\n",
        "from keras import layers\n",
        "from keras import optimizers\n",
        " \n",
        "# Create the model\n",
        "newVGG16_model = models.Sequential()\n",
        " \n",
        "# Add the vgg convolutional base model\n",
        "newVGG16_model.add(vgg16_model)\n",
        " \n",
        "# Add new layers\n",
        "newVGG16_model.add(layers.Flatten())\n",
        "newVGG16_model.add(layers.Dense(1024, activation='relu'))\n",
        "newVGG16_model.add(layers.Dropout(0.5))\n",
        "newVGG16_model.add(layers.Dense(3, activation='softmax'))\n",
        " \n",
        "# Show a summary of the model. Check the number of trainable parameters\n",
        "newVGG16_model.summary()"
      ],
      "execution_count": 0,
      "outputs": [
        {
          "output_type": "stream",
          "text": [
            "WARNING:tensorflow:From /usr/local/lib/python3.6/dist-packages/keras/backend/tensorflow_backend.py:3445: calling dropout (from tensorflow.python.ops.nn_ops) with keep_prob is deprecated and will be removed in a future version.\n",
            "Instructions for updating:\n",
            "Please use `rate` instead of `keep_prob`. Rate should be set to `rate = 1 - keep_prob`.\n",
            "_________________________________________________________________\n",
            "Layer (type)                 Output Shape              Param #   \n",
            "=================================================================\n",
            "vgg16 (Model)                (None, 7, 7, 512)         14714688  \n",
            "_________________________________________________________________\n",
            "flatten_1 (Flatten)          (None, 25088)             0         \n",
            "_________________________________________________________________\n",
            "dense_8 (Dense)              (None, 1024)              25691136  \n",
            "_________________________________________________________________\n",
            "dropout_1 (Dropout)          (None, 1024)              0         \n",
            "_________________________________________________________________\n",
            "dense_9 (Dense)              (None, 3)                 3075      \n",
            "=================================================================\n",
            "Total params: 40,408,899\n",
            "Trainable params: 32,773,635\n",
            "Non-trainable params: 7,635,264\n",
            "_________________________________________________________________\n"
          ],
          "name": "stdout"
        }
      ]
    },
    {
      "metadata": {
        "id": "RvbWegZuLykP",
        "colab_type": "code",
        "outputId": "1a2e93fd-d85c-4764-90eb-3b59eed93c59",
        "colab": {
          "base_uri": "https://localhost:8080/",
          "height": 51
        }
      },
      "cell_type": "code",
      "source": [
        "train_path=\"/content/gdrive/My Drive/Bioinformatica/Organized dataset/Training/Patches\"\n",
        "#train_path=\"/Users/Mac/Desktop/ROI-dataset-bioinf/Training/Patches/\"\n",
        "valid_path=\"/content/gdrive/My Drive/Bioinformatica/Organized dataset/Validation/Patches\"\n",
        "#valid_path=\"/Users/Mac/Desktop/ROI-dataset-bioinf/Validation/Patches\"\n",
        "#test_path =\"/Users/Mac/Desktop/ROI-dataset-bioinf/Test/Patches\"\n",
        "test_path=\"/content/gdrive/My Drive/Bioinformatica/Organized dataset/Test/Patches\"\n",
        "'''\n",
        "train_datagen = ImageDataGenerator(\n",
        "      rescale=1./255,\n",
        "      rotation_range=20,\n",
        "      width_shift_range=0.2,\n",
        "      height_shift_range=0.2,\n",
        "      horizontal_flip=True,\n",
        "      fill_mode='nearest')\n",
        " \n",
        "validation_datagen = ImageDataGenerator(rescale=1./255)\n",
        "'''\n",
        "\n",
        "'''\n",
        "train_datagen = ImageDataGenerator(rotation_range=10, shear_range=0.15, channel_shift_range=10., horizontal_flip=True)\n",
        "# Change the batchsize according to your system RAM\n",
        "train_batchsize = 100\n",
        "val_batchsize = 10\n",
        " \n",
        "train_generator = train_datagen.flow_from_directory(\n",
        "        train_path,\n",
        "        target_size=(224, 224),\n",
        "        batch_size=train_batchsize,\n",
        "        class_mode='categorical')\n",
        " \n",
        "validation_generator = ImageDataGenerator().flow_from_directory(\n",
        "        valid_path,\n",
        "        target_size=(224, 224),\n",
        "        batch_size=val_batchsize,\n",
        "        class_mode='categorical',\n",
        "        shuffle=False)\n",
        "'''\n",
        "train_datagen = ImageDataGenerator(rescale= 1. /255)\n",
        "validation_datagen = ImageDataGenerator(rescale= 1. /255)\n",
        "\n",
        "train_generator = train_datagen.flow_from_directory(\n",
        "    '/content/gdrive/My Drive/Bioinformatica/Organized dataset/Training/Patches',\n",
        "    target_size=(224, 224),\n",
        "    batch_size=100,\n",
        "    class_mode='categorical',\n",
        "    color_mode='rgb')\n",
        "\n",
        "validation_generator = validation_datagen.flow_from_directory(\n",
        "    '/content/gdrive/My Drive/Bioinformatica/Organized dataset/Validation/Patches',\n",
        "    target_size=(224, 224),\n",
        "    batch_size= 100,\n",
        "    class_mode='categorical',\n",
        "    color_mode='rgb',\n",
        "    shuffle=False)"
      ],
      "execution_count": 0,
      "outputs": [
        {
          "output_type": "stream",
          "text": [
            "Found 2263 images belonging to 3 classes.\n",
            "Found 1053 images belonging to 3 classes.\n"
          ],
          "name": "stdout"
        }
      ]
    },
    {
      "metadata": {
        "id": "qbhBqv8hMocM",
        "colab_type": "code",
        "outputId": "6cfc21b6-9a82-4479-d1f8-9a96217d0e3f",
        "colab": {
          "base_uri": "https://localhost:8080/",
          "height": 3417
        }
      },
      "cell_type": "code",
      "source": [
        "es = keras.callbacks.EarlyStopping(monitor='val_loss',\n",
        "                              min_delta=0,\n",
        "                              patience=2,\n",
        "                              verbose=0, mode='auto')\n",
        "\n",
        "# Compile the model\n",
        "newVGG16_model.compile(loss='categorical_crossentropy',optimizer=\n",
        "              SGD(lr=0.0001, momentum=0.9, decay=0.0, nesterov=True),\n",
        "              metrics=['accuracy'])\n",
        "# Train the model\n",
        "history = newVGG16_model.fit_generator(\n",
        "      train_generator,\n",
        "      steps_per_epoch=train_generator.samples/train_generator.batch_size ,\n",
        "      epochs=100,\n",
        "      validation_data=validation_generator,\n",
        "      validation_steps=validation_generator.samples/validation_generator.batch_size,\n",
        "      verbose=1)#, callbacks=[es])\n",
        " \n",
        "# Save the model\n",
        "newVGG16_model.save('/content/gdrive/My Drive/Bioinformatica/newVGG16.h6')"
      ],
      "execution_count": 0,
      "outputs": [
        {
          "output_type": "stream",
          "text": [
            "Epoch 1/100\n",
            "23/22 [==============================] - 23s 1s/step - loss: 1.1825 - acc: 0.3779 - val_loss: 0.9900 - val_acc: 0.5708\n",
            "Epoch 2/100\n",
            "23/22 [==============================] - 20s 882ms/step - loss: 0.8914 - acc: 0.5824 - val_loss: 0.8358 - val_acc: 0.6277\n",
            "Epoch 3/100\n",
            "23/22 [==============================] - 20s 860ms/step - loss: 0.6830 - acc: 0.7204 - val_loss: 0.7511 - val_acc: 0.6239\n",
            "Epoch 4/100\n",
            "23/22 [==============================] - 19s 837ms/step - loss: 0.5392 - acc: 0.7844 - val_loss: 0.6519 - val_acc: 0.6543\n",
            "Epoch 5/100\n",
            "23/22 [==============================] - 19s 838ms/step - loss: 0.4392 - acc: 0.8245 - val_loss: 0.6140 - val_acc: 0.6657\n",
            "Epoch 6/100\n",
            "23/22 [==============================] - 20s 851ms/step - loss: 0.4046 - acc: 0.8302 - val_loss: 0.6002 - val_acc: 0.6828\n",
            "Epoch 7/100\n",
            "23/22 [==============================] - 20s 857ms/step - loss: 0.3586 - acc: 0.8568 - val_loss: 0.6115 - val_acc: 0.6828\n",
            "Epoch 8/100\n",
            "23/22 [==============================] - 20s 851ms/step - loss: 0.3166 - acc: 0.8711 - val_loss: 0.6015 - val_acc: 0.6914\n",
            "Epoch 9/100\n",
            "23/22 [==============================] - 19s 846ms/step - loss: 0.2988 - acc: 0.8786 - val_loss: 0.5362 - val_acc: 0.7217\n",
            "Epoch 10/100\n",
            "23/22 [==============================] - 19s 848ms/step - loss: 0.2788 - acc: 0.8933 - val_loss: 0.6343 - val_acc: 0.7009\n",
            "Epoch 11/100\n",
            "23/22 [==============================] - 19s 847ms/step - loss: 0.2597 - acc: 0.8885 - val_loss: 0.6690 - val_acc: 0.7018\n",
            "Epoch 12/100\n",
            "23/22 [==============================] - 20s 850ms/step - loss: 0.2414 - acc: 0.9011 - val_loss: 0.6114 - val_acc: 0.7217\n",
            "Epoch 13/100\n",
            "23/22 [==============================] - 20s 850ms/step - loss: 0.2242 - acc: 0.9084 - val_loss: 0.6267 - val_acc: 0.7217\n",
            "Epoch 14/100\n",
            "23/22 [==============================] - 20s 850ms/step - loss: 0.2164 - acc: 0.9177 - val_loss: 0.5587 - val_acc: 0.7436\n",
            "Epoch 15/100\n",
            "23/22 [==============================] - 20s 850ms/step - loss: 0.2102 - acc: 0.9130 - val_loss: 0.7201 - val_acc: 0.7113\n",
            "Epoch 16/100\n",
            "23/22 [==============================] - 20s 851ms/step - loss: 0.1997 - acc: 0.9224 - val_loss: 0.6162 - val_acc: 0.7379\n",
            "Epoch 17/100\n",
            "23/22 [==============================] - 20s 851ms/step - loss: 0.1807 - acc: 0.9307 - val_loss: 0.6868 - val_acc: 0.7312\n",
            "Epoch 18/100\n",
            "23/22 [==============================] - 20s 848ms/step - loss: 0.1713 - acc: 0.9418 - val_loss: 0.6352 - val_acc: 0.7436\n",
            "Epoch 19/100\n",
            "23/22 [==============================] - 19s 847ms/step - loss: 0.1692 - acc: 0.9367 - val_loss: 0.7402 - val_acc: 0.7246\n",
            "Epoch 20/100\n",
            "23/22 [==============================] - 19s 848ms/step - loss: 0.1628 - acc: 0.9359 - val_loss: 0.5432 - val_acc: 0.7787\n",
            "Epoch 21/100\n",
            "23/22 [==============================] - 20s 849ms/step - loss: 0.1518 - acc: 0.9435 - val_loss: 0.6513 - val_acc: 0.7493\n",
            "Epoch 22/100\n",
            "23/22 [==============================] - 20s 852ms/step - loss: 0.1437 - acc: 0.9474 - val_loss: 0.5846 - val_acc: 0.7730\n",
            "Epoch 23/100\n",
            "23/22 [==============================] - 20s 850ms/step - loss: 0.1398 - acc: 0.9512 - val_loss: 0.6950 - val_acc: 0.7445\n",
            "Epoch 24/100\n",
            "23/22 [==============================] - 20s 853ms/step - loss: 0.1346 - acc: 0.9502 - val_loss: 0.6228 - val_acc: 0.7654\n",
            "Epoch 25/100\n",
            "23/22 [==============================] - 20s 851ms/step - loss: 0.1265 - acc: 0.9513 - val_loss: 0.6011 - val_acc: 0.7749\n",
            "Epoch 26/100\n",
            "23/22 [==============================] - 20s 852ms/step - loss: 0.1211 - acc: 0.9567 - val_loss: 0.5966 - val_acc: 0.7835\n",
            "Epoch 27/100\n",
            "23/22 [==============================] - 20s 851ms/step - loss: 0.1101 - acc: 0.9649 - val_loss: 0.5962 - val_acc: 0.7778\n",
            "Epoch 28/100\n",
            "23/22 [==============================] - 20s 849ms/step - loss: 0.1145 - acc: 0.9605 - val_loss: 0.5910 - val_acc: 0.7854\n",
            "Epoch 29/100\n",
            "23/22 [==============================] - 20s 851ms/step - loss: 0.1083 - acc: 0.9609 - val_loss: 0.5816 - val_acc: 0.7920\n",
            "Epoch 30/100\n",
            "23/22 [==============================] - 20s 851ms/step - loss: 0.1093 - acc: 0.9592 - val_loss: 0.6225 - val_acc: 0.7806\n",
            "Epoch 31/100\n",
            "23/22 [==============================] - 20s 852ms/step - loss: 0.1068 - acc: 0.9566 - val_loss: 0.5594 - val_acc: 0.7958\n",
            "Epoch 32/100\n",
            "23/22 [==============================] - 20s 848ms/step - loss: 0.0994 - acc: 0.9638 - val_loss: 0.6024 - val_acc: 0.7854\n",
            "Epoch 33/100\n",
            "23/22 [==============================] - 19s 847ms/step - loss: 0.0965 - acc: 0.9658 - val_loss: 0.5410 - val_acc: 0.8072\n",
            "Epoch 34/100\n",
            "23/22 [==============================] - 19s 847ms/step - loss: 0.0925 - acc: 0.9671 - val_loss: 0.6161 - val_acc: 0.7787\n",
            "Epoch 35/100\n",
            "23/22 [==============================] - 20s 849ms/step - loss: 0.0869 - acc: 0.9680 - val_loss: 0.4804 - val_acc: 0.8291\n",
            "Epoch 36/100\n",
            "23/22 [==============================] - 20s 849ms/step - loss: 0.0858 - acc: 0.9721 - val_loss: 0.4540 - val_acc: 0.8367\n",
            "Epoch 37/100\n",
            "23/22 [==============================] - 20s 850ms/step - loss: 0.0792 - acc: 0.9737 - val_loss: 0.5002 - val_acc: 0.8215\n",
            "Epoch 38/100\n",
            "23/22 [==============================] - 20s 851ms/step - loss: 0.0813 - acc: 0.9748 - val_loss: 0.5054 - val_acc: 0.8215\n",
            "Epoch 39/100\n",
            "23/22 [==============================] - 20s 850ms/step - loss: 0.0746 - acc: 0.9761 - val_loss: 0.5617 - val_acc: 0.8063\n",
            "Epoch 40/100\n",
            "23/22 [==============================] - 20s 850ms/step - loss: 0.0830 - acc: 0.9715 - val_loss: 0.5223 - val_acc: 0.8148\n",
            "Epoch 41/100\n",
            "23/22 [==============================] - 20s 850ms/step - loss: 0.0720 - acc: 0.9804 - val_loss: 0.4543 - val_acc: 0.8424\n",
            "Epoch 42/100\n",
            "23/22 [==============================] - 19s 847ms/step - loss: 0.0705 - acc: 0.9780 - val_loss: 0.4937 - val_acc: 0.8243\n",
            "Epoch 43/100\n",
            "23/22 [==============================] - 19s 848ms/step - loss: 0.0686 - acc: 0.9797 - val_loss: 0.4320 - val_acc: 0.8500\n",
            "Epoch 44/100\n",
            "23/22 [==============================] - 20s 850ms/step - loss: 0.0640 - acc: 0.9797 - val_loss: 0.4926 - val_acc: 0.8243\n",
            "Epoch 45/100\n",
            "23/22 [==============================] - 20s 849ms/step - loss: 0.0660 - acc: 0.9771 - val_loss: 0.4971 - val_acc: 0.8234\n",
            "Epoch 46/100\n",
            "23/22 [==============================] - 20s 849ms/step - loss: 0.0617 - acc: 0.9778 - val_loss: 0.5242 - val_acc: 0.8167\n",
            "Epoch 47/100\n",
            "23/22 [==============================] - 20s 849ms/step - loss: 0.0664 - acc: 0.9788 - val_loss: 0.4231 - val_acc: 0.8490\n",
            "Epoch 48/100\n",
            "23/22 [==============================] - 20s 851ms/step - loss: 0.0622 - acc: 0.9795 - val_loss: 0.4826 - val_acc: 0.8329\n",
            "Epoch 49/100\n",
            "23/22 [==============================] - 20s 850ms/step - loss: 0.0629 - acc: 0.9778 - val_loss: 0.4746 - val_acc: 0.8348\n",
            "Epoch 50/100\n",
            "23/22 [==============================] - 20s 850ms/step - loss: 0.0578 - acc: 0.9802 - val_loss: 0.3691 - val_acc: 0.8557\n",
            "Epoch 51/100\n",
            "23/22 [==============================] - 20s 849ms/step - loss: 0.0570 - acc: 0.9819 - val_loss: 0.5984 - val_acc: 0.8025\n",
            "Epoch 52/100\n",
            "23/22 [==============================] - 19s 847ms/step - loss: 0.0509 - acc: 0.9841 - val_loss: 0.4638 - val_acc: 0.8386\n",
            "Epoch 53/100\n",
            "23/22 [==============================] - 20s 849ms/step - loss: 0.0528 - acc: 0.9850 - val_loss: 0.5135 - val_acc: 0.8215\n",
            "Epoch 54/100\n",
            "23/22 [==============================] - 20s 851ms/step - loss: 0.0494 - acc: 0.9878 - val_loss: 0.4929 - val_acc: 0.8272\n",
            "Epoch 55/100\n",
            "23/22 [==============================] - 20s 850ms/step - loss: 0.0502 - acc: 0.9874 - val_loss: 0.4423 - val_acc: 0.8414\n",
            "Epoch 56/100\n",
            "23/22 [==============================] - 20s 850ms/step - loss: 0.0544 - acc: 0.9813 - val_loss: 0.4892 - val_acc: 0.8329\n",
            "Epoch 57/100\n",
            "23/22 [==============================] - 20s 848ms/step - loss: 0.0453 - acc: 0.9858 - val_loss: 0.4351 - val_acc: 0.8443\n",
            "Epoch 58/100\n",
            "23/22 [==============================] - 20s 849ms/step - loss: 0.0440 - acc: 0.9884 - val_loss: 0.5733 - val_acc: 0.8129\n",
            "Epoch 59/100\n",
            "23/22 [==============================] - 20s 849ms/step - loss: 0.0461 - acc: 0.9874 - val_loss: 0.4125 - val_acc: 0.8490\n",
            "Epoch 60/100\n",
            "23/22 [==============================] - 20s 849ms/step - loss: 0.0407 - acc: 0.9874 - val_loss: 0.4660 - val_acc: 0.8386\n",
            "Epoch 61/100\n",
            "23/22 [==============================] - 20s 851ms/step - loss: 0.0410 - acc: 0.9900 - val_loss: 0.4904 - val_acc: 0.8319\n",
            "Epoch 62/100\n",
            "23/22 [==============================] - 20s 850ms/step - loss: 0.0406 - acc: 0.9878 - val_loss: 0.5186 - val_acc: 0.8291\n",
            "Epoch 63/100\n",
            "23/22 [==============================] - 20s 850ms/step - loss: 0.0407 - acc: 0.9904 - val_loss: 0.4317 - val_acc: 0.8414\n",
            "Epoch 64/100\n",
            "23/22 [==============================] - 20s 851ms/step - loss: 0.0403 - acc: 0.9906 - val_loss: 0.5006 - val_acc: 0.8367\n",
            "Epoch 65/100\n",
            "23/22 [==============================] - 20s 849ms/step - loss: 0.0385 - acc: 0.9904 - val_loss: 0.4760 - val_acc: 0.8376\n",
            "Epoch 66/100\n",
            "23/22 [==============================] - 20s 848ms/step - loss: 0.0398 - acc: 0.9900 - val_loss: 0.4733 - val_acc: 0.8357\n",
            "Epoch 67/100\n",
            "23/22 [==============================] - 20s 849ms/step - loss: 0.0377 - acc: 0.9904 - val_loss: 0.5314 - val_acc: 0.8234\n",
            "Epoch 68/100\n",
            "23/22 [==============================] - 20s 848ms/step - loss: 0.0384 - acc: 0.9884 - val_loss: 0.3946 - val_acc: 0.8547\n",
            "Epoch 69/100\n",
            "23/22 [==============================] - 20s 848ms/step - loss: 0.0366 - acc: 0.9913 - val_loss: 0.3731 - val_acc: 0.8585\n",
            "Epoch 70/100\n",
            "23/22 [==============================] - 20s 854ms/step - loss: 0.0346 - acc: 0.9909 - val_loss: 0.5018 - val_acc: 0.8386\n",
            "Epoch 71/100\n",
            "23/22 [==============================] - 19s 847ms/step - loss: 0.0358 - acc: 0.9883 - val_loss: 0.4034 - val_acc: 0.8490\n",
            "Epoch 72/100\n",
            "23/22 [==============================] - 20s 850ms/step - loss: 0.0337 - acc: 0.9906 - val_loss: 0.4954 - val_acc: 0.8386\n",
            "Epoch 73/100\n",
            "23/22 [==============================] - 20s 850ms/step - loss: 0.0322 - acc: 0.9904 - val_loss: 0.3844 - val_acc: 0.8566\n",
            "Epoch 74/100\n",
            "23/22 [==============================] - 20s 851ms/step - loss: 0.0321 - acc: 0.9884 - val_loss: 0.4189 - val_acc: 0.8490\n",
            "Epoch 75/100\n",
            "23/22 [==============================] - 20s 851ms/step - loss: 0.0298 - acc: 0.9932 - val_loss: 0.5130 - val_acc: 0.8348\n",
            "Epoch 76/100\n",
            "23/22 [==============================] - 20s 850ms/step - loss: 0.0321 - acc: 0.9939 - val_loss: 0.4240 - val_acc: 0.8471\n",
            "Epoch 77/100\n",
            "23/22 [==============================] - 20s 849ms/step - loss: 0.0283 - acc: 0.9930 - val_loss: 0.4087 - val_acc: 0.8557\n",
            "Epoch 78/100\n",
            "23/22 [==============================] - 20s 848ms/step - loss: 0.0286 - acc: 0.9939 - val_loss: 0.4757 - val_acc: 0.8414\n",
            "Epoch 79/100\n",
            "23/22 [==============================] - 20s 849ms/step - loss: 0.0274 - acc: 0.9935 - val_loss: 0.3798 - val_acc: 0.8594\n",
            "Epoch 80/100\n",
            "23/22 [==============================] - 20s 850ms/step - loss: 0.0273 - acc: 0.9956 - val_loss: 0.4083 - val_acc: 0.8538\n",
            "Epoch 81/100\n",
            "23/22 [==============================] - 20s 848ms/step - loss: 0.0303 - acc: 0.9919 - val_loss: 0.4736 - val_acc: 0.8405\n",
            "Epoch 82/100\n",
            "23/22 [==============================] - 20s 848ms/step - loss: 0.0249 - acc: 0.9937 - val_loss: 0.4361 - val_acc: 0.8519\n",
            "Epoch 83/100\n",
            "23/22 [==============================] - 19s 847ms/step - loss: 0.0269 - acc: 0.9941 - val_loss: 0.4096 - val_acc: 0.8557\n",
            "Epoch 84/100\n",
            "23/22 [==============================] - 20s 848ms/step - loss: 0.0256 - acc: 0.9948 - val_loss: 0.4804 - val_acc: 0.8395\n",
            "Epoch 85/100\n",
            "23/22 [==============================] - 20s 848ms/step - loss: 0.0239 - acc: 0.9965 - val_loss: 0.4169 - val_acc: 0.8528\n",
            "Epoch 86/100\n",
            "23/22 [==============================] - 20s 850ms/step - loss: 0.0250 - acc: 0.9937 - val_loss: 0.4774 - val_acc: 0.8395\n",
            "Epoch 87/100\n",
            "23/22 [==============================] - 20s 851ms/step - loss: 0.0260 - acc: 0.9937 - val_loss: 0.3937 - val_acc: 0.8585\n",
            "Epoch 88/100\n",
            "23/22 [==============================] - 20s 849ms/step - loss: 0.0223 - acc: 0.9965 - val_loss: 0.4292 - val_acc: 0.8547\n",
            "Epoch 89/100\n",
            "23/22 [==============================] - 20s 851ms/step - loss: 0.0236 - acc: 0.9952 - val_loss: 0.3528 - val_acc: 0.8623\n",
            "Epoch 90/100\n",
            "23/22 [==============================] - 20s 850ms/step - loss: 0.0210 - acc: 0.9961 - val_loss: 0.4629 - val_acc: 0.8462\n",
            "Epoch 91/100\n",
            "23/22 [==============================] - 20s 849ms/step - loss: 0.0222 - acc: 0.9950 - val_loss: 0.5644 - val_acc: 0.8281\n",
            "Epoch 92/100\n",
            "23/22 [==============================] - 19s 848ms/step - loss: 0.0218 - acc: 0.9970 - val_loss: 0.3562 - val_acc: 0.8680\n",
            "Epoch 93/100\n",
            "23/22 [==============================] - 19s 848ms/step - loss: 0.0208 - acc: 0.9956 - val_loss: 0.4232 - val_acc: 0.8557\n",
            "Epoch 94/100\n",
            "23/22 [==============================] - 19s 847ms/step - loss: 0.0199 - acc: 0.9970 - val_loss: 0.4497 - val_acc: 0.8509\n",
            "Epoch 95/100\n",
            "23/22 [==============================] - 19s 847ms/step - loss: 0.0205 - acc: 0.9974 - val_loss: 0.4603 - val_acc: 0.8500\n",
            "Epoch 96/100\n",
            "23/22 [==============================] - 20s 849ms/step - loss: 0.0201 - acc: 0.9952 - val_loss: 0.3850 - val_acc: 0.8613\n",
            "Epoch 97/100\n",
            "23/22 [==============================] - 20s 850ms/step - loss: 0.0226 - acc: 0.9948 - val_loss: 0.4974 - val_acc: 0.8424\n",
            "Epoch 98/100\n",
            "23/22 [==============================] - 20s 849ms/step - loss: 0.0200 - acc: 0.9952 - val_loss: 0.4530 - val_acc: 0.8547\n",
            "Epoch 99/100\n",
            "23/22 [==============================] - 20s 849ms/step - loss: 0.0195 - acc: 0.9970 - val_loss: 0.4495 - val_acc: 0.8547\n",
            "Epoch 100/100\n",
            "23/22 [==============================] - 20s 849ms/step - loss: 0.0196 - acc: 0.9948 - val_loss: 0.4793 - val_acc: 0.8462\n"
          ],
          "name": "stdout"
        }
      ]
    },
    {
      "metadata": {
        "id": "xsHhyqywXtMI",
        "colab_type": "code",
        "outputId": "8ae5f970-ec49-43dd-91c2-c654edaf861f",
        "colab": {
          "base_uri": "https://localhost:8080/",
          "height": 34
        }
      },
      "cell_type": "code",
      "source": [
        "from keras.models import load_model\n",
        "newVGG16 = load_model('/content/gdrive/My Drive/Bioinformatica/newVGG16.h5')\n",
        "\n",
        "generator = ImageDataGenerator().flow_from_directory(\n",
        "        '/content/gdrive/My Drive/Bioinformatica/Organized dataset/Test/Patches',\n",
        "        target_size=(224, 224),\n",
        "        batch_size=100)\n",
        "\n",
        "probabilities = newVGG16_model.predict_generator(generator, 1)\n",
        "#probabilities = np.argmax(probabilities, axis=-1) #multiple categories"
      ],
      "execution_count": 0,
      "outputs": [
        {
          "output_type": "stream",
          "text": [
            "Found 437 images belonging to 3 classes.\n"
          ],
          "name": "stdout"
        }
      ]
    },
    {
      "metadata": {
        "id": "CPSQ2ztv0BSL",
        "colab_type": "code",
        "colab": {}
      },
      "cell_type": "code",
      "source": [
        "def plot_confusion_matrix(cm,classes,normalize=False,title='Confusion matrix', cmap=plt.cm.Blues):\n",
        "\n",
        "#This function prints and plots the confusion matrix.\n",
        "#Normalization can ben applied by setting 'normalize-True'\n",
        "\n",
        "    plt.imshow(cm, interpolation='nearest', cmap=cmap)\n",
        "    plt.title(title)\n",
        "    plt.colorbar()\n",
        "    tick_marks=np.arange(len(classes))\n",
        "    plt.xticks(tick_marks,classes,rotation=45)\n",
        "    plt.yticks(tick_marks,classes)\n",
        "\n",
        "    if normalize:\n",
        "        cm = cm.astype('float') / cm.sum(axis=1)[:, np.newaxis]\n",
        "        print(\"Normalized confusion matrix\")\n",
        "    else:\n",
        "        print('Confusion matrix, without normalization')\n",
        "\n",
        "    print(cm)\n",
        "\n",
        "    thresh = cm.max() / 2\n",
        "    for i,j in itertools.product(range(cm.shape[0]), range(cm.shape[1])):\n",
        "        if normalize:\n",
        "           plt.text(j, i, \"{:0.2f}\".format(cm[i, j]), horizontalalignment=\"center\", color=\"white\" if cm[i,j] > thresh else \"black\")\n",
        "        else:\n",
        "           plt.text(j, i, format(cm[i, j]), horizontalalignment=\"center\", color=\"white\" if cm[i,j] > thresh else \"black\")\n",
        "\n",
        "    plt.tight_layout()\n",
        "    plt.ylabel('True label')\n",
        "    plt.xlabel('Predicted label')"
      ],
      "execution_count": 0,
      "outputs": []
    },
    {
      "metadata": {
        "id": "9QHDhLbHMy1p",
        "colab_type": "code",
        "outputId": "ad6b048f-fe75-4e9a-f878-24d7079d28f0",
        "colab": {
          "base_uri": "https://localhost:8080/",
          "height": 430
        }
      },
      "cell_type": "code",
      "source": [
        "!pip3 install -U scikit-learn\n",
        "from sklearn.metrics import confusion_matrix\n",
        "\n",
        "#MULTI-LABEL CONFUSION MATRIX\n",
        "test_dir, test_labels = next(generator)\n",
        "test_img = [ np.argmax(t) for t in test_labels ]\n",
        "num_pred = [ np.argmax(t) for t in probabilities ]\n",
        "\n",
        "from sklearn.metrics import confusion_matrix\n",
        "conf_mat = confusion_matrix(test_img, num_pred)\n",
        "\n",
        "cm_plot_labels = ['Benign','Healthy','Cancer']\n",
        "plot_confusion_matrix(conf_mat,cm_plot_labels,normalize=False,title ='Confusion Matrix')"
      ],
      "execution_count": 0,
      "outputs": [
        {
          "output_type": "stream",
          "text": [
            "Requirement already up-to-date: scikit-learn in /usr/local/lib/python3.6/dist-packages (0.20.3)\n",
            "Requirement already satisfied, skipping upgrade: numpy>=1.8.2 in /usr/local/lib/python3.6/dist-packages (from scikit-learn) (1.14.6)\n",
            "Requirement already satisfied, skipping upgrade: scipy>=0.13.3 in /usr/local/lib/python3.6/dist-packages (from scikit-learn) (1.2.1)\n",
            "Confusion matrix, without normalization\n",
            "[[12  6 18]\n",
            " [ 7  4 21]\n",
            " [ 6  4 22]]\n"
          ],
          "name": "stdout"
        },
        {
          "output_type": "display_data",
          "data": {
            "image/png": "[encoded data removed]",
            "text/plain": [
              "<Figure size 432x288 with 2 Axes>"
            ]
          },
          "metadata": {
            "tags": []
          }
        }
      ]
    },
    {
      "metadata": {
        "id": "2ctEn5o83EFe",
        "colab_type": "text"
      },
      "cell_type": "markdown",
      "source": [
        "**FINE TUNING RESNET50**"
      ]
    },
    {
      "metadata": {
        "id": "dHRqp23fGCzq",
        "colab_type": "code",
        "colab": {
          "base_uri": "https://localhost:8080/",
          "height": 2729
        },
        "outputId": "445a4658-dc5d-494f-c3c1-a8e29f4edeeb"
      },
      "cell_type": "code",
      "source": [
        "!pip install keras\n",
        "!pip install h5py\n",
        "\n",
        "!pip install -U --force-reinstall --no-dependencies git+https://github.com/datumbox/keras@bugfix/trainable_bn\n",
        "#http://blog.datumbox.com/the-batch-normalization-layer-of-keras-is-broken/\n",
        "\n",
        "!pip install -U coremltools\n",
        "\n",
        "from keras.applications.resnet50 import ResNet50\n",
        "from keras.models import Model,load_model\n",
        "from keras.layers import Dense,GlobalAveragePooling2D,Input\n",
        "from keras.preprocessing.image import ImageDataGenerator\n",
        "from keras.optimizers import Adadelta\n",
        "import keras\n",
        "import math, os, sys\n",
        "import matplotlib.pyplot as plt\n",
        "import coremltools\n",
        "\n",
        "\n",
        "\n",
        "def get_model():\n",
        "  \n",
        "    input_tensor = Input(shape=(224, 224, 3))  # this assumes K.image_data_format() == 'channels_last'\n",
        "\n",
        "    # create the base pre-trained model\n",
        "    base_model = ResNet50(input_tensor=input_tensor,weights='imagenet',include_top=False)\n",
        "\n",
        "    for layer in base_model.layers:\n",
        "        layer.trainable=False\n",
        "\n",
        "    x = base_model.output\n",
        "    x = GlobalAveragePooling2D(data_format='channels_last')(x)\n",
        "    x = Dense(num_classes, activation='softmax')(x)\n",
        "\n",
        "    updatedModel = Model(base_model.input, x)\n",
        "\n",
        "    return  updatedModel\n",
        "\n",
        "\n",
        "\n",
        "def compile_model(compiledModel):\n",
        "\n",
        "    compiledModel.compile(loss=keras.losses.categorical_crossentropy,\n",
        "                  optimizer=Adadelta(),\n",
        "                  metrics=['accuracy'])\n",
        "\n",
        "\n",
        "def modelFitGenerator(fitModel):\n",
        "\n",
        "    num_train_samples = sum([len(files) for r, d, files in os.walk(train_data_dir)])\n",
        "    num_valid_samples = sum([len(files) for r, d, files in os.walk(validation_data_dir)])\n",
        "\n",
        "    num_train_steps = math.floor(num_train_samples/batch_size)\n",
        "    num_valid_steps = math.floor(num_valid_samples/batch_size)\n",
        "    \n",
        "    train_datagen = ImageDataGenerator(  \n",
        "      rotation_range=90,      \n",
        "      horizontal_flip=True,    \n",
        "      vertical_flip=True,\n",
        "      zoom_range=0.4)\n",
        "\n",
        "    test_datagen = ImageDataGenerator()\n",
        "\n",
        "    train_generator = train_datagen.flow_from_directory(\n",
        "      train_data_dir,\n",
        "      target_size=image_size ,\n",
        "      batch_size=batch_size,\n",
        "      class_mode='categorical', shuffle=True\n",
        "    )\n",
        "\n",
        "    validation_generator = test_datagen.flow_from_directory(\n",
        "      validation_data_dir,\n",
        "      target_size=image_size ,\n",
        "      batch_size=batch_size,\n",
        "      class_mode='categorical', shuffle=True\n",
        "    )\n",
        "\n",
        "    print(\"start history model\")\n",
        "    history = fitModel.fit_generator(\n",
        "      train_generator,\n",
        "      steps_per_epoch=num_train_steps,\n",
        "      epochs=nb_epoch,\n",
        "      validation_data=validation_generator,\n",
        "      validation_steps=num_valid_steps)\n",
        "    \n",
        "    printGraph(history)\n",
        "\n",
        "def printGraph(history):\n",
        "    \n",
        "    plt.plot(history.history['acc'])\n",
        "    plt.plot(history.history['val_acc'])\n",
        "    plt.title('model accuracy')\n",
        "    plt.ylabel('accuracy')\n",
        "    plt.xlabel('epoch')\n",
        "    plt.legend(['train', 'test'], loc='upper left')\n",
        "    plt.show()\n",
        "    # summarize history for loss\n",
        "    plt.plot(history.history['loss'])\n",
        "    plt.plot(history.history['val_loss'])\n",
        "    plt.title('model loss')\n",
        "    plt.ylabel('loss')\n",
        "    plt.xlabel('epoch')\n",
        "    plt.legend(['train', 'test'], loc='upper left')\n",
        "    plt.show()\n",
        "    \n",
        "'''def saveCoreMLModel(kerasModel):\n",
        "    coreml_model = coremltools.converters.keras.convert(kerasModel,\n",
        "                                                    input_names=['input'],\n",
        "                                                    output_names=['probs'],\n",
        "                                                    image_input_names='input',\n",
        "                                                    predicted_feature_name='predictedMoney',\n",
        "                                                    class_labels = 'drive/Resnet/labels.txt')\n",
        "    coreml_model.save('resnet50custom.mlmodel') \n",
        "    print('CoreML model saved')\n",
        "'''    \n",
        "    \n",
        "def main():\n",
        "    model = get_model()\n",
        "    compile_model(model)\n",
        "    modelFitGenerator(model)\n",
        "    #saveCoreMLModel(model)\n",
        "\n",
        "\n",
        "if __name__ == '__main__':\n",
        "    # constants\n",
        "    image_size = (224, 224)\n",
        "    train_data_dir = '/content/gdrive/My Drive/Bioinformatica/Organized dataset/Training/Patches' \n",
        "    validation_data_dir = '/content/gdrive/My Drive/Bioinformatica/Organized dataset/Validation/Patches'\n",
        "    nb_epoch = 30\n",
        "    batch_size = 32\n",
        "    num_classes = 3\n",
        "    main()"
      ],
      "execution_count": 1,
      "outputs": [
        {
          "output_type": "stream",
          "text": [
            "Requirement already satisfied: keras in /usr/local/lib/python3.6/dist-packages (2.2.4)\n",
            "Requirement already satisfied: scipy>=0.14 in /usr/local/lib/python3.6/dist-packages (from keras) (1.2.1)\n",
            "Requirement already satisfied: pyyaml in /usr/local/lib/python3.6/dist-packages (from keras) (3.13)\n",
            "Requirement already satisfied: numpy>=1.9.1 in /usr/local/lib/python3.6/dist-packages (from keras) (1.16.3)\n",
            "Requirement already satisfied: keras-preprocessing>=1.0.5 in /usr/local/lib/python3.6/dist-packages (from keras) (1.0.9)\n",
            "Requirement already satisfied: h5py in /usr/local/lib/python3.6/dist-packages (from keras) (2.8.0)\n",
            "Requirement already satisfied: keras-applications>=1.0.6 in /usr/local/lib/python3.6/dist-packages (from keras) (1.0.7)\n",
            "Requirement already satisfied: six>=1.9.0 in /usr/local/lib/python3.6/dist-packages (from keras) (1.12.0)\n",
            "Requirement already satisfied: h5py in /usr/local/lib/python3.6/dist-packages (2.8.0)\n",
            "Requirement already satisfied: six in /usr/local/lib/python3.6/dist-packages (from h5py) (1.12.0)\n",
            "Requirement already satisfied: numpy>=1.7 in /usr/local/lib/python3.6/dist-packages (from h5py) (1.16.3)\n",
            "Collecting git+https://github.com/datumbox/keras@bugfix/trainable_bn\n",
            "  Cloning https://github.com/datumbox/keras (to revision bugfix/trainable_bn) to /tmp/pip-req-build-__uk2l2m\n",
            "Branch 'bugfix/trainable_bn' set up to track remote branch 'bugfix/trainable_bn' from 'origin'.\n",
            "Switched to a new branch 'bugfix/trainable_bn'\n",
            "Building wheels for collected packages: Keras\n",
            "  Building wheel for Keras (setup.py) ... \u001b[?25ldone\n",
            "\u001b[?25h  Stored in directory: /tmp/pip-ephem-wheel-cache-8niujtiu/wheels/36/5d/50/99c268bf64c1394c4f5b743164e4e515ab30290a523595ac47\n",
            "Successfully built Keras\n",
            "Installing collected packages: Keras\n",
            "  Found existing installation: Keras 2.2.4\n",
            "    Uninstalling Keras-2.2.4:\n",
            "      Successfully uninstalled Keras-2.2.4\n",
            "Successfully installed Keras-2.2.4\n",
            "Requirement already up-to-date: coremltools in /usr/local/lib/python3.6/dist-packages (2.1.0)\n",
            "Requirement already satisfied, skipping upgrade: numpy>=1.10.0 in /usr/local/lib/python3.6/dist-packages (from coremltools) (1.16.3)\n",
            "Requirement already satisfied, skipping upgrade: six>=1.10.0 in /usr/local/lib/python3.6/dist-packages (from coremltools) (1.12.0)\n",
            "Requirement already satisfied, skipping upgrade: protobuf>=3.1.0 in /usr/local/lib/python3.6/dist-packages (from coremltools) (3.7.1)\n",
            "Requirement already satisfied, skipping upgrade: setuptools in /usr/local/lib/python3.6/dist-packages (from protobuf>=3.1.0->coremltools) (40.9.0)\n"
          ],
          "name": "stdout"
        },
        {
          "output_type": "stream",
          "text": [
            "Using TensorFlow backend.\n",
            "WARNING:root:TensorFlow version 1.13.1 detected. Last version known to be fully compatible is 1.12.0 .\n"
          ],
          "name": "stderr"
        },
        {
          "output_type": "stream",
          "text": [
            "WARNING:tensorflow:From /usr/local/lib/python3.6/dist-packages/tensorflow/python/framework/op_def_library.py:263: colocate_with (from tensorflow.python.framework.ops) is deprecated and will be removed in a future version.\n",
            "Instructions for updating:\n",
            "Colocations handled automatically by placer.\n"
          ],
          "name": "stdout"
        },
        {
          "output_type": "stream",
          "text": [
            "WARNING:tensorflow:From /usr/local/lib/python3.6/dist-packages/tensorflow/python/framework/op_def_library.py:263: colocate_with (from tensorflow.python.framework.ops) is deprecated and will be removed in a future version.\n",
            "Instructions for updating:\n",
            "Colocations handled automatically by placer.\n",
            "/usr/local/lib/python3.6/dist-packages/keras_applications/resnet50.py:265: UserWarning: The output shape of `ResNet50(include_top=False)` has been changed since Keras 2.2.0.\n",
            "  warnings.warn('The output shape of `ResNet50(include_top=False)` '\n"
          ],
          "name": "stderr"
        },
        {
          "output_type": "stream",
          "text": [
            "Found 2263 images belonging to 3 classes.\n",
            "Found 1053 images belonging to 3 classes.\n",
            "start history model\n",
            "WARNING:tensorflow:From /usr/local/lib/python3.6/dist-packages/tensorflow/python/ops/math_ops.py:3066: to_int32 (from tensorflow.python.ops.math_ops) is deprecated and will be removed in a future version.\n",
            "Instructions for updating:\n",
            "Use tf.cast instead.\n"
          ],
          "name": "stdout"
        },
        {
          "output_type": "stream",
          "text": [
            "WARNING:tensorflow:From /usr/local/lib/python3.6/dist-packages/tensorflow/python/ops/math_ops.py:3066: to_int32 (from tensorflow.python.ops.math_ops) is deprecated and will be removed in a future version.\n",
            "Instructions for updating:\n",
            "Use tf.cast instead.\n"
          ],
          "name": "stderr"
        },
        {
          "output_type": "stream",
          "text": [
            "Epoch 1/30\n",
            "70/70 [==============================] - 1801s 26s/step - loss: 0.6558 - acc: 0.7451 - val_loss: 0.5201 - val_acc: 0.7911\n",
            "Epoch 2/30\n",
            "70/70 [==============================] - 28s 397ms/step - loss: 0.3064 - acc: 0.9115 - val_loss: 0.3061 - val_acc: 0.9278\n",
            "Epoch 3/30\n",
            "70/70 [==============================] - 30s 421ms/step - loss: 0.2253 - acc: 0.9330 - val_loss: 0.3275 - val_acc: 0.8661\n",
            "Epoch 4/30\n",
            "70/70 [==============================] - 31s 436ms/step - loss: 0.1970 - acc: 0.9362 - val_loss: 0.2701 - val_acc: 0.9126\n",
            "Epoch 5/30\n",
            "70/70 [==============================] - 29s 419ms/step - loss: 0.1756 - acc: 0.9387 - val_loss: 0.3778 - val_acc: 0.8291\n",
            "Epoch 6/30\n",
            "70/70 [==============================] - 30s 428ms/step - loss: 0.1530 - acc: 0.9516 - val_loss: 0.2680 - val_acc: 0.8946\n",
            "Epoch 7/30\n",
            "70/70 [==============================] - 31s 436ms/step - loss: 0.1375 - acc: 0.9555 - val_loss: 0.2204 - val_acc: 0.9107\n",
            "Epoch 8/30\n",
            "70/70 [==============================] - 29s 414ms/step - loss: 0.1440 - acc: 0.9514 - val_loss: 0.3221 - val_acc: 0.8509\n",
            "Epoch 9/30\n",
            "70/70 [==============================] - 29s 413ms/step - loss: 0.1318 - acc: 0.9561 - val_loss: 0.2480 - val_acc: 0.8984\n",
            "Epoch 10/30\n",
            "70/70 [==============================] - 30s 430ms/step - loss: 0.1171 - acc: 0.9603 - val_loss: 0.2014 - val_acc: 0.9193\n",
            "Epoch 11/30\n",
            "70/70 [==============================] - 29s 412ms/step - loss: 0.1115 - acc: 0.9644 - val_loss: 0.2099 - val_acc: 0.9107\n",
            "Epoch 12/30\n",
            "70/70 [==============================] - 30s 427ms/step - loss: 0.1119 - acc: 0.9663 - val_loss: 0.2519 - val_acc: 0.8889\n",
            "Epoch 13/30\n",
            "70/70 [==============================] - 29s 414ms/step - loss: 0.1100 - acc: 0.9635 - val_loss: 0.1979 - val_acc: 0.9212\n",
            "Epoch 14/30\n",
            "70/70 [==============================] - 29s 413ms/step - loss: 0.0907 - acc: 0.9746 - val_loss: 0.2046 - val_acc: 0.9202\n",
            "Epoch 15/30\n",
            "70/70 [==============================] - 30s 430ms/step - loss: 0.1086 - acc: 0.9598 - val_loss: 0.2016 - val_acc: 0.9183\n",
            "Epoch 16/30\n",
            "70/70 [==============================] - 29s 411ms/step - loss: 0.1128 - acc: 0.9616 - val_loss: 0.2795 - val_acc: 0.8737\n",
            "Epoch 17/30\n",
            "70/70 [==============================] - 30s 433ms/step - loss: 0.0988 - acc: 0.9675 - val_loss: 0.2535 - val_acc: 0.8898\n",
            "Epoch 18/30\n",
            "70/70 [==============================] - 30s 430ms/step - loss: 0.0995 - acc: 0.9646 - val_loss: 0.2018 - val_acc: 0.9174\n",
            "Epoch 19/30\n",
            "70/70 [==============================] - 29s 413ms/step - loss: 0.0848 - acc: 0.9737 - val_loss: 0.2538 - val_acc: 0.8936\n",
            "Epoch 20/30\n",
            "70/70 [==============================] - 30s 425ms/step - loss: 0.1019 - acc: 0.9655 - val_loss: 0.2084 - val_acc: 0.9155\n",
            "Epoch 21/30\n",
            "70/70 [==============================] - 30s 424ms/step - loss: 0.0862 - acc: 0.9696 - val_loss: 0.2217 - val_acc: 0.9117\n",
            "Epoch 22/30\n",
            "70/70 [==============================] - 29s 410ms/step - loss: 0.0879 - acc: 0.9713 - val_loss: 0.4275 - val_acc: 0.8234\n",
            "Epoch 23/30\n",
            "70/70 [==============================] - 30s 430ms/step - loss: 0.0898 - acc: 0.9692 - val_loss: 0.2059 - val_acc: 0.9155\n",
            "Epoch 24/30\n",
            "70/70 [==============================] - 29s 409ms/step - loss: 0.0828 - acc: 0.9744 - val_loss: 0.2594 - val_acc: 0.8936\n",
            "Epoch 25/30\n",
            "70/70 [==============================] - 29s 409ms/step - loss: 0.0824 - acc: 0.9713 - val_loss: 0.2198 - val_acc: 0.9041\n",
            "Epoch 26/30\n",
            "70/70 [==============================] - 30s 431ms/step - loss: 0.0791 - acc: 0.9757 - val_loss: 0.2476 - val_acc: 0.9003\n",
            "Epoch 27/30\n",
            "70/70 [==============================] - 29s 420ms/step - loss: 0.0843 - acc: 0.9714 - val_loss: 0.3591 - val_acc: 0.8471\n",
            "Epoch 28/30\n",
            "70/70 [==============================] - 29s 419ms/step - loss: 0.0833 - acc: 0.9728 - val_loss: 0.2584 - val_acc: 0.8936\n",
            "Epoch 29/30\n",
            "70/70 [==============================] - 30s 429ms/step - loss: 0.0785 - acc: 0.9754 - val_loss: 0.3216 - val_acc: 0.8670\n",
            "Epoch 30/30\n",
            "70/70 [==============================] - 30s 422ms/step - loss: 0.0791 - acc: 0.9753 - val_loss: 0.2360 - val_acc: 0.9012\n"
          ],
          "name": "stdout"
        },
        {
          "output_type": "display_data",
          "data": {
            "image/png": "[encoded data removed]",
            "text/plain": [
              "<Figure size 432x288 with 1 Axes>"
            ]
          },
          "metadata": {
            "tags": []
          }
        },
        {
          "output_type": "display_data",
          "data": {
            "image/png": "[encoded data removed]",
            "text/plain": [
              "<Figure size 432x288 with 1 Axes>"
            ]
          },
          "metadata": {
            "tags": []
          }
        },
        {
          "output_type": "error",
          "ename": "NameError",
          "evalue": "ignored",
          "traceback": [
            "\u001b[0;31m---------------------------------------------------------------------------\u001b[0m",
            "\u001b[0;31mNameError\u001b[0m                                 Traceback (most recent call last)",
            "\u001b[0;32m<ipython-input-1-30277c5b507d>\u001b[0m in \u001b[0;36m<module>\u001b[0;34m()\u001b[0m\n\u001b[1;32m    130\u001b[0m     \u001b[0mbatch_size\u001b[0m \u001b[0;34m=\u001b[0m \u001b[0;36m32\u001b[0m\u001b[0;34m\u001b[0m\u001b[0;34m\u001b[0m\u001b[0m\n\u001b[1;32m    131\u001b[0m     \u001b[0mnum_classes\u001b[0m \u001b[0;34m=\u001b[0m \u001b[0;36m3\u001b[0m\u001b[0;34m\u001b[0m\u001b[0;34m\u001b[0m\u001b[0m\n\u001b[0;32m--> 132\u001b[0;31m     \u001b[0mmain\u001b[0m\u001b[0;34m(\u001b[0m\u001b[0;34m)\u001b[0m\u001b[0;34m\u001b[0m\u001b[0;34m\u001b[0m\u001b[0m\n\u001b[0m",
            "\u001b[0;32m<ipython-input-1-30277c5b507d>\u001b[0m in \u001b[0;36mmain\u001b[0;34m()\u001b[0m\n\u001b[1;32m    119\u001b[0m     \u001b[0mcompile_model\u001b[0m\u001b[0;34m(\u001b[0m\u001b[0mmodel\u001b[0m\u001b[0;34m)\u001b[0m\u001b[0;34m\u001b[0m\u001b[0;34m\u001b[0m\u001b[0m\n\u001b[1;32m    120\u001b[0m     \u001b[0mmodelFitGenerator\u001b[0m\u001b[0;34m(\u001b[0m\u001b[0mmodel\u001b[0m\u001b[0;34m)\u001b[0m\u001b[0;34m\u001b[0m\u001b[0;34m\u001b[0m\u001b[0m\n\u001b[0;32m--> 121\u001b[0;31m     \u001b[0msaveCoreMLModel\u001b[0m\u001b[0;34m(\u001b[0m\u001b[0mmodel\u001b[0m\u001b[0;34m)\u001b[0m\u001b[0;34m\u001b[0m\u001b[0;34m\u001b[0m\u001b[0m\n\u001b[0m\u001b[1;32m    122\u001b[0m \u001b[0;34m\u001b[0m\u001b[0m\n\u001b[1;32m    123\u001b[0m \u001b[0;34m\u001b[0m\u001b[0m\n",
            "\u001b[0;31mNameError\u001b[0m: name 'saveCoreMLModel' is not defined"
          ]
        }
      ]
    },
    {
      "metadata": {
        "id": "mWk0GAM_vjZ1",
        "colab_type": "text"
      },
      "cell_type": "markdown",
      "source": [
        "**FINE TUNING OF RESNET18**"
      ]
    },
    {
      "metadata": {
        "id": "Kf0k0l58vl_U",
        "colab_type": "code",
        "colab": {}
      },
      "cell_type": "code",
      "source": [
        ""
      ],
      "execution_count": 0,
      "outputs": []
    },
    {
      "metadata": {
        "id": "0M9-VVvXttbe",
        "colab_type": "text"
      },
      "cell_type": "markdown",
      "source": [
        "**VGG16 FROM GITHUB** https://github.com/flyyufelix/cnn_finetune/blob/master/vgg16.py"
      ]
    },
    {
      "metadata": {
        "id": "S3A5fDx6t19e",
        "colab_type": "code",
        "colab": {}
      },
      "cell_type": "code",
      "source": [
        "\n",
        "from keras.models import Sequential\n",
        "from keras.optimizers import SGD\n",
        "from keras.layers import Input, Dense, Convolution2D, MaxPooling2D, AveragePooling2D, ZeroPadding2D, Dropout, Flatten, merge, Reshape, Activation\n",
        "\n",
        "from sklearn.metrics import log_loss\n",
        "\n",
        "\n",
        "def vgg16_model(img_rows, img_cols, channel=1, num_classes=None):\n",
        "    \"\"\"VGG 16 Model for Keras\n",
        "    Model Schema is based on \n",
        "    https://gist.github.com/baraldilorenzo/07d7802847aaad0a35d3\n",
        "    ImageNet Pretrained Weights \n",
        "    https://drive.google.com/file/d/0Bz7KyqmuGsilT0J5dmRCM0ROVHc/view?usp=sharing\n",
        "    Parameters:\n",
        "      img_rows, img_cols - resolution of inputs\n",
        "      channel - 1 for grayscale, 3 for color \n",
        "      num_classes - number of categories for our classification task\n",
        "    \"\"\"\n",
        "    model = Sequential()\n",
        "    model.add(ZeroPadding2D((1, 1), input_shape=(img_rows, img_cols, channel)))\n",
        "    model.add(Convolution2D(64, 3, 3, activation='relu'))\n",
        "    model.add(ZeroPadding2D((1, 1)))\n",
        "    model.add(Convolution2D(64, 3, 3, activation='relu'))\n",
        "    model.add(MaxPooling2D((2, 2), strides=(2, 2), dim_ordering=\"th\"))\n",
        "\n",
        "    model.add(ZeroPadding2D((1, 1)))\n",
        "    model.add(Convolution2D(128, 3, 3, activation='relu'))\n",
        "    model.add(ZeroPadding2D((1, 1)))\n",
        "    model.add(Convolution2D(128, 3, 3, activation='relu'))\n",
        "    model.add(MaxPooling2D((2, 2), strides=(2, 2), dim_ordering=\"th\"))\n",
        "\n",
        "    model.add(ZeroPadding2D((1, 1)))\n",
        "    model.add(Convolution2D(256, 3, 3, activation='relu'))\n",
        "    model.add(ZeroPadding2D((1, 1)))\n",
        "    model.add(Convolution2D(256, 3, 3, activation='relu'))\n",
        "    model.add(ZeroPadding2D((1, 1)))\n",
        "    model.add(Convolution2D(256, 3, 3, activation='relu'))\n",
        "    model.add(MaxPooling2D((2, 2), strides=(2, 2), dim_ordering=\"th\"))\n",
        "\n",
        "    model.add(ZeroPadding2D((1, 1)))\n",
        "    model.add(Convolution2D(512, 3, 3, activation='relu'))\n",
        "    model.add(ZeroPadding2D((1, 1)))\n",
        "    model.add(Convolution2D(512, 3, 3, activation='relu'))\n",
        "    model.add(ZeroPadding2D((1, 1)))\n",
        "    model.add(Convolution2D(512, 3, 3, activation='relu'))\n",
        "    model.add(MaxPooling2D((2, 2), strides=(2, 2), dim_ordering=\"th\"))\n",
        "\n",
        "    model.add(ZeroPadding2D((1, 1)))\n",
        "    model.add(Convolution2D(512, 3, 3, activation='relu'))\n",
        "    model.add(ZeroPadding2D((1, 1)))\n",
        "    model.add(Convolution2D(512, 3, 3, activation='relu'))\n",
        "    model.add(ZeroPadding2D((1, 1)))\n",
        "    model.add(Convolution2D(512, 3, 3, activation='relu'))\n",
        "    model.add(MaxPooling2D((2, 2), strides=(2, 2), dim_ordering=\"th\"))\n",
        "\n",
        "    # Add Fully Connected Layer\n",
        "    model.add(Flatten())\n",
        "    model.add(Dense(4096, activation='relu'))\n",
        "    model.add(Dropout(0.5))\n",
        "    model.add(Dense(4096, activation='relu'))\n",
        "    model.add(Dropout(0.5))\n",
        "    model.add(Dense(1000, activation='softmax'))\n",
        "\n",
        "    # Truncate and replace softmax layer for transfer learning\n",
        "    model.layers.pop()\n",
        "    model.outputs = [model.layers[-1].output]\n",
        "    model.layers[-1].outbound_nodes = []\n",
        "    model.add(Dense(num_classes, activation='softmax'))\n",
        "\n",
        "    # Uncomment below to set the first 10 layers to non-trainable (weights will not be updated)\n",
        "    for layer in model.layers[:10]:\n",
        "        layer.trainable = False\n",
        "        \n",
        "    # Loads ImageNet pre-trained data\n",
        "    weights_model='/content/gdrive/My Drive/Bioinformatica/vgg16_weights.h5'\n",
        "    model.load_weights(weights_model, by_name=True)\n",
        "\n",
        "    # Learning rate is changed to 0.001\n",
        "    sgd = SGD(lr=1e-3, decay=1e-6, momentum=0.9, nesterov=True)\n",
        "    model.compile(optimizer=sgd, loss='categorical_crossentropy', metrics=['accuracy'])\n",
        "\n",
        "    return model\n"
      ],
      "execution_count": 0,
      "outputs": []
    },
    {
      "metadata": {
        "id": "XDFyIq3OuFgA",
        "colab_type": "code",
        "colab": {}
      },
      "cell_type": "code",
      "source": [
        "from keras.preprocessing.image import ImageDataGenerator\n",
        "\n",
        "train_path=\"/content/gdrive/My Drive/Bioinformatica/Organized dataset/Training/Patches\"\n",
        "valid_path=\"/content/gdrive/My Drive/Bioinformatica/Organized dataset/Validation/Patches\"\n",
        "test_path=\"/content/gdrive/My Drive/Bioinformatica/Organized dataset/Test/Patches\" \n",
        "  \n",
        "modelX = vgg16_model(224, 224, 3, 3)\n",
        "\n",
        "train_batches = ImageDataGenerator().flow_from_directory(train_path, target_size=(224,224), classes=['Benign', 'Healthy', 'Cancer'], batch_size=32)\n",
        "valid_batches = ImageDataGenerator().flow_from_directory(valid_path, target_size=(224,224), classes=['Benign', 'Healthy', 'Cancer'], batch_size=32)\n",
        "test_batches = ImageDataGenerator().flow_from_directory(test_path, target_size=(224,224), classes=['Benign', 'Healthy', 'Cancer'], batch_size=32)\n",
        "  \n",
        "# Start Fine-tuning\n",
        "modelX.fit_generator(train_batches,\n",
        "                    steps_per_epoch=train_batches.samples/train_batches.batch_size ,\n",
        "                    epochs=15,\n",
        "                    validation_data=valid_batches,\n",
        "                    validation_steps=valid_batches.samples/valid_batches.batch_size,\n",
        "                    verbose=1)"
      ],
      "execution_count": 0,
      "outputs": []
    },
    {
      "metadata": {
        "id": "SeKlgkfufrHE",
        "colab_type": "code",
        "colab": {
          "base_uri": "https://localhost:8080/",
          "height": 241
        },
        "outputId": "40abeba8-b7c4-497e-dc4b-18d64316d6e7"
      },
      "cell_type": "code",
      "source": [
        "#PROVA PER LEGGERE E SALVARE IN PNG LA MAP ... FUNZIONA ANCHE SE NON è ALLA MASSIMA DIMENSIONE\n",
        "\n",
        "!apt install openslide-tools\n",
        "!pip install openslide-python\n",
        "import cv2\n",
        "from PIL import Image\n",
        "import openslide\n",
        "\n",
        "slide = openslide.OpenSlide('/content/gdrive/My Drive/Bioinformatica/map_1.svs')\n",
        "\n",
        "print(\"total image size: x=%d y=%d\" % slide.dimensions)\n",
        "\n",
        "\n",
        "\n",
        "# read_region return an RGBA image containing the content of the specified region.\n",
        "\n",
        "img = slide.read_region((255,255), slide.level_count-1, (5000, 5000)) # ((x,y) = start region, 0 = level, (x,y) = size)\n",
        "img.save('/content/gdrive/My Drive/Bioinformatica/TestMap.png',format='png')\n"
      ],
      "execution_count": 19,
      "outputs": [
        {
          "output_type": "stream",
          "text": [
            "Reading package lists... Done\n",
            "Building dependency tree       \n",
            "Reading state information... Done\n",
            "openslide-tools is already the newest version (3.4.1+dfsg-2).\n",
            "The following package was automatically installed and is no longer required:\n",
            "  libnvidia-common-410\n",
            "Use 'apt autoremove' to remove it.\n",
            "0 upgraded, 0 newly installed, 0 to remove and 6 not upgraded.\n",
            "Requirement already satisfied: openslide-python in /usr/local/lib/python3.6/dist-packages (1.1.1)\n",
            "Requirement already satisfied: Pillow in /usr/local/lib/python3.6/dist-packages (from openslide-python) (4.3.0)\n",
            "Requirement already satisfied: olefile in /usr/local/lib/python3.6/dist-packages (from Pillow->openslide-python) (0.46)\n",
            "total image size: x=41000 y=25000\n"
          ],
          "name": "stdout"
        }
      ]
    },
    {
      "metadata": {
        "id": "YRPbLklaiMhI",
        "colab_type": "code",
        "colab": {
          "base_uri": "https://localhost:8080/",
          "height": 446
        },
        "outputId": "2eca8961-aa1a-468c-9b26-e1a1b20cbbf7"
      },
      "cell_type": "code",
      "source": [
        "visualize_class_activation_map('/content/gdrive/My Drive/Bioinformatica/newVGG16.h5','/content/gdrive/My Drive/Bioinformatica/TestMap.png','/content/gdrive/My Drive/Bioinformatica/')"
      ],
      "execution_count": 24,
      "outputs": [
        {
          "output_type": "error",
          "ename": "KeyError",
          "evalue": "ignored",
          "traceback": [
            "\u001b[0;31m---------------------------------------------------------------------------\u001b[0m",
            "\u001b[0;31mKeyError\u001b[0m                                  Traceback (most recent call last)",
            "\u001b[0;32m<ipython-input-24-99edb230c1f7>\u001b[0m in \u001b[0;36m<module>\u001b[0;34m()\u001b[0m\n\u001b[0;32m----> 1\u001b[0;31m \u001b[0mvisualize_class_activation_map\u001b[0m\u001b[0;34m(\u001b[0m\u001b[0;34m'/content/gdrive/My Drive/Bioinformatica/newVGG16.h5'\u001b[0m\u001b[0;34m,\u001b[0m\u001b[0;34m'/content/gdrive/My Drive/Bioinformatica/TestMap.png'\u001b[0m\u001b[0;34m,\u001b[0m\u001b[0;34m'/content/gdrive/My Drive/Bioinformatica/'\u001b[0m\u001b[0;34m)\u001b[0m\u001b[0;34m\u001b[0m\u001b[0;34m\u001b[0m\u001b[0m\n\u001b[0m",
            "\u001b[0;32m<ipython-input-23-328d078f008e>\u001b[0m in \u001b[0;36mvisualize_class_activation_map\u001b[0;34m(model_path, img_path, output_path)\u001b[0m\n\u001b[1;32m     85\u001b[0m         \u001b[0;31m#Get the 512 input weights to the softmax.\u001b[0m\u001b[0;34m\u001b[0m\u001b[0;34m\u001b[0m\u001b[0;34m\u001b[0m\u001b[0m\n\u001b[1;32m     86\u001b[0m         \u001b[0mclass_weights\u001b[0m \u001b[0;34m=\u001b[0m \u001b[0mmodel\u001b[0m\u001b[0;34m.\u001b[0m\u001b[0mlayers\u001b[0m\u001b[0;34m[\u001b[0m\u001b[0;34m-\u001b[0m\u001b[0;36m1\u001b[0m\u001b[0;34m]\u001b[0m\u001b[0;34m.\u001b[0m\u001b[0mget_weights\u001b[0m\u001b[0;34m(\u001b[0m\u001b[0;34m)\u001b[0m\u001b[0;34m[\u001b[0m\u001b[0;36m0\u001b[0m\u001b[0;34m]\u001b[0m\u001b[0;34m\u001b[0m\u001b[0;34m\u001b[0m\u001b[0m\n\u001b[0;32m---> 87\u001b[0;31m         \u001b[0mfinal_conv_layer\u001b[0m \u001b[0;34m=\u001b[0m \u001b[0mget_output_layer\u001b[0m\u001b[0;34m(\u001b[0m\u001b[0mmodel\u001b[0m\u001b[0;34m,\u001b[0m \u001b[0;34m\"conv5_3\"\u001b[0m\u001b[0;34m)\u001b[0m\u001b[0;34m\u001b[0m\u001b[0;34m\u001b[0m\u001b[0m\n\u001b[0m\u001b[1;32m     88\u001b[0m         get_output = K.function([model.layers[0].input],                     [final_conv_layer.output, \n\u001b[1;32m     89\u001b[0m         model.layers[-1].output])\n",
            "\u001b[0;32m<ipython-input-23-328d078f008e>\u001b[0m in \u001b[0;36mget_output_layer\u001b[0;34m(model, layer_name)\u001b[0m\n\u001b[1;32m     56\u001b[0m     \u001b[0;31m# get the symbolic outputs of each \"key\" layer (we gave them unique names).\u001b[0m\u001b[0;34m\u001b[0m\u001b[0;34m\u001b[0m\u001b[0;34m\u001b[0m\u001b[0m\n\u001b[1;32m     57\u001b[0m     \u001b[0mlayer_dict\u001b[0m \u001b[0;34m=\u001b[0m \u001b[0mdict\u001b[0m\u001b[0;34m(\u001b[0m\u001b[0;34m[\u001b[0m\u001b[0;34m(\u001b[0m\u001b[0mlayer\u001b[0m\u001b[0;34m.\u001b[0m\u001b[0mname\u001b[0m\u001b[0;34m,\u001b[0m \u001b[0mlayer\u001b[0m\u001b[0;34m)\u001b[0m \u001b[0;32mfor\u001b[0m \u001b[0mlayer\u001b[0m \u001b[0;32min\u001b[0m \u001b[0mmodel\u001b[0m\u001b[0;34m.\u001b[0m\u001b[0mlayers\u001b[0m\u001b[0;34m]\u001b[0m\u001b[0;34m)\u001b[0m\u001b[0;34m\u001b[0m\u001b[0;34m\u001b[0m\u001b[0m\n\u001b[0;32m---> 58\u001b[0;31m     \u001b[0mlayer\u001b[0m \u001b[0;34m=\u001b[0m \u001b[0mlayer_dict\u001b[0m\u001b[0;34m[\u001b[0m\u001b[0mlayer_name\u001b[0m\u001b[0;34m]\u001b[0m\u001b[0;34m\u001b[0m\u001b[0;34m\u001b[0m\u001b[0m\n\u001b[0m\u001b[1;32m     59\u001b[0m     \u001b[0;32mreturn\u001b[0m \u001b[0mlayer\u001b[0m\u001b[0;34m\u001b[0m\u001b[0;34m\u001b[0m\u001b[0m\n\u001b[1;32m     60\u001b[0m \u001b[0;34m\u001b[0m\u001b[0m\n",
            "\u001b[0;31mKeyError\u001b[0m: 'conv5_3'"
          ]
        }
      ]
    },
    {
      "metadata": {
        "id": "qykcvrqF2OXi",
        "colab_type": "text"
      },
      "cell_type": "markdown",
      "source": [
        "**LA CLASS ACTIVACTION MAP SENZA NON FUNZIONARE PER VIA DI UN ERRORE (COME SI LEGGE QUI SOPRA) CHE NON SO CAPIRE**"
      ]
    },
    {
      "metadata": {
        "id": "JVE-EFpr7RU0",
        "colab_type": "text"
      },
      "cell_type": "markdown",
      "source": [
        "**LINK UTILE PER SPEZZETTARE LE IMMAGINI, COLORARLE A SECONDA DELLA PREDICTION E POI RIUNIRLE: ** http://www.andrewjanowczyk.com/dividing-and-re-merging-large-images-humpty-dumpty/ (è scritto per Matlab, bisognerebbe adattarlo per Python, c'è questo tool utile per la conversione, dovesse servire https://github.com/victorlei/smop)"
      ]
    },
    {
      "metadata": {
        "id": "mUny3oQZ7o5O",
        "colab_type": "code",
        "colab": {}
      },
      "cell_type": "code",
      "source": [
        "tileSize = [2000, 2000]; % has to be a multiple of 16.\n",
        " \n",
        "input_svs_page=3; %the page of the svs file we're interested in loading\n",
        "input_svs_file='36729.svs';\n",
        "[~,baseFilename,~]=fileparts(input_svs_file);\n",
        " \n",
        "svs_adapter =PagedTiffAdapter(input_svs_file,input_svs_page); %create an adapter which modulates how the large svs file is accessed\n",
        " \n",
        "tic\n",
        "fun=@(block) imwrite(block.data,sprintf('%s_%d_%d.png',baseFilename,block.location(1),block.location(2))); %make a function which saves the individual tile with the row/column information in the filename so that we can refind this tile later\n",
        "blockproc(svs_adapter,tileSize,fun); %perform the splitting\n",
        "toc\n",
        "\n",
        "tic\n",
        "outFile='36729.tif'; %desired output filename\n",
        "inFileInfo=imfinfo(input_svs_file); %need to figure out what the final output size should be to create the emtpy tif that will be filled in\n",
        "inFileInfo=inFileInfo(input_svs_page); %imfinfo returns a struct for each individual page, we again select the page we're interested in\n",
        " \n",
        "outFileWriter = bigTiffWriter(outFile, inFileInfo.Height, inFileInfo.Width, tileSize(1), tileSize(1),true); %create another image adapter for output writing\n",
        " \n",
        "fun=@(block) imresize(repmat(imread(sprintf('%s_%d_%d_prob.png',baseFilename,block.location(1),block.location(2))),[1 1 3]),1.666666666); %load the output image, which has an expected filename (the two locations added). In this case my output is 60% smaller than the original image, so i'll scale it back up\n",
        " \n",
        "blockproc(svs_adapter,tileSize,fun,'Destination',outFileWriter); %do the blockproc again, which will result in the same row/column coordinates, except now we specify the output image adatper to write the flie outwards\n",
        " \n",
        "outFileWriter.close(); %close the file when we're done\n",
        "toc"
      ],
      "execution_count": 0,
      "outputs": []
    },
    {
      "metadata": {
        "id": "0-cTS-CL9F0I",
        "colab_type": "code",
        "colab": {}
      },
      "cell_type": "code",
      "source": [
        "#PER VEDERE GLI ERRORI DI PREDIZIONE SULLE IMMAGINI STESS PUò ESSERE ADATTATO PER VEDERE QUALE PREDICTION CORRISPONDE A QUALE IMMAGINE\n",
        "\n",
        "# Get the filenames from the generator\n",
        "fnames = validation_generator.filenames\n",
        " \n",
        "# Get the ground truth from generator\n",
        "ground_truth = validation_generator.classes\n",
        " \n",
        "# Get the label to class mapping from the generator\n",
        "label2index = validation_generator.class_indices\n",
        " \n",
        "# Getting the mapping from class index to class label\n",
        "idx2label = dict((v,k) for k,v in label2index.items())\n",
        " \n",
        "# Get the predictions from the model using the generator\n",
        "predictions = model.predict_generator(validation_generator, steps=validation_generator.samples/validation_generator.batch_size,verbose=1)\n",
        "predicted_classes = np.argmax(predictions,axis=1)\n",
        " \n",
        "errors = np.where(predicted_classes != ground_truth)[0]\n",
        "print(\"No of errors = {}/{}\".format(len(errors),validation_generator.samples))\n",
        " \n",
        "# Show the errors\n",
        "for i in range(len(errors)):\n",
        "    pred_class = np.argmax(predictions[errors[i]])\n",
        "    pred_label = idx2label[pred_class]\n",
        "     \n",
        "    title = 'Original label:{}, Prediction :{}, confidence : {:.3f}'.format(\n",
        "        fnames[errors[i]].split('/')[0],\n",
        "        pred_label,\n",
        "        predictions[errors[i]][pred_class])\n",
        "     \n",
        "    original = load_img('{}/{}'.format(validation_dir,fnames[errors[i]]))\n",
        "    plt.figure(figsize=[7,7])\n",
        "    plt.axis('off')\n",
        "    plt.title(title)\n",
        "    plt.imshow(original)\n",
        "    plt.show()"
      ],
      "execution_count": 0,
      "outputs": []
    }
  ]
}